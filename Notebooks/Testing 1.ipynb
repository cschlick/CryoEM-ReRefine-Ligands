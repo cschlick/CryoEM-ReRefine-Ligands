{
 "cells": [
  {
   "cell_type": "code",
   "execution_count": 16,
   "metadata": {},
   "outputs": [],
   "source": [
    "from iotbx.map_manager import map_manager as MapManager\n",
    "from mmtbx.model import manager as ModelManager\n",
    "from iotbx.data_manager import DataManager\n",
    "from iotbx.map_model_manager import map_model_manager as MapModelManager\n",
    "\n",
    "from cctbx import miller\n"
   ]
  },
  {
   "cell_type": "code",
   "execution_count": null,
   "metadata": {},
   "outputs": [],
   "source": []
  },
  {
   "cell_type": "code",
   "execution_count": 10,
   "metadata": {},
   "outputs": [],
   "source": [
    "# ADP from 6f1u\n",
    "model_str = \"\"\"\n",
    "\n",
    "CRYST1  804.000  804.000  804.000  90.00  90.00  90.00 P 1\n",
    "SCALE1      0.001244  0.000000  0.000000        0.00000\n",
    "SCALE2      0.000000  0.001244  0.000000        0.00000\n",
    "SCALE3      0.000000  0.000000  0.001244        0.00000\n",
    "HETATM28786  C1' ADP B 800     410.078 411.042 457.819  1.00 82.00           C\n",
    "HETATM28787  C2  ADP B 800     411.533 414.977 459.187  1.00 82.00           C\n",
    "HETATM28788  C2' ADP B 800     410.568 410.093 456.786  1.00 82.00           C\n",
    "HETATM28789  C3' ADP B 800     409.813 408.823 456.989  1.00 82.00           C\n",
    "HETATM28790  C4  ADP B 800     411.543 412.688 458.907  1.00 82.00           C\n",
    "HETATM28791  C4' ADP B 800     408.841 409.064 458.111  1.00 82.00           C\n",
    "HETATM28792  C5  ADP B 800     412.776 412.629 459.659  1.00 82.00           C\n",
    "HETATM28793  C5' ADP B 800     408.901 407.971 459.166  1.00 82.00           C\n",
    "HETATM28794  C6  ADP B 800     413.329 413.884 460.147  1.00 82.00           C\n",
    "HETATM28795  C8  ADP B 800     412.186 410.654 459.061  1.00 82.00           C\n",
    "HETATM28796  N1  ADP B 800     412.670 415.003 459.873  1.00 82.00           N\n",
    "HETATM28797  N3  ADP B 800     410.984 413.869 458.698  1.00 82.00           N\n",
    "HETATM28798  N6  ADP B 800     414.471 413.904 460.853  1.00 82.00           N\n",
    "HETATM28799  N7  ADP B 800     413.126 411.353 459.721  1.00 82.00           N\n",
    "HETATM28800  N9  ADP B 800     411.251 411.459 458.574  1.00 82.00           N\n",
    "HETATM28801  O1A ADP B 800     407.213 405.713 458.289  1.00 82.00           O\n",
    "HETATM28802  O1B ADP B 800     404.694 405.001 458.475  1.00 82.00           O1-\n",
    "HETATM28803  O2' ADP B 800     410.169 410.627 455.538  1.00 82.00           O\n",
    "HETATM28804  O2A ADP B 800     408.163 405.541 460.730  1.00 82.00           O1-\n",
    "HETATM28805  O2B ADP B 800     406.135 403.818 460.139  1.00 82.00           O\n",
    "HETATM28806  O3' ADP B 800     409.043 408.642 455.816  1.00 82.00           O\n",
    "HETATM28807  O3A ADP B 800     405.818 406.136 460.265  1.00 82.00           O\n",
    "HETATM28808  O3B ADP B 800     403.899 404.750 460.912  1.00 82.00           O\n",
    "HETATM28809  O4' ADP B 800     409.225 410.305 458.672  1.00 82.00           O\n",
    "HETATM28810  O5' ADP B 800     407.609 407.689 459.661  1.00 82.00           O\n",
    "HETATM28811  PA  ADP B 800     407.279 406.157 459.705  1.00 82.00           P\n",
    "HETATM28812  PB  ADP B 800     405.040 404.810 459.922  1.00 82.00           P\n",
    "END\n",
    "\n",
    "\"\"\"\n",
    "tst_model_file = \"test_model_ADP.pdb\""
   ]
  },
  {
   "cell_type": "code",
   "execution_count": 11,
   "metadata": {},
   "outputs": [],
   "source": [
    "dm = DataManager()\n",
    "dm.process_model_str(tst_model_file, model_str)"
   ]
  },
  {
   "cell_type": "code",
   "execution_count": 12,
   "metadata": {},
   "outputs": [],
   "source": [
    "model = dm.get_model()"
   ]
  },
  {
   "cell_type": "code",
   "execution_count": 15,
   "metadata": {},
   "outputs": [],
   "source": [
    "d_min = 3.5\n",
    "xr = model.get_xray_structure()\n",
    "f_calc = xr.structure_factors(d_min=d_min).f_calc()\n"
   ]
  },
  {
   "cell_type": "code",
   "execution_count": null,
   "metadata": {},
   "outputs": [],
   "source": [
    "self.crystal_gridding = maptbx.crystal_gridding(\n",
    "      unit_cell             = xray_structure.unit_cell(),\n",
    "      space_group_info      = xray_structure.space_group_info(),\n",
    "      pre_determined_n_real = map.accessor().all(),\n",
    "      symmetry_flags        = maptbx.use_space_group_symmetry)"
   ]
  },
  {
   "cell_type": "code",
   "execution_count": null,
   "metadata": {},
   "outputs": [],
   "source": [
    "fft_map = miller.fft_map(\n",
    "      crystal_gridding     = crystal_gridding,\n",
    "      fourier_coefficients = f_calc)"
   ]
  },
  {
   "cell_type": "code",
   "execution_count": 13,
   "metadata": {},
   "outputs": [
    {
     "data": {
      "text/plain": [
       "Model manager \n",
       "None\n",
       "Chains: 1 Residues 1 \n",
       "Working coordinate shift (0, 0, 0))"
      ]
     },
     "execution_count": 13,
     "metadata": {},
     "output_type": "execute_result"
    }
   ],
   "source": [
    "    fft_map = miller.fft_map(\n",
    "      crystal_gridding     = self.crystal_gridding,\n",
    "      fourier_coefficients = f_calc)\n",
    "    return fft_map.real_map_unpadded()"
   ]
  },
  {
   "cell_type": "code",
   "execution_count": null,
   "metadata": {},
   "outputs": [],
   "source": []
  },
  {
   "cell_type": "code",
   "execution_count": 3,
   "metadata": {},
   "outputs": [
    {
     "ename": "Sorry",
     "evalue": "Couldn't find the file ../../CryoEM_ReRefine_Ligands.bak1/data/6f1u_4169/6f1u_4169.cif",
     "output_type": "error",
     "traceback": [
      "\u001b[0;31m---------------------------------------------------------------------------\u001b[0m",
      "\u001b[0;31mSorry\u001b[0m                                     Traceback (most recent call last)",
      "\u001b[0;32m<ipython-input-3-062ea9d57b20>\u001b[0m in \u001b[0;36m<module>\u001b[0;34m()\u001b[0m\n\u001b[1;32m      4\u001b[0m \u001b[0;34m\u001b[0m\u001b[0m\n\u001b[1;32m      5\u001b[0m \u001b[0mdm\u001b[0m \u001b[0;34m=\u001b[0m \u001b[0mDataManager\u001b[0m\u001b[0;34m(\u001b[0m\u001b[0;34m)\u001b[0m\u001b[0;34m\u001b[0m\u001b[0m\n\u001b[0;32m----> 6\u001b[0;31m \u001b[0mdm\u001b[0m\u001b[0;34m.\u001b[0m\u001b[0mprocess_model_file\u001b[0m\u001b[0;34m(\u001b[0m\u001b[0mmodel_path\u001b[0m\u001b[0;34m)\u001b[0m\u001b[0;34m\u001b[0m\u001b[0m\n\u001b[0m\u001b[1;32m      7\u001b[0m \u001b[0mdm\u001b[0m\u001b[0;34m.\u001b[0m\u001b[0mprocess_real_map_file\u001b[0m\u001b[0;34m(\u001b[0m\u001b[0mmap_path\u001b[0m\u001b[0;34m)\u001b[0m\u001b[0;34m\u001b[0m\u001b[0m\n\u001b[1;32m      8\u001b[0m \u001b[0mmodel\u001b[0m \u001b[0;34m=\u001b[0m \u001b[0mdm\u001b[0m\u001b[0;34m.\u001b[0m\u001b[0mget_model\u001b[0m\u001b[0;34m(\u001b[0m\u001b[0;34m)\u001b[0m\u001b[0;34m\u001b[0m\u001b[0m\n",
      "\u001b[0;32m/home/user/Software/phenix/modules/cctbx_project/iotbx/data_manager/model.pyc\u001b[0m in \u001b[0;36mprocess_model_file\u001b[0;34m(self, filename, pdb_interpretation_extract)\u001b[0m\n\u001b[1;32m    139\u001b[0m     \u001b[0;31m# unique because any_file does not return a model object\u001b[0m\u001b[0;34m\u001b[0m\u001b[0;34m\u001b[0m\u001b[0m\n\u001b[1;32m    140\u001b[0m     \u001b[0;32mif\u001b[0m \u001b[0;34m(\u001b[0m\u001b[0mfilename\u001b[0m \u001b[0;32mnot\u001b[0m \u001b[0;32min\u001b[0m \u001b[0mself\u001b[0m\u001b[0;34m.\u001b[0m\u001b[0mget_model_names\u001b[0m\u001b[0;34m(\u001b[0m\u001b[0;34m)\u001b[0m\u001b[0;34m)\u001b[0m\u001b[0;34m:\u001b[0m\u001b[0;34m\u001b[0m\u001b[0m\n\u001b[0;32m--> 141\u001b[0;31m       \u001b[0ma\u001b[0m \u001b[0;34m=\u001b[0m \u001b[0many_file\u001b[0m\u001b[0;34m(\u001b[0m\u001b[0mfilename\u001b[0m\u001b[0;34m)\u001b[0m\u001b[0;34m\u001b[0m\u001b[0m\n\u001b[0m\u001b[1;32m    142\u001b[0m       \u001b[0;32mif\u001b[0m \u001b[0;34m(\u001b[0m\u001b[0ma\u001b[0m\u001b[0;34m.\u001b[0m\u001b[0mfile_type\u001b[0m \u001b[0;34m!=\u001b[0m \u001b[0;34m'pdb'\u001b[0m\u001b[0;34m)\u001b[0m\u001b[0;34m:\u001b[0m\u001b[0;34m\u001b[0m\u001b[0m\n\u001b[1;32m    143\u001b[0m         \u001b[0;32mraise\u001b[0m \u001b[0mSorry\u001b[0m\u001b[0;34m(\u001b[0m\u001b[0;34m'%s is not a recognized model file'\u001b[0m \u001b[0;34m%\u001b[0m \u001b[0mfilename\u001b[0m\u001b[0;34m)\u001b[0m\u001b[0;34m\u001b[0m\u001b[0m\n",
      "\u001b[0;32m/home/user/Software/phenix/modules/cctbx_project/iotbx/file_reader.pyc\u001b[0m in \u001b[0;36many_file\u001b[0;34m(file_name, get_processed_file, valid_types, allow_directories, force_type, input_class, raise_sorry_if_errors, raise_sorry_if_not_expected_format)\u001b[0m\n\u001b[1;32m    204\u001b[0m     \u001b[0mforce_type\u001b[0m \u001b[0;34m=\u001b[0m \u001b[0;34m\"hkl\"\u001b[0m\u001b[0;34m\u001b[0m\u001b[0m\n\u001b[1;32m    205\u001b[0m   \u001b[0;32mif\u001b[0m \u001b[0;32mnot\u001b[0m \u001b[0mos\u001b[0m\u001b[0;34m.\u001b[0m\u001b[0mpath\u001b[0m\u001b[0;34m.\u001b[0m\u001b[0mexists\u001b[0m\u001b[0;34m(\u001b[0m\u001b[0mfile_name\u001b[0m\u001b[0;34m)\u001b[0m\u001b[0;34m:\u001b[0m\u001b[0;34m\u001b[0m\u001b[0m\n\u001b[0;32m--> 206\u001b[0;31m     \u001b[0;32mraise\u001b[0m \u001b[0mSorry\u001b[0m\u001b[0;34m(\u001b[0m\u001b[0;34m\"Couldn't find the file %s\"\u001b[0m \u001b[0;34m%\u001b[0m \u001b[0mfile_name\u001b[0m\u001b[0;34m)\u001b[0m\u001b[0;34m\u001b[0m\u001b[0m\n\u001b[0m\u001b[1;32m    207\u001b[0m   \u001b[0;32melif\u001b[0m \u001b[0mos\u001b[0m\u001b[0;34m.\u001b[0m\u001b[0mpath\u001b[0m\u001b[0;34m.\u001b[0m\u001b[0misdir\u001b[0m\u001b[0;34m(\u001b[0m\u001b[0mfile_name\u001b[0m\u001b[0;34m)\u001b[0m\u001b[0;34m:\u001b[0m\u001b[0;34m\u001b[0m\u001b[0m\n\u001b[1;32m    208\u001b[0m     \u001b[0;32mif\u001b[0m \u001b[0;32mnot\u001b[0m \u001b[0mallow_directories\u001b[0m \u001b[0;34m:\u001b[0m\u001b[0;34m\u001b[0m\u001b[0m\n",
      "\u001b[0;31mSorry\u001b[0m: Couldn't find the file ../../CryoEM_ReRefine_Ligands.bak1/data/6f1u_4169/6f1u_4169.cif"
     ]
    }
   ],
   "source": [
    "model_path = \"../../CryoEM_ReRefine_Ligands.bak1/data/6f1u_4169/6f1u_4169.cif\"\n",
    "map_path = \"../../CryoEM_ReRefine_Ligands.bak1/data/6f1u_4169/6f1u_4169.map\"\n",
    "\n",
    "\n",
    "dm.process_model_file(model_path)\n",
    "dm.process_real_map_file(map_path)\n",
    "model = dm.get_model()\n",
    "\n",
    "# this is necessary for cryo-em models without crystal symmetry. Maybe move this upstream later\n",
    "if model.crystal_symmetry() is None:\n",
    "    from cctbx.maptbx.box import shift_and_box_model\n",
    "    model = shift_and_box_model(model)"
   ]
  },
  {
   "cell_type": "code",
   "execution_count": null,
   "metadata": {},
   "outputs": [],
   "source": []
  }
 ],
 "metadata": {
  "kernelspec": {
   "display_name": "phenix",
   "language": "python",
   "name": "phenix"
  },
  "language_info": {
   "codemirror_mode": {
    "name": "ipython",
    "version": 2
   },
   "file_extension": ".py",
   "mimetype": "text/x-python",
   "name": "python",
   "nbconvert_exporter": "python",
   "pygments_lexer": "ipython2",
   "version": "2.7.15"
  }
 },
 "nbformat": 4,
 "nbformat_minor": 2
}
