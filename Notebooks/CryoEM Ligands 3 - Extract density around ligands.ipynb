{
 "cells": [
  {
   "cell_type": "code",
   "execution_count": 37,
   "metadata": {},
   "outputs": [],
   "source": [
    "from iotbx.map_manager import map_manager as MapManager\n",
    "from mmtbx.model import manager as ModelManager\n",
    "from iotbx.data_manager import DataManager\n",
    "from iotbx.map_model_manager import map_model_manager as MapModelManager\n",
    "from cctbx.crystal import symmetry"
   ]
  },
  {
   "cell_type": "code",
   "execution_count": 2,
   "metadata": {},
   "outputs": [],
   "source": [
    "import os\n",
    "import pickle\n",
    "from multiprocessing import Pool\n",
    "from collections import Counter\n",
    "import numpy as np\n",
    "import shutil"
   ]
  },
  {
   "cell_type": "code",
   "execution_count": 3,
   "metadata": {},
   "outputs": [
    {
     "name": "stdout",
     "output_type": "stream",
     "text": [
      "83 entries\n"
     ]
    }
   ],
   "source": [
    "# read in nucleotide entries\n",
    "nucleotide_entries_path = \"data/nucleotide_entries.pkl\"\n",
    "working_directory = \"../../maps_and_models_ligand_extracted\"\n",
    "error_log = \"logs/generate_ligand_density.log\"\n",
    "if os.path.exists(error_log):\n",
    "    os.remove(error_log)\n",
    "\n",
    "\n",
    "with open(nucleotide_entries_path,\"rb\") as fh:\n",
    "    nucleotide_entries = pickle.load(fh)\n",
    "    \n",
    "error_entries = [entry for entry in nucleotide_entries if entry.error != None]\n",
    "nucleotide_entries = [entry for entry in nucleotide_entries if entry.error == None]\n",
    "\n",
    "# because we can't deal with multiple ligands, filter for entries with only one type of ligand (and nucleotide)\n",
    "nucleotide_entries_single_lig = [entry for entry in nucleotide_entries if len(entry.composition._result.other_cnts)==1]\n",
    "print(str(len(nucleotide_entries_single_lig))+\" entries\")"
   ]
  },
  {
   "cell_type": "code",
   "execution_count": 47,
   "metadata": {},
   "outputs": [],
   "source": [
    "entry = nucleotide_entries[101]\n",
    "dm = DataManager()\n",
    "dm.process_model_file(entry.model_file)\n",
    "model = dm.get_model()"
   ]
  },
  {
   "cell_type": "code",
   "execution_count": 48,
   "metadata": {},
   "outputs": [],
   "source": [
    "model.set_crystal_symmetry(symmetry(unit_cell=(1, 1, 1, 90, 90, 90),  space_group_symbol=\"P1\"))"
   ]
  },
  {
   "cell_type": "code",
   "execution_count": 50,
   "metadata": {},
   "outputs": [
    {
     "name": "stdout",
     "output_type": "stream",
     "text": [
      "Help on method set_crystal_symmetry in module mmtbx.model.model:\n",
      "\n",
      "set_crystal_symmetry(self, crystal_symmetry) method of mmtbx.model.model.manager instance\n",
      "    Set the crystal_symmetry, keeping sites_cart the same\n",
      "    \n",
      "    NOTE: Normally instead use\n",
      "      shift_model_and_set_crystal_symmetry(shift_cart=shift_cart) and\n",
      "    shift_model_back() to shift the coordinates of the model.\n",
      "    \n",
      "    Uses set_crystal_symmetry_and_sites_cart because sites_cart have to\n",
      "    be replaced in either case.\n",
      "\n"
     ]
    }
   ],
   "source": [
    "help(model.set_crystal_symmetry)"
   ]
  },
  {
   "cell_type": "code",
   "execution_count": 49,
   "metadata": {},
   "outputs": [],
   "source": [
    "model.crystal_symmetry()"
   ]
  },
  {
   "cell_type": "code",
   "execution_count": 41,
   "metadata": {},
   "outputs": [],
   "source": [
    "#sel_str_other = \"not (water or nucleotide or protein)\"\n",
    "sel_str_other = \"resid 100\""
   ]
  },
  {
   "cell_type": "code",
   "execution_count": 42,
   "metadata": {},
   "outputs": [],
   "source": [
    "sel = model.selection(\"resid 100\")"
   ]
  },
  {
   "cell_type": "code",
   "execution_count": 43,
   "metadata": {},
   "outputs": [
    {
     "ename": "AssertionError",
     "evalue": "",
     "output_type": "error",
     "traceback": [
      "\u001b[0;31m---------------------------------------------------------------------------\u001b[0m",
      "\u001b[0;31mAssertionError\u001b[0m                            Traceback (most recent call last)",
      "\u001b[0;32m<ipython-input-43-097c779e532d>\u001b[0m in \u001b[0;36m<module>\u001b[0;34m()\u001b[0m\n\u001b[1;32m      1\u001b[0m \u001b[0msel\u001b[0m \u001b[0;34m=\u001b[0m \u001b[0mmodel\u001b[0m\u001b[0;34m.\u001b[0m\u001b[0mselection\u001b[0m\u001b[0;34m(\u001b[0m\u001b[0;34m\"resid 100\"\u001b[0m\u001b[0;34m)\u001b[0m\u001b[0;34m\u001b[0m\u001b[0m\n\u001b[0;32m----> 2\u001b[0;31m \u001b[0mmodel\u001b[0m\u001b[0;34m.\u001b[0m\u001b[0mselect\u001b[0m\u001b[0;34m(\u001b[0m\u001b[0msel\u001b[0m\u001b[0;34m)\u001b[0m\u001b[0;34m\u001b[0m\u001b[0m\n\u001b[0m",
      "\u001b[0;32m/net/cci-filer3/home/cschlick/Software/phenix/modules/cctbx_project/mmtbx/model/model.pyc\u001b[0m in \u001b[0;36mselect\u001b[0;34m(self, selection)\u001b[0m\n\u001b[1;32m   2868\u001b[0m     \u001b[0;32mif\u001b[0m \u001b[0mnew_riding_h_manager\u001b[0m \u001b[0;32mis\u001b[0m \u001b[0;32mnot\u001b[0m \u001b[0mNone\u001b[0m\u001b[0;34m:\u001b[0m\u001b[0;34m\u001b[0m\u001b[0m\n\u001b[1;32m   2869\u001b[0m       \u001b[0mnew\u001b[0m\u001b[0;34m.\u001b[0m\u001b[0mriding_h_manager\u001b[0m \u001b[0;34m=\u001b[0m \u001b[0mnew_riding_h_manager\u001b[0m\u001b[0;34m\u001b[0m\u001b[0m\n\u001b[0;32m-> 2870\u001b[0;31m     \u001b[0mnew\u001b[0m\u001b[0;34m.\u001b[0m\u001b[0mget_xray_structure\u001b[0m\u001b[0;34m(\u001b[0m\u001b[0;34m)\u001b[0m\u001b[0;34m.\u001b[0m\u001b[0mscattering_type_registry\u001b[0m\u001b[0;34m(\u001b[0m\u001b[0;34m)\u001b[0m\u001b[0;34m\u001b[0m\u001b[0m\n\u001b[0m\u001b[1;32m   2871\u001b[0m     \u001b[0mnew\u001b[0m\u001b[0;34m.\u001b[0m\u001b[0mset_refinement_flags\u001b[0m\u001b[0;34m(\u001b[0m\u001b[0mnew_refinement_flags\u001b[0m\u001b[0;34m)\u001b[0m\u001b[0;34m\u001b[0m\u001b[0m\n\u001b[1;32m   2872\u001b[0m     \u001b[0mnew\u001b[0m\u001b[0;34m.\u001b[0m\u001b[0mscattering_dict_info\u001b[0m \u001b[0;34m=\u001b[0m \u001b[0msdi\u001b[0m\u001b[0;34m\u001b[0m\u001b[0m\n",
      "\u001b[0;32m/net/cci-filer3/home/cschlick/Software/phenix/modules/cctbx_project/mmtbx/model/model.pyc\u001b[0m in \u001b[0;36mget_xray_structure\u001b[0;34m(self)\u001b[0m\n\u001b[1;32m    945\u001b[0m   \u001b[0;32mdef\u001b[0m \u001b[0mget_xray_structure\u001b[0m\u001b[0;34m(\u001b[0m\u001b[0mself\u001b[0m\u001b[0;34m)\u001b[0m\u001b[0;34m:\u001b[0m\u001b[0;34m\u001b[0m\u001b[0m\n\u001b[1;32m    946\u001b[0m     \u001b[0;32mif\u001b[0m \u001b[0mself\u001b[0m\u001b[0;34m.\u001b[0m\u001b[0m_xray_structure\u001b[0m \u001b[0;32mis\u001b[0m \u001b[0mNone\u001b[0m\u001b[0;34m:\u001b[0m\u001b[0;34m\u001b[0m\u001b[0m\n\u001b[0;32m--> 947\u001b[0;31m       \u001b[0mself\u001b[0m\u001b[0;34m.\u001b[0m\u001b[0m_create_xray_structure\u001b[0m\u001b[0;34m(\u001b[0m\u001b[0;34m)\u001b[0m\u001b[0;34m\u001b[0m\u001b[0m\n\u001b[0m\u001b[1;32m    948\u001b[0m     \u001b[0;32mreturn\u001b[0m \u001b[0mself\u001b[0m\u001b[0;34m.\u001b[0m\u001b[0m_xray_structure\u001b[0m\u001b[0;34m\u001b[0m\u001b[0m\n\u001b[1;32m    949\u001b[0m \u001b[0;34m\u001b[0m\u001b[0m\n",
      "\u001b[0;32m/net/cci-filer3/home/cschlick/Software/phenix/modules/cctbx_project/mmtbx/model/model.pyc\u001b[0m in \u001b[0;36m_create_xray_structure\u001b[0;34m(self)\u001b[0m\n\u001b[1;32m    971\u001b[0m     \u001b[0;32melse\u001b[0m\u001b[0;34m:\u001b[0m\u001b[0;34m\u001b[0m\u001b[0m\n\u001b[1;32m    972\u001b[0m       \u001b[0mcs\u001b[0m \u001b[0;34m=\u001b[0m \u001b[0mself\u001b[0m\u001b[0;34m.\u001b[0m\u001b[0mcrystal_symmetry\u001b[0m\u001b[0;34m(\u001b[0m\u001b[0;34m)\u001b[0m\u001b[0;34m\u001b[0m\u001b[0m\n\u001b[0;32m--> 973\u001b[0;31m       \u001b[0;32massert\u001b[0m \u001b[0mcs\u001b[0m \u001b[0;32mis\u001b[0m \u001b[0;32mnot\u001b[0m \u001b[0mNone\u001b[0m \u001b[0;31m# You cannot create xray_structure without\u001b[0m\u001b[0;34m\u001b[0m\u001b[0m\n\u001b[0m\u001b[1;32m    974\u001b[0m       \u001b[0;31m#                      # crystal symmetry. And if you can then it is wrong.\u001b[0m\u001b[0;34m\u001b[0m\u001b[0;34m\u001b[0m\u001b[0m\n\u001b[1;32m    975\u001b[0m       self._xray_structure = self._pdb_hierarchy.extract_xray_structure(\n",
      "\u001b[0;31mAssertionError\u001b[0m: "
     ]
    }
   ],
   "source": [
    "sel = model.selection(\"resid 100\")\n",
    "model.select(sel)"
   ]
  },
  {
   "cell_type": "code",
   "execution_count": null,
   "metadata": {},
   "outputs": [],
   "source": [
    "\n",
    "\n",
    "for rg in self.select(asc.selection(sel_str_other)).residue_groups():\n",
    "    for resname in rg.unique_resnames():\n",
    "        other_cnts[resname]+=1"
   ]
  },
  {
   "cell_type": "code",
   "execution_count": null,
   "metadata": {},
   "outputs": [],
   "source": []
  },
  {
   "cell_type": "code",
   "execution_count": null,
   "metadata": {},
   "outputs": [],
   "source": []
  },
  {
   "cell_type": "code",
   "execution_count": 7,
   "metadata": {},
   "outputs": [],
   "source": [
    "def entry_to_ligand_density(entry):\n",
    "    \"\"\"\n",
    "    1. read in entry\n",
    "    2. find ligands\n",
    "    3. extract density\n",
    "    4. write density to disk\n",
    "    \n",
    "    \"\"\"\n",
    "    \n",
    "\n",
    "    ligand_code = entry.composition._result.other_cnts.keys()[0]\n",
    "\n",
    "    # check if we have a folder in the working directory\n",
    "    entry_path = working_directory+\"/\"+entry.entry\n",
    "\n",
    "    # uncomment to force making all entry directories, even if present\n",
    "    if os.path.exists(entry_path):\n",
    "        shutil.rmtree(entry_path)\n",
    "\n",
    "    if not os.path.exists(entry_path): # only process if not already present\n",
    "        os.mkdir(entry_path)\n",
    "\n",
    "        # this needs to be fixed, we should have to copy the uncompressed file to open it\n",
    "        with gzip.open(entry.map_file, 'rb') as fh_in:\n",
    "            unzip_map_path = entry_path+\"/\"+entry.map_file.split(\"/\")[-1].strip(\".gz\")\n",
    "            with open(unzip_map_path, 'wb') as fh_out:\n",
    "                shutil.copyfileobj(fh_in, fh_out)\n",
    "\n",
    "\n",
    "        # All the below is ugly, but it is the only way I was able to get it to work. The map and model is ready in N+1 times where N is the number of ligands\n",
    "        map_manager = MapManager(unzip_map_path)\n",
    "        dm = DataManager()\n",
    "        dm.process_model_file(entry.model_file)\n",
    "        model_manager = dm.get_model()\n",
    "        h0 = dm.get_model().get_hierarchy()\n",
    "        sel0 = h0.atom_selection_cache().selection(\"not (water or nucleotide or protein)\")\n",
    "        h1 = h0.select(sel0)\n",
    "        chain_ids = [chain.id for chain in h1.chains()]\n",
    "\n",
    "\n",
    "        for chain_id in chain_ids:\n",
    "            map_manager = MapManager(unzip_map_path)\n",
    "            dm = DataManager()\n",
    "            dm.process_model_file(entry.model_file)\n",
    "            model_manager = dm.get_model()\n",
    "            h0 = dm.get_model().get_hierarchy()\n",
    "            sel0 = h0.atom_selection_cache().selection(\"not (water or nucleotide or protein)\") # can we directly select the ligands?\n",
    "            h1 = h0.select(sel0)\n",
    "            sel1 = h1.atom_selection_cache().selection(\"chain \"+chain_id)\n",
    "            h2 = h1.select(sel1)\n",
    "            model_manager_ligand = ModelManager(None,pdb_hierarchy=h2)\n",
    "\n",
    "\n",
    "            map_model_manager=MapModelManager(map_manager=map_manager, model=model_manager_ligand)\n",
    "            boxed_mmm = map_model_manager.extract_all_maps_around_model()\n",
    "            small_map_manager=boxed_mmm.map_manager()\n",
    "            small_map_manager.write_map(entry_path+\"/\"+\"ligand_\"+ligand_code+\"_\"+chain_id+\".map\") # save as gz?\n",
    "\n",
    "            small_model=boxed_mmm.model()\n",
    "            boxed_mmm.write_model(entry_path+\"/\"+\"ligand_\"+ligand_code+\"_\"+chain_id+\".pdb\") # write as cif?\n"
   ]
  },
  {
   "cell_type": "code",
   "execution_count": 12,
   "metadata": {},
   "outputs": [],
   "source": [
    "from multiprocessing import Pool"
   ]
  },
  {
   "cell_type": "code",
   "execution_count": 13,
   "metadata": {},
   "outputs": [],
   "source": [
    "# run the density extraction in parallel\n",
    "p = Pool(21)\n",
    "results = p.map(entry_to_ligand_density,nucleotide_entries_single_lig)"
   ]
  },
  {
   "cell_type": "code",
   "execution_count": null,
   "metadata": {},
   "outputs": [],
   "source": []
  }
 ],
 "metadata": {
  "kernelspec": {
   "display_name": "phenix",
   "language": "python",
   "name": "phenix"
  },
  "language_info": {
   "codemirror_mode": {
    "name": "ipython",
    "version": 2
   },
   "file_extension": ".py",
   "mimetype": "text/x-python",
   "name": "python",
   "nbconvert_exporter": "python",
   "pygments_lexer": "ipython2",
   "version": "2.7.15"
  }
 },
 "nbformat": 4,
 "nbformat_minor": 4
}
