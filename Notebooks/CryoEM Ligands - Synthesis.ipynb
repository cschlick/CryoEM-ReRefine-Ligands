{
 "cells": [
  {
   "cell_type": "code",
   "execution_count": 68,
   "metadata": {},
   "outputs": [],
   "source": [
    "from iotbx.map_manager import map_manager as MapManager\n",
    "from mmtbx.model import manager as ModelManager\n",
    "from iotbx.data_manager import DataManager\n",
    "from iotbx.map_model_manager import map_model_manager as MapModelManager\n",
    "\n",
    "from libtbx import group_args\n",
    "from mmtbx.maps.correlation import five_cc"
   ]
  },
  {
   "cell_type": "markdown",
   "metadata": {},
   "source": [
    "## Define functions"
   ]
  },
  {
   "cell_type": "code",
   "execution_count": 115,
   "metadata": {},
   "outputs": [],
   "source": [
    "def extract_ligands(model,desired_resnames = [], ignored_resnames=[\"UNK\"]):\n",
    "    \"\"\"\n",
    "    :param model: A mmtbx.model.model_manager object\n",
    "    :param desired_resnames: a list of residue names to extract. If empty, extract all\n",
    "    :param ignored_resnames: a list of residue names to ignore\n",
    "    \n",
    "    :return: a list of group_args objects the the properties:\n",
    "        resname: the residue name\n",
    "        ligand_model: a model object containing only one ligand\n",
    "        \n",
    "    \"\"\"\n",
    "    \n",
    "    model = dm.get_model()\n",
    "\n",
    "    # this is necessary for cryo-em models without crystal symmetry. Maybe move this upstream later\n",
    "    if model.crystal_symmetry() is None:\n",
    "        from cctbx.maptbx.box import shift_and_box_model\n",
    "        model = shift_and_box_model(model)\n",
    "\n",
    "    \n",
    "    sel_str_other = \"not (water or nucleotide or protein)\"\n",
    "    other_model = model.select(model.selection(sel_str_other))\n",
    "    ligand_models = []\n",
    "    for rg in other_model.get_hierarchy().residue_groups():\n",
    "        unique_resnames = rg.unique_resnames()\n",
    "        assert (len(unique_resnames)==1) # at the moment, anticipate that each residue group has 1 residue name\n",
    "        resname = unique_resnames[0]\n",
    "        if resname not in ignored_resnames:\n",
    "            if (len(desired_resnames) ==0) or resname in desired_resnames:\n",
    "                atoms = rg.atoms()\n",
    "                atoms_sel = atoms.extract_i_seq()\n",
    "                ligand_model = other_model.select(atoms_sel)\n",
    "                group = group_args(resname=resname,model=ligand_model)\n",
    "                ligand_models.append(group)\n",
    "    return ligand_models"
   ]
  },
  {
   "cell_type": "code",
   "execution_count": 136,
   "metadata": {},
   "outputs": [],
   "source": [
    "def ligands_ccmask(data_manager,d_min=1):\n",
    "    \"\"\"\n",
    "    :param data_manager: A data manager instance that contains a model and a real map\n",
    "    :param d_min: the resolution of the real space map contained in data manager. (maybe accessible via data_manager?)\n",
    "    :return: \n",
    "    \"\"\"\n",
    "    dm = data_manager\n",
    "    \n",
    "    ligands = extract_ligands(model)\n",
    "    \n",
    "    ccmask_values = []\n",
    "    for ligand in ligands:\n",
    "        map_model_manager=MapModelManager(map_manager=dm.get_real_map(), model=ligand.model,ignore_symmetry_conflicts=True)\n",
    "        boxed_mmm = map_model_manager.extract_all_maps_around_model()\n",
    "        ligand_mm=boxed_mmm.map_manager()\n",
    "        ligand_model=boxed_mmm.model()\n",
    "        \n",
    "        # five_cc is pretty slow... can we use a lower level func?\n",
    "        five_cc_obj = five_cc(\n",
    "                       ligand_mm.map_data(),\n",
    "                       ligand_model.get_xray_structure(),\n",
    "                       d_min,\n",
    "                       box=None,\n",
    "                       keep_map_calc=False,\n",
    "                       compute_cc_box=False,\n",
    "                       compute_cc_image=False,\n",
    "                       compute_cc_mask=True,\n",
    "                       compute_cc_volume=False,\n",
    "                       compute_cc_peaks=False)\n",
    " \n",
    "        \n",
    "\n",
    "        ligand.ccmask = five_cc_obj.result()[\"cc_mask\"]\n",
    "    return ligands"
   ]
  },
  {
   "cell_type": "markdown",
   "metadata": {},
   "source": [
    "## Instantiate a DataManager object from data on disk"
   ]
  },
  {
   "cell_type": "code",
   "execution_count": 90,
   "metadata": {},
   "outputs": [],
   "source": [
    "model_path = \"data/6f1u_4169/6f1u_4169.cif\"\n",
    "map_path = \"data/6f1u_4169/6f1u_4169.map\"\n",
    "\n",
    "\n",
    "dm = DataManager()\n",
    "dm.process_model_file(model_path)\n",
    "dm.process_real_map_file(map_path)\n",
    "model = dm.get_model()\n",
    "\n",
    "# this is necessary for cryo-em models without crystal symmetry. Maybe move this upstream later\n",
    "if model.crystal_symmetry() is None:\n",
    "    from cctbx.maptbx.box import shift_and_box_model\n",
    "    model = shift_and_box_model(model)"
   ]
  },
  {
   "cell_type": "code",
   "execution_count": 138,
   "metadata": {},
   "outputs": [],
   "source": [
    "ligands_results = ligands_ccmask(dm,d_min=3.4)"
   ]
  },
  {
   "cell_type": "code",
   "execution_count": 139,
   "metadata": {},
   "outputs": [
    {
     "data": {
      "text/plain": [
       "[group_args\n",
       "   ccmask                         : 0.841597012587\n",
       "   model                          : Model manager \n",
       " Unit cell: (804, 804, 804, 90, 90, 90) Space group: P 1 (No. 1)\n",
       " Chains: 1 Residues 1 \n",
       " Working coordinate shift (0.0, 0.0, 0.0))\n",
       "   resname                        : ADP, group_args\n",
       "   ccmask                         : 0.820953325418\n",
       "   model                          : Model manager \n",
       " Unit cell: (804, 804, 804, 90, 90, 90) Space group: P 1 (No. 1)\n",
       " Chains: 1 Residues 1 \n",
       " Working coordinate shift (0.0, 0.0, 0.0))\n",
       "   resname                        : ADP, group_args\n",
       "   ccmask                         : 0.810208459439\n",
       "   model                          : Model manager \n",
       " Unit cell: (804, 804, 804, 90, 90, 90) Space group: P 1 (No. 1)\n",
       " Chains: 1 Residues 1 \n",
       " Working coordinate shift (0.0, 0.0, 0.0))\n",
       "   resname                        : ADP]"
      ]
     },
     "execution_count": 139,
     "metadata": {},
     "output_type": "execute_result"
    }
   ],
   "source": [
    "ligands_results"
   ]
  },
  {
   "cell_type": "code",
   "execution_count": null,
   "metadata": {},
   "outputs": [],
   "source": []
  }
 ],
 "metadata": {
  "kernelspec": {
   "display_name": "phenix",
   "language": "python",
   "name": "phenix"
  },
  "language_info": {
   "codemirror_mode": {
    "name": "ipython",
    "version": 2
   },
   "file_extension": ".py",
   "mimetype": "text/x-python",
   "name": "python",
   "nbconvert_exporter": "python",
   "pygments_lexer": "ipython2",
   "version": "2.7.15"
  }
 },
 "nbformat": 4,
 "nbformat_minor": 2
}
