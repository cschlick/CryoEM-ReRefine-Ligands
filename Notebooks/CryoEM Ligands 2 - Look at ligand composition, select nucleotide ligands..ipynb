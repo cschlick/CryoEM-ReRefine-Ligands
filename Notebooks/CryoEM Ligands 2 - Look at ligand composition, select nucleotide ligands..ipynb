{
 "cells": [
  {
   "cell_type": "code",
   "execution_count": 1,
   "metadata": {},
   "outputs": [],
   "source": [
    "from iotbx.map_manager import map_manager as MapManager\n",
    "from mmtbx.model import manager as ModelManager\n",
    "from iotbx.data_manager import DataManager\n",
    "from iotbx.map_model_manager import map_model_manager as MapModelManager"
   ]
  },
  {
   "cell_type": "code",
   "execution_count": 13,
   "metadata": {},
   "outputs": [],
   "source": [
    "import os\n",
    "import pickle\n",
    "from multiprocessing import Pool\n",
    "from collections import Counter\n",
    "import numpy as np\n",
    "from collections import OrderedDict\n",
    "import operator\n",
    "import matplotlib.pyplot as plt\n",
    "%matplotlib inline"
   ]
  },
  {
   "cell_type": "code",
   "execution_count": 62,
   "metadata": {},
   "outputs": [],
   "source": [
    "entry_composition_path = \"data/entry_composition.pkl\" #list of group_args objects\n",
    "with open(entry_composition_path,\"rb\") as fh:\n",
    "    entry_composition_list = pickle.load(fh)"
   ]
  },
  {
   "cell_type": "code",
   "execution_count": 4,
   "metadata": {},
   "outputs": [],
   "source": [
    "ligand_list = []\n",
    "for entry in entry_composition_list:\n",
    "\n",
    "    composition = entry.composition\n",
    "    ligands = composition._result.other_cnts.keys()\n",
    "    for ligand in ligands:\n",
    "        ligand_list.append(ligand)"
   ]
  },
  {
   "cell_type": "code",
   "execution_count": 29,
   "metadata": {},
   "outputs": [],
   "source": [
    "ligand_counter = Counter(ligand_list)"
   ]
  },
  {
   "cell_type": "code",
   "execution_count": 46,
   "metadata": {},
   "outputs": [],
   "source": [
    "ligand_counter_sorted = OrderedDict(sorted(ligand_counter.items(), key=operator.itemgetter(1),reverse=True))"
   ]
  },
  {
   "cell_type": "code",
   "execution_count": 56,
   "metadata": {},
   "outputs": [
    {
     "data": {
      "text/plain": [
       "([<matplotlib.axis.XTick at 0x7fbd48448590>,\n",
       "  <matplotlib.axis.XTick at 0x7fbd4842ae90>,\n",
       "  <matplotlib.axis.XTick at 0x7fbd4804bd90>,\n",
       "  <matplotlib.axis.XTick at 0x7fbd48c61090>,\n",
       "  <matplotlib.axis.XTick at 0x7fbd48c61b10>,\n",
       "  <matplotlib.axis.XTick at 0x7fbd48c5e090>,\n",
       "  <matplotlib.axis.XTick at 0x7fbd48c5eb90>,\n",
       "  <matplotlib.axis.XTick at 0x7fbd48c61910>,\n",
       "  <matplotlib.axis.XTick at 0x7fbd48c5e290>,\n",
       "  <matplotlib.axis.XTick at 0x7fbd4840aa50>,\n",
       "  <matplotlib.axis.XTick at 0x7fbd4840a290>,\n",
       "  <matplotlib.axis.XTick at 0x7fbd4840a410>,\n",
       "  <matplotlib.axis.XTick at 0x7fbd4840f910>,\n",
       "  <matplotlib.axis.XTick at 0x7fbd4840fc50>,\n",
       "  <matplotlib.axis.XTick at 0x7fbd4840f110>,\n",
       "  <matplotlib.axis.XTick at 0x7fbd4843bcd0>,\n",
       "  <matplotlib.axis.XTick at 0x7fbd4843bfd0>,\n",
       "  <matplotlib.axis.XTick at 0x7fbd4840f9d0>,\n",
       "  <matplotlib.axis.XTick at 0x7fbd48c5e250>,\n",
       "  <matplotlib.axis.XTick at 0x7fbd4843b1d0>],\n",
       " <a list of 20 Text xticklabel objects>)"
      ]
     },
     "execution_count": 56,
     "metadata": {},
     "output_type": "execute_result"
    },
    {
     "data": {
      "image/png": "[encoded data removed]",
      "text/plain": [
       "<Figure size 1200x800 with 1 Axes>"
      ]
     },
     "metadata": {},
     "output_type": "display_data"
    }
   ],
   "source": [
    "labels, values = zip(*ligand_counter_sorted.items()[:20])\n",
    "\n",
    "indexes = np.arange(len(labels))\n",
    "width = 1\n",
    "\n",
    "fig=plt.figure(figsize=(12,8), dpi= 100, facecolor='w', edgecolor='k')\n",
    "plt.bar(indexes, values, width)\n",
    "plt.xticks(indexes + width * 0.5, labels)\n"
   ]
  },
  {
   "cell_type": "code",
   "execution_count": 63,
   "metadata": {},
   "outputs": [],
   "source": [
    "# get entries with ADP, ATP, or GTP\n",
    "nucleotide_entries = []\n",
    "for entry in entry_composition_list:\n",
    "    composition = entry.composition\n",
    "    ligands = composition._result.other_cnts.keys()\n",
    "    if (\"ATP\" in ligands) or (\"ADP\" in ligands) or (\"GTP\" in ligands):\n",
    "        nucleotide_entries.append(entry)"
   ]
  },
  {
   "cell_type": "code",
   "execution_count": 65,
   "metadata": {},
   "outputs": [],
   "source": [
    "nucleotide_entries_path = \"data/nucleotide_entries.pkl\"\n",
    "with open(nucleotide_entries_path,\"wb\") as fh:\n",
    "    pickle.dump(nucleotide_entries,fh)"
   ]
  },
  {
   "cell_type": "code",
   "execution_count": null,
   "metadata": {},
   "outputs": [],
   "source": []
  }
 ],
 "metadata": {
  "kernelspec": {
   "display_name": "phenix",
   "language": "python",
   "name": "phenix"
  },
  "language_info": {
   "codemirror_mode": {
    "name": "ipython",
    "version": 2
   },
   "file_extension": ".py",
   "mimetype": "text/x-python",
   "name": "python",
   "nbconvert_exporter": "python",
   "pygments_lexer": "ipython2",
   "version": "2.7.15"
  }
 },
 "nbformat": 4,
 "nbformat_minor": 4
}
