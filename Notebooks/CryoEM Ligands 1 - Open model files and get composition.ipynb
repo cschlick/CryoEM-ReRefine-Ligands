{
 "cells": [
  {
   "cell_type": "code",
   "execution_count": 1,
   "metadata": {},
   "outputs": [],
   "source": [
    "from iotbx.map_manager import map_manager as MapManager\n",
    "from mmtbx.model import manager as ModelManager\n",
    "from iotbx.data_manager import DataManager\n",
    "import numpy as np\n",
    "from iotbx.map_model_manager import map_model_manager as MapModelManager"
   ]
  },
  {
   "cell_type": "code",
   "execution_count": 2,
   "metadata": {},
   "outputs": [],
   "source": [
    "import os\n",
    "import pickle\n",
    "from multiprocessing import Pool\n",
    "from collections import Counter"
   ]
  },
  {
   "cell_type": "code",
   "execution_count": 56,
   "metadata": {},
   "outputs": [],
   "source": [
    "errors = []\n",
    "error_log_path = \"data/parsing_errors.txt\"\n",
    "\n",
    "maps_and_models_path = \"/net/cci/share/cryoem/maps_and_models/\"\n",
    "entries = [entry for entry in os.listdir(maps_and_models_path) if os.path.isdir(maps_and_models_path+entry)]\n",
    "\n",
    "entries_group_args = []\n",
    "\n",
    "for entry in entries:\n",
    "    entry_path = maps_and_models_path+entry\n",
    "    filenames = os.listdir(entry_path)\n",
    "    extensions = [filename.split(\".\")[-1] for filename in filenames]\n",
    "    extension_dict = Counter(extensions)\n",
    "    if extension_dict[\"pkl\"] == 1:\n",
    "        pkl_path = entry_path+\"/\"+[filename for filename in filenames if filename.split(\".\")[-1] == \"pkl\"][0]\n",
    "        with open(pkl_path,\"rb\") as fh:\n",
    "            group_args = pickle.load(fh)\n",
    "        group_args.add(key=\"entry\",value=entry)\n",
    "        group_args.add(key=\"entry_pdb\",value=entry[:4])\n",
    "        group_args.add(key=\"entry_emdb\",value=entry[5:])\n",
    "        entries_group_args.append(group_args)\n",
    "\n",
    "    else:\n",
    "        errors.append(\"FAILED: \"+entry_path+\": .pkl occurrences != 1\")\n",
    "\n",
    "with open(error_log_path,\"w\") as fh:\n",
    "    for error in errors:\n",
    "        fh.write(error+\"\\n\")\n",
    "        "
   ]
  },
  {
   "cell_type": "code",
   "execution_count": null,
   "metadata": {},
   "outputs": [],
   "source": [
    "def worker(group_args):\n",
    "\n",
    "    try:\n",
    "        dm = DataManager()\n",
    "        dm.process_model_file(group_args.model_file)\n",
    "        group_args.add(key=\"composition\",value=dm.get_model().composition())\n",
    "    except:\n",
    "        group_args.add(key=\"composition\",value=\"None\")\n",
    "    return group_args"
   ]
  },
  {
   "cell_type": "code",
   "execution_count": 48,
   "metadata": {},
   "outputs": [],
   "source": [
    "p = Pool(21)\n",
    "results = p.map(worker,entries_group_args)"
   ]
  },
  {
   "cell_type": "code",
   "execution_count": 49,
   "metadata": {},
   "outputs": [],
   "source": [
    "with open(\"data/entry_composition.pkl\",\"wb\") as fh:\n",
    "    pickle.dump(results,fh)"
   ]
  },
  {
   "cell_type": "code",
   "execution_count": 58,
   "metadata": {},
   "outputs": [],
   "source": [
    "entry_composition_path = \"data/entry_composition.pkl\" #list of group_args objects\n",
    "with open(entry_composition_path,\"rb\") as fh:\n",
    "    entry_composition_list = pickle.load(fh)"
   ]
  },
  {
   "cell_type": "code",
   "execution_count": 59,
   "metadata": {},
   "outputs": [],
   "source": [
    "entries_no_composition = []\n",
    "entries_yes_composition = []\n",
    "ligand_list = []\n",
    "for entry in entry_composition_list:\n",
    "    if entry.composition == \"None\":\n",
    "        entries_no_composition.append(entry)\n",
    "    else:\n",
    "        entries_yes_composition.append(entry)"
   ]
  },
  {
   "cell_type": "code",
   "execution_count": 61,
   "metadata": {},
   "outputs": [],
   "source": [
    "with open(\"data/entry_composition.pkl\",\"wb\") as fh:\n",
    "    pickle.dump(entries_yes_composition,fh)"
   ]
  },
  {
   "cell_type": "code",
   "execution_count": null,
   "metadata": {},
   "outputs": [],
   "source": []
  }
 ],
 "metadata": {
  "kernelspec": {
   "display_name": "phenix",
   "language": "python",
   "name": "phenix"
  },
  "language_info": {
   "codemirror_mode": {
    "name": "ipython",
    "version": 2
   },
   "file_extension": ".py",
   "mimetype": "text/x-python",
   "name": "python",
   "nbconvert_exporter": "python",
   "pygments_lexer": "ipython2",
   "version": "2.7.15"
  }
 },
 "nbformat": 4,
 "nbformat_minor": 4
}
