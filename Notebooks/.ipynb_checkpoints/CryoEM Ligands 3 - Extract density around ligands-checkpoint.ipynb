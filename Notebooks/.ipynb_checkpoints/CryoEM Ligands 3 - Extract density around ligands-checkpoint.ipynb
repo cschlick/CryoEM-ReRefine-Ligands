{
 "cells": [
  {
   "cell_type": "code",
   "execution_count": 1,
   "metadata": {},
   "outputs": [],
   "source": [
    "from iotbx.map_manager import map_manager as MapManager\n",
    "from mmtbx.model import manager as ModelManager\n",
    "from iotbx.data_manager import DataManager\n",
    "from iotbx.map_model_manager import map_model_manager as MapModelManager"
   ]
  },
  {
   "cell_type": "code",
   "execution_count": 2,
   "metadata": {},
   "outputs": [],
   "source": [
    "import os\n",
    "import pickle\n",
    "from multiprocessing import Pool\n",
    "from collections import Counter\n",
    "import numpy as np\n",
    "import gzip\n",
    "import shutil"
   ]
  },
  {
   "cell_type": "code",
   "execution_count": 3,
   "metadata": {},
   "outputs": [],
   "source": [
    "nucleotide_entries_path = \"data/nucleotide_entries.pkl\"\n",
    "working_directory = \"../maps_and_models_ligand_extracted\"\n",
    "error_log = \"logs/generate_ligand_density.log\"\n",
    "\n",
    "with open(nucleotide_entries_path,\"rb\") as fh:\n",
    "    nucleotide_entries = pickle.load(fh)"
   ]
  },
  {
   "cell_type": "code",
   "execution_count": 4,
   "metadata": {},
   "outputs": [],
   "source": [
    "nucleotide_entries = nucleotide_entries[:10] # shorten for now"
   ]
  },
  {
   "cell_type": "code",
   "execution_count": 5,
   "metadata": {},
   "outputs": [],
   "source": [
    "def entry_to_ligand_density(entry):\n",
    "    # entry is a group args, a stand in for a data manager because that can't be pickled\n",
    "    \n",
    "    if len(entry.composition._result.other_cnts) >1:# make sure only one type of ligand\n",
    "        with open(error_log,\"w\") as fh:\n",
    "            fh.write(\"ERROR: \"+entry.entry+\": More than one ligand type, skipping...: \"+entry.composition._result.other_cnts)+\\n\")\n",
    "    else:\n",
    "        # process the entry to make ligand densities\n",
    "        ligand_code = entry.composition._result.other_cnts.keys()[0]\n",
    "        \n",
    "        # check if we have a folder in the working directory\n",
    "        entry_path = working_directory+\"/\"+entry.entry\n",
    "        \n",
    "        # uncomment to force making all entry directories, even if present\n",
    "        if os.path.exists(entry_path):\n",
    "            shutil.rmtree(entry_path)\n",
    "            \n",
    "        if not os.path.exists(entry_path): # only process if not already present\n",
    "            os.mkdir(entry_path)\n",
    "            \n",
    "            # this needs to be fixed, we should have to copy the uncompressed file to open it\n",
    "            with gzip.open(entry.map_file, 'rb') as fh_in:\n",
    "                unzip_map_path = entry_path+\"/\"+entry.map_file.split(\"/\")[-1].strip(\".gz\")\n",
    "                with open(unzip_map_path, 'wb') as fh_out:\n",
    "                    shutil.copyfileobj(fh_in, fh_out)\n",
    "                    \n",
    "            \n",
    "            # All the below is ugly, but it is the only way I was able to get it to work. The map and model is ready in N+1 times where N is the number of ligands\n",
    "            map_manager = MapManager(unzip_map_path)\n",
    "            dm = DataManager()\n",
    "            dm.process_model_file(entry.model_file)\n",
    "            model_manager = dm.get_model()\n",
    "            h0 = dm.get_model().get_hierarchy()\n",
    "            sel0 = h0.atom_selection_cache().selection(\"not (water or nucleotide or protein)\")\n",
    "            h1 = h0.select(sel0)\n",
    "            chain_ids = [chain.id for chain in h1.chains()]\n",
    "            \n",
    "            \n",
    "            for chain_id in chain_ids:\n",
    "                map_manager = MapManager(unzip_map_path)\n",
    "                dm = DataManager()\n",
    "                dm.process_model_file(entry.model_file)\n",
    "                model_manager = dm.get_model()\n",
    "                h0 = dm.get_model().get_hierarchy()\n",
    "                sel0 = h0.atom_selection_cache().selection(\"not (water or nucleotide or protein)\") # can we directly select the ligands?\n",
    "                h1 = h0.select(sel0)\n",
    "                sel1 = h1.atom_selection_cache().selection(\"chain \"+chain_id)\n",
    "                h2 = h1.select(sel1)\n",
    "                model_manager_ligand = ModelManager(None,pdb_hierarchy=h2)\n",
    "\n",
    "\n",
    "                map_model_manager=MapModelManager(map_manager=map_manager, model=model_manager_ligand)\n",
    "                boxed_mmm = map_model_manager.extract_all_maps_around_model()\n",
    "                small_map_manager=boxed_mmm.map_manager()\n",
    "                small_map_manager.write_map(entry_path+\"/\"+\"ligand_\"+ligand_code+\"_\"+chain_id+\".map\") # save as gz?\n",
    "\n",
    "                small_model=boxed_mmm.model()\n",
    "                boxed_mmm.write_model(entry_path+\"/\"+\"ligand_\"+ligand_code+\"_\"+chain_id+\".pdb\") # write as cif?\n",
    "            "
   ]
  },
  {
   "cell_type": "code",
   "execution_count": 6,
   "metadata": {},
   "outputs": [],
   "source": [
    "from multiprocessing import Pool"
   ]
  },
  {
   "cell_type": "code",
   "execution_count": null,
   "metadata": {},
   "outputs": [],
   "source": [
    "p = Pool(7)\n",
    "results = p.map(entry_to_ligand_density,nucleotide_entries)"
   ]
  },
  {
   "cell_type": "code",
   "execution_count": 8,
   "metadata": {},
   "outputs": [],
   "source": []
  },
  {
   "cell_type": "code",
   "execution_count": 9,
   "metadata": {},
   "outputs": [],
   "source": [
    "\n",
    "\n"
   ]
  },
  {
   "cell_type": "code",
   "execution_count": 10,
   "metadata": {},
   "outputs": [],
   "source": [
    "\n",
    "\n",
    "\n"
   ]
  }
 ],
 "metadata": {
  "kernelspec": {
   "display_name": "phenix",
   "language": "python",
   "name": "phenix"
  },
  "language_info": {
   "codemirror_mode": {
    "name": "ipython",
    "version": 2
   },
   "file_extension": ".py",
   "mimetype": "text/x-python",
   "name": "python",
   "nbconvert_exporter": "python",
   "pygments_lexer": "ipython2",
   "version": "2.7.15"
  }
 },
 "nbformat": 4,
 "nbformat_minor": 4
}
