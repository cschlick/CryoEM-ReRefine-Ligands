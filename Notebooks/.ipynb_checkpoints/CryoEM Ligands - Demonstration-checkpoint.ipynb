{
 "cells": [
  {
   "cell_type": "code",
   "execution_count": 69,
   "metadata": {},
   "outputs": [],
   "source": [
    "from iotbx.map_manager import map_manager as MapManager\n",
    "from mmtbx.model import manager as ModelManager\n",
    "from iotbx.data_manager import DataManager\n",
    "from iotbx.map_model_manager import map_model_manager as MapModelManager\n",
    "from iotbx.pdb import common_residue_names_get_class\n",
    "from libtbx import group_args\n",
    "from mmtbx.maps.correlation import five_cc\n",
    "import os\n",
    "import pickle\n",
    "import inspect"
   ]
  },
  {
   "cell_type": "code",
   "execution_count": 2,
   "metadata": {},
   "outputs": [],
   "source": [
    "import sys\n",
    "sys.path.append(\"../\")\n",
    "from ligand_map_model_validation import extract_ligand_models, ligands_map_model_cc"
   ]
  },
  {
   "cell_type": "markdown",
   "metadata": {},
   "source": [
    "## Instantiate a DataManager object from data on disk"
   ]
  },
  {
   "cell_type": "code",
   "execution_count": 124,
   "metadata": {},
   "outputs": [],
   "source": [
    "model_path = \"../data/6f1u_4169/6f1u_4169.cif\"\n",
    "map_path = \"../data/6f1u_4169/6f1u_4169.map\"\n",
    "group_args_entry = \"../data/6f1u_4169/6f1u_4169.pkl\"\n",
    "\n",
    "dm = DataManager()\n",
    "dm.process_model_file(model_path)\n",
    "dm.process_real_map_file(map_path)\n",
    "\n",
    "map_model_manager = MapModelManager(map_manager=dm.get_real_map(),model=dm.get_model())\n",
    "\n",
    "# this is necessary for cryo-em models without crystal symmetry\n",
    "if model.crystal_symmetry() is None:\n",
    "    from cctbx.maptbx.box import shift_and_box_model\n",
    "    model = shift_and_box_model(model)"
   ]
  },
  {
   "cell_type": "code",
   "execution_count": 129,
   "metadata": {},
   "outputs": [],
   "source": [
    "map_model_manager.map_manager().set_resolution(3.5)"
   ]
  },
  {
   "cell_type": "code",
   "execution_count": 112,
   "metadata": {},
   "outputs": [],
   "source": [
    "def extract_ligand_models(model,include_resnames=[],exclude_resnames=[]):\n",
    "    \n",
    "    \n",
    "    exclude_classes = [\"common_amino_acid\",\n",
    "             \"modified_amino_acid\",\n",
    "             \"common_rna_dna\",\n",
    "             \"modified_rna_dna\",\n",
    "             \"ccp4_mon_lib_rna_dna\",\n",
    "             \"common_water\"]\n",
    "\n",
    "    default_exclude_resnames= [\"UNK\"]\n",
    "       \n",
    "    exclude_resnames = default_exclude_resnames+exclude_resnames\n",
    "    \n",
    "    extract_all = True if len(include_resnames) ==0 else False\n",
    "       \n",
    "    ligand_dict = {}\n",
    "    sel_str_other = \"not (water or nucleotide or protein)\"  # \"other_cnts\" in model.composition()\n",
    "    other_model = model.select(model.selection(sel_str_other))\n",
    "    # I profiled the above method compared to looping over the entire original model,\n",
    "    # and this was >10X faster. \n",
    "    \n",
    "    \n",
    "    for model in other_model.get_hierarchy().models():\n",
    "        for chain in model.chains():\n",
    "            for rg in chain.residue_groups():\n",
    "                for resname in rg.unique_resnames():\n",
    "                    if (common_residue_names_get_class(name=resname) not in exclude_classes\n",
    "                       and resname not in exclude_resnames):\n",
    "                        if resname in include_resnames or extract_all:\n",
    "                            iselection = rg.atoms().extract_i_seq()\n",
    "                            id_tuple = (model.id, chain.id, rg.resseq, resname)\n",
    "                            assert(id_tuple not in ligand_dict.keys())\n",
    "                            ligand_model = other_model.select(iselection)\n",
    "                            ligand_dict[id_tuple] = ligand_model\n",
    "        \n",
    "    return ligand_dict"
   ]
  },
  {
   "cell_type": "code",
   "execution_count": 119,
   "metadata": {},
   "outputs": [],
   "source": [
    "def ligands_cc(map_model_manager,output_directory=None):\n",
    "    mmm = map_model_manager\n",
    "    mm = mmm.map_manager()\n",
    "    ligand_dict = extract_ligand_models(model)\n",
    "    \n",
    "    return_ligand_dict = {}\n",
    "    ccmask_values = []\n",
    "\n",
    "    for ligand_id, ligand_model in ligand_dict.items():\n",
    "        \n",
    "        model_id, chain_id, rg_resseq, resname = ligand_id\n",
    "        \n",
    "\n",
    "        map_model_manager = MapModelManager(map_manager=mm,\n",
    "                                            model=ligand_model,\n",
    "                                            ignore_symmetry_conflicts=True)\n",
    "        mmmlig = map_model_manager.extract_all_maps_around_model()\n",
    "        return_ligand_dict[ligand_id] = mmmlig\n",
    "        \n",
    "        if mmm.map_manager()._resolution is None:\n",
    "            # log that calculating resolution is very slow\n",
    "            pass\n",
    "        \n",
    "        ccmask = mmmlig.map_model_cc(resolution=mm.resolution()) \n",
    "        # This uses the five_cc object internally, and returns only CCmask\n",
    "        \n",
    "        ccmask_values.append(ccmask)\n",
    "        if output_directory is not None:\n",
    "            if not os.path.exists(output_directory):\n",
    "                os.path.mkdir(output_directory)\n",
    "\n",
    "                ligand_name = resname.strip()+\"_\"+chain_id.strip()\n",
    "                ligand_map_file = os.path.join(output_directory,ligand_name+\".map\")\n",
    "                ligand_model_file = os.path.join(output_directory,ligand_name+\".cif\")\n",
    "\n",
    "                dm.write_model_file(mmmlig.model(),filename=ligand_model_file,extension=\"cif\",overwrite=True)\n",
    "                dm.write_real_map_file(mmmlig.map_manager(),filename=ligand_map_file,overwrite=True)\n",
    "\n",
    "    return return_ligand_dict, ccmask_values\n",
    "        "
   ]
  },
  {
   "cell_type": "code",
   "execution_count": 135,
   "metadata": {},
   "outputs": [],
   "source": [
    "mm._resolution = 5\n"
   ]
  },
  {
   "cell_type": "code",
   "execution_count": 138,
   "metadata": {},
   "outputs": [
    {
     "data": {
      "text/plain": [
       "5"
      ]
     },
     "execution_count": 138,
     "metadata": {},
     "output_type": "execute_result"
    }
   ],
   "source": [
    "mm.resolution()"
   ]
  },
  {
   "cell_type": "code",
   "execution_count": 30,
   "metadata": {},
   "outputs": [],
   "source": []
  },
  {
   "cell_type": "code",
   "execution_count": 31,
   "metadata": {},
   "outputs": [],
   "source": []
  },
  {
   "cell_type": "code",
   "execution_count": 36,
   "metadata": {},
   "outputs": [],
   "source": []
  },
  {
   "cell_type": "code",
   "execution_count": 38,
   "metadata": {},
   "outputs": [],
   "source": [
    "\n"
   ]
  },
  {
   "cell_type": "code",
   "execution_count": 42,
   "metadata": {},
   "outputs": [],
   "source": []
  },
  {
   "cell_type": "code",
   "execution_count": 47,
   "metadata": {},
   "outputs": [],
   "source": [
    "output_directory = \"../data/6f1u_4169/ligands/\""
   ]
  },
  {
   "cell_type": "code",
   "execution_count": 62,
   "metadata": {},
   "outputs": [],
   "source": []
  },
  {
   "cell_type": "code",
   "execution_count": 44,
   "metadata": {},
   "outputs": [
    {
     "ename": "NameError",
     "evalue": "name 'mmm' is not defined",
     "output_type": "error",
     "traceback": [
      "\u001b[0;31m---------------------------------------------------------------------------\u001b[0m",
      "\u001b[0;31mNameError\u001b[0m                                 Traceback (most recent call last)",
      "\u001b[0;32m<ipython-input-44-daa85d2a3e21>\u001b[0m in \u001b[0;36m<module>\u001b[0;34m()\u001b[0m\n\u001b[0;32m----> 1\u001b[0;31m \u001b[0mdir\u001b[0m\u001b[0;34m(\u001b[0m\u001b[0mmmm\u001b[0m\u001b[0;34m)\u001b[0m\u001b[0;34m\u001b[0m\u001b[0m\n\u001b[0m",
      "\u001b[0;31mNameError\u001b[0m: name 'mmm' is not defined"
     ]
    }
   ],
   "source": []
  },
  {
   "cell_type": "code",
   "execution_count": 13,
   "metadata": {},
   "outputs": [
    {
     "data": {
      "text/plain": [
       "Map manager (from ../data/6f1u_4169/6f1u_4169.map)\n",
       "Unit cell: (804, 804, 804, 90, 90, 90) Space group: P 1 (No. 1), \n",
       "Unit-cell grid: (600, 600, 600), (present: (600, 600, 600)), origin shift (0, 0, 0) \n",
       "Working coordinate shift (-0.0, -0.0, -0.0)"
      ]
     },
     "execution_count": 13,
     "metadata": {},
     "output_type": "execute_result"
    }
   ],
   "source": [
    "mm"
   ]
  },
  {
   "cell_type": "code",
   "execution_count": 14,
   "metadata": {},
   "outputs": [],
   "source": []
  },
  {
   "cell_type": "markdown",
   "metadata": {},
   "source": [
    "# Do a second ligand"
   ]
  },
  {
   "cell_type": "code",
   "execution_count": 15,
   "metadata": {},
   "outputs": [],
   "source": [
    "map_model_manager_1 = MapModelManager(map_manager=mm,\n",
    "                                    model=ligand_models[1],\n",
    "                                    ignore_symmetry_conflicts=True)"
   ]
  },
  {
   "cell_type": "code",
   "execution_count": 16,
   "metadata": {},
   "outputs": [],
   "source": [
    "boxed_mmm_1 = map_model_manager_1.extract_all_maps_around_model()\n",
    "ligand_mm_1 = boxed_mmm_1.map_manager()\n",
    "ligand_model_1 = boxed_mmm_1.model()\n"
   ]
  },
  {
   "cell_type": "code",
   "execution_count": 17,
   "metadata": {},
   "outputs": [
    {
     "data": {
      "text/plain": [
       "\n",
       "Map_model_manager: \n",
       "\n",
       "Model manager \n",
       "Unit cell: (804, 804, 804, 90, 90, 90) Space group: P 1 (No. 1)\n",
       "Chains: 1 Residues 1 \n",
       "Working coordinate shift (-435.49999999999994, -392.62000000000006, -410.04))\n",
       "\n",
       "map_manager: Map manager (from ../data/6f1u_4169/6f1u_4169.map)\n",
       "Unit cell: (804, 804, 804, 90, 90, 90) Space group: P 1 (No. 1), \n",
       "Unit-cell grid: (600, 600, 600), (present: (18, 15, 15)), origin shift [325, 293, 306] \n",
       "Working coordinate shift (-435.49999999999994, -392.62000000000006, -410.04)"
      ]
     },
     "execution_count": 17,
     "metadata": {},
     "output_type": "execute_result"
    }
   ],
   "source": [
    "boxed_mmm_1"
   ]
  },
  {
   "cell_type": "code",
   "execution_count": 18,
   "metadata": {},
   "outputs": [
    {
     "data": {
      "text/plain": [
       "\n",
       "Map_model_manager: \n",
       "\n",
       "Model manager \n",
       "Unit cell: (804, 804, 804, 90, 90, 90) Space group: P 1 (No. 1)\n",
       "Chains: 1 Residues 1 \n",
       "Working coordinate shift (-397.98, -397.9800000000001, -450.24000000000007))\n",
       "\n",
       "map_manager: Map manager (from ../data/6f1u_4169/6f1u_4169.map)\n",
       "Unit cell: (804, 804, 804, 90, 90, 90) Space group: P 1 (No. 1), \n",
       "Unit-cell grid: (600, 600, 600), (present: (18, 18, 13)), origin shift [297, 297, 336] \n",
       "Working coordinate shift (-397.98, -397.9800000000001, -450.24000000000007)"
      ]
     },
     "execution_count": 18,
     "metadata": {},
     "output_type": "execute_result"
    }
   ],
   "source": [
    "boxed_mmm"
   ]
  },
  {
   "cell_type": "code",
   "execution_count": 19,
   "metadata": {},
   "outputs": [],
   "source": [
    "boxed_mmm_1.write_map(\"../data/6f1u_4169/ligand1.mrc\")\n",
    "boxed_mmm_1.write_model(\"../data/6f1u_4169/ligand1.pdb\")"
   ]
  },
  {
   "cell_type": "code",
   "execution_count": null,
   "metadata": {},
   "outputs": [],
   "source": []
  }
 ],
 "metadata": {
  "kernelspec": {
   "display_name": "phenix",
   "language": "python",
   "name": "phenix"
  },
  "language_info": {
   "codemirror_mode": {
    "name": "ipython",
    "version": 2
   },
   "file_extension": ".py",
   "mimetype": "text/x-python",
   "name": "python",
   "nbconvert_exporter": "python",
   "pygments_lexer": "ipython2",
   "version": "2.7.15"
  }
 },
 "nbformat": 4,
 "nbformat_minor": 2
}
