{
 "cells": [
  {
   "cell_type": "code",
   "execution_count": 3,
   "metadata": {},
   "outputs": [],
   "source": [
    "from iotbx.map_manager import map_manager as MapManager\n",
    "from mmtbx.model import manager as ModelManager\n",
    "from iotbx.data_manager import DataManager\n",
    "from iotbx.map_model_manager import map_model_manager as MapModelManager\n",
    "\n",
    "import os\n",
    "import pickle\n",
    "import inspect"
   ]
  },
  {
   "cell_type": "code",
   "execution_count": 4,
   "metadata": {},
   "outputs": [],
   "source": [
    "import sys\n",
    "sys.path.append(\"../\")\n",
    "from ligands_cc import extract_ligand_models, ligands_cc_from_mmm"
   ]
  },
  {
   "cell_type": "markdown",
   "metadata": {},
   "source": [
    "## Using the module directly:"
   ]
  },
  {
   "cell_type": "code",
   "execution_count": 6,
   "metadata": {},
   "outputs": [],
   "source": [
    "# first get data from disk\n",
    "model_path = \"/net/cci/share/cryoem/maps_and_models/6f1u_4169/6f1u_4169.cif\"\n",
    "map_path = \"/net/cci/share/cryoem/maps_and_models/6f1u_4169/6f1u_4169.map\"\n",
    "group_args_entry = \"/net/cci/share/cryoem/maps_and_models/6f1u_4169/6f1u_4169.pkl\" # contains resolution\n",
    "with open(group_args_entry,\"rb\") as fh:\n",
    "    entry = pickle.load(fh)\n",
    "\n",
    "\n",
    "dm = DataManager()\n",
    "dm.process_model_file(model_path)\n",
    "dm.process_real_map_file(map_path)"
   ]
  },
  {
   "cell_type": "markdown",
   "metadata": {},
   "source": [
    "## Get ligands out of a model"
   ]
  },
  {
   "cell_type": "code",
   "execution_count": 7,
   "metadata": {},
   "outputs": [],
   "source": [
    "ligand_dict = extract_ligand_models(dm.get_model())"
   ]
  },
  {
   "cell_type": "code",
   "execution_count": 8,
   "metadata": {},
   "outputs": [
    {
     "name": "stdout",
     "output_type": "stream",
     "text": [
      "{('', 'D', ' 800', 'ADP'): Model manager \n",
      "None\n",
      "Chains: 1 Residues 1 \n",
      "Working coordinate shift (0, 0, 0)), ('', 'F', ' 800', 'ADP'): Model manager \n",
      "None\n",
      "Chains: 1 Residues 1 \n",
      "Working coordinate shift (0, 0, 0)), ('', 'B', ' 800', 'ADP'): Model manager \n",
      "None\n",
      "Chains: 1 Residues 1 \n",
      "Working coordinate shift (0, 0, 0))}\n"
     ]
    }
   ],
   "source": [
    "print(ligand_dict)"
   ]
  },
  {
   "cell_type": "markdown",
   "metadata": {},
   "source": [
    "## Get ligand density maps and calculate CCmask"
   ]
  },
  {
   "cell_type": "code",
   "execution_count": 9,
   "metadata": {},
   "outputs": [
    {
     "name": "stdout",
     "output_type": "stream",
     "text": [
      "Found 3 ligands in the model \n"
     ]
    }
   ],
   "source": [
    "map_manager = dm.get_real_map()\n",
    "map_manager.set_resolution(entry.resolution)\n",
    "map_model_manager = MapModelManager(map_manager=map_manager,model=dm.get_model())\n",
    "\n",
    "ligand_dict, ccmask_values = ligands_cc_from_mmm(map_model_manager)"
   ]
  },
  {
   "cell_type": "code",
   "execution_count": 10,
   "metadata": {},
   "outputs": [
    {
     "name": "stdout",
     "output_type": "stream",
     "text": [
      "[0.820752074164057, 0.8099958071989116, 0.8403064511105527]\n"
     ]
    }
   ],
   "source": [
    "print(ccmask_values)"
   ]
  },
  {
   "cell_type": "markdown",
   "metadata": {},
   "source": [
    "## Optionally write to disk"
   ]
  },
  {
   "cell_type": "code",
   "execution_count": 12,
   "metadata": {},
   "outputs": [
    {
     "name": "stdout",
     "output_type": "stream",
     "text": [
      "Found 3 ligands in the model \n",
      "Writing model file: /net/cci-filer3/home/cschlick/CryoEM-ReRefine-Ligands/data/ADP_D.map\n",
      "Writing map file: /net/cci-filer3/home/cschlick/CryoEM-ReRefine-Ligands/data/ADP_D.cif\n",
      "Writing model file: /net/cci-filer3/home/cschlick/CryoEM-ReRefine-Ligands/data/ADP_F.map\n",
      "Writing map file: /net/cci-filer3/home/cschlick/CryoEM-ReRefine-Ligands/data/ADP_F.cif\n",
      "Writing model file: /net/cci-filer3/home/cschlick/CryoEM-ReRefine-Ligands/data/ADP_B.map\n",
      "Writing map file: /net/cci-filer3/home/cschlick/CryoEM-ReRefine-Ligands/data/ADP_B.cif\n"
     ]
    }
   ],
   "source": [
    "ligand_dict, ccmask_values = ligands_cc_from_mmm(map_model_manager,\n",
    "                                                 output_directory=\"../data/\")"
   ]
  },
  {
   "cell_type": "code",
   "execution_count": null,
   "metadata": {},
   "outputs": [],
   "source": []
  },
  {
   "cell_type": "code",
   "execution_count": null,
   "metadata": {},
   "outputs": [],
   "source": []
  }
 ],
 "metadata": {
  "kernelspec": {
   "display_name": "phenix",
   "language": "python",
   "name": "phenix"
  },
  "language_info": {
   "codemirror_mode": {
    "name": "ipython",
    "version": 2
   },
   "file_extension": ".py",
   "mimetype": "text/x-python",
   "name": "python",
   "nbconvert_exporter": "python",
   "pygments_lexer": "ipython2",
   "version": "2.7.15"
  }
 },
 "nbformat": 4,
 "nbformat_minor": 4
}
