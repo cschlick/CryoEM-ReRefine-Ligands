{
 "cells": [
  {
   "cell_type": "code",
   "execution_count": 1,
   "metadata": {},
   "outputs": [],
   "source": [
    "from iotbx.map_manager import map_manager as MapManager\n",
    "from mmtbx.model import manager as ModelManager\n",
    "from iotbx.data_manager import DataManager\n",
    "import numpy as np\n",
    "from iotbx.map_model_manager import map_model_manager as MapModelManager"
   ]
  },
  {
   "cell_type": "code",
   "execution_count": 2,
   "metadata": {},
   "outputs": [],
   "source": [
    "import os\n",
    "import pickle\n",
    "from multiprocessing import Pool\n",
    "from collections import Counter"
   ]
  },
  {
   "cell_type": "code",
   "execution_count": 56,
   "metadata": {},
   "outputs": [],
   "source": [
    "errors = []\n",
    "error_log_path = \"data/parsing_errors.txt\"\n",
    "\n",
    "maps_and_models_path = \"/net/cci/share/cryoem/maps_and_models/\"\n",
    "entries = os.listdir(maps_and_models_path)\n",
    "entries = [entry for entry in entries if os.path.isdir(maps_and_models_path+entry)]\n",
    "\n",
    "entries_group_args = []\n",
    "\n",
    "for entry in entries:\n",
    "    entry_path = maps_and_models_path+entry\n",
    "    filenames = os.listdir(entry_path)\n",
    "    extensions = [filename.split(\".\")[-1] for filename in filenames]\n",
    "    extension_dict = Counter(extensions)\n",
    "    if extension_dict[\"pkl\"] == 1:\n",
    "        pkl_path = entry_path+\"/\"+[filename for filename in filenames if filename.split(\".\")[-1] == \"pkl\"][0]\n",
    "        with open(pkl_path,\"rb\") as fh:\n",
    "            group_args = pickle.load(fh)\n",
    "        group_args.add(key=\"entry\",value=entry)\n",
    "        group_args.add(key=\"entry_pdb\",value=entry[:4])\n",
    "        group_args.add(key=\"entry_emdb\",value=entry[5:])\n",
    "        entries_group_args.append(group_args)\n",
    "\n",
    "    else:\n",
    "        errors.append(\"FAILED: \"+entry_path+\": .pkl occurrences != 1\")\n",
    "\n",
    "with open(error_log_path,\"w\") as fh:\n",
    "    for error in errors:\n",
    "        fh.write(error+\"\\n\")\n",
    "        "
   ]
  },
  {
   "cell_type": "code",
   "execution_count": null,
   "metadata": {},
   "outputs": [],
   "source": [
    "def worker(group_args):\n",
    "\n",
    "    try:\n",
    "        dm = DataManager()\n",
    "        dm.process_model_file(group_args.model_file)\n",
    "        group_args.add(key=\"composition\",value=dm.get_model().composition())\n",
    "    except:\n",
    "        group_args.add(key=\"composition\",value=\"None\")\n",
    "    return group_args"
   ]
  },
  {
   "cell_type": "code",
   "execution_count": 48,
   "metadata": {},
   "outputs": [],
   "source": [
    "p = Pool(21)\n",
    "results = p.map(worker,entries_group_args)"
   ]
  },
  {
   "cell_type": "code",
   "execution_count": 49,
   "metadata": {},
   "outputs": [],
   "source": [
    "with open(\"data/entry_composition.pkl\",\"wb\") as fh:\n",
    "    pickle.dump(results,fh)"
   ]
  },
  {
   "cell_type": "code",
   "execution_count": null,
   "metadata": {},
   "outputs": [],
   "source": []
  },
  {
   "cell_type": "code",
   "execution_count": null,
   "metadata": {},
   "outputs": [],
   "source": []
  },
  {
   "cell_type": "code",
   "execution_count": null,
   "metadata": {},
   "outputs": [],
   "source": []
  },
  {
   "cell_type": "code",
   "execution_count": null,
   "metadata": {},
   "outputs": [],
   "source": []
  },
  {
   "cell_type": "code",
   "execution_count": null,
   "metadata": {},
   "outputs": [],
   "source": []
  },
  {
   "cell_type": "markdown",
   "metadata": {},
   "source": [
    "## Open map and ligand"
   ]
  },
  {
   "cell_type": "code",
   "execution_count": 2,
   "metadata": {},
   "outputs": [],
   "source": [
    "# define file paths. Using a manually separated ATP model file\n",
    "map_file='../maps_and_models/6tdy_10471/6tdy_10471.map'\n",
    "model_file_cif = \"../maps_and_models/6tdy_10471/6tdy_10471.cif\""
   ]
  },
  {
   "cell_type": "code",
   "execution_count": 3,
   "metadata": {},
   "outputs": [],
   "source": [
    "dm = DataManager()\n",
    "dm.process_model_file(model_file_cif)\n",
    "model_manager = dm.get_model()\n",
    "map_manager = MapManager(map_file)"
   ]
  },
  {
   "cell_type": "code",
   "execution_count": 4,
   "metadata": {},
   "outputs": [],
   "source": [
    "h = model_manager.get_hierarchy()"
   ]
  },
  {
   "cell_type": "code",
   "execution_count": 11,
   "metadata": {},
   "outputs": [
    {
     "data": {
      "text/plain": [
       "group_args\n",
       "  n_atoms                        : 81811\n",
       "  n_chains                       : 32\n",
       "  n_hd                           : 41207\n",
       "  n_nucleotide                   : 0\n",
       "  n_other                        : 11\n",
       "  n_protein                      : 5289\n",
       "  n_water                        : 0\n",
       "  other_cnts                     : Counter({'MG': 5, 'ATP': 4, 'ADP': 1, 'TRT': 1})"
      ]
     },
     "execution_count": 11,
     "metadata": {},
     "output_type": "execute_result"
    }
   ],
   "source": [
    "h.composition()"
   ]
  },
  {
   "cell_type": "code",
   "execution_count": 4,
   "metadata": {},
   "outputs": [],
   "source": [
    "a = np.array(map_manager.map_data())"
   ]
  },
  {
   "cell_type": "code",
   "execution_count": 5,
   "metadata": {},
   "outputs": [
    {
     "data": {
      "text/plain": [
       "(85184000,)"
      ]
     },
     "execution_count": 5,
     "metadata": {},
     "output_type": "execute_result"
    }
   ],
   "source": [
    "a.shape"
   ]
  },
  {
   "cell_type": "code",
   "execution_count": 3,
   "metadata": {},
   "outputs": [],
   "source": [
    "# read files and initialize managers\n",
    "pdb = iotbx.pdb.input(file_name = model_file_pdb)\n",
    "model_manager = ModelManager(model_input = pdb)\n",
    "map_manager = MapManager(map_file)\n",
    "map_model_manager=MapModelManager(map_manager=map_manager, model=model_manager)"
   ]
  },
  {
   "cell_type": "code",
   "execution_count": 34,
   "metadata": {},
   "outputs": [],
   "source": [
    "# Use Tom's function to extract around model. Get new managers.\n",
    "boxed_mmm = map_model_manager.extract_all_maps_around_model()\n",
    "small_map_manager=boxed_map_model_manager.map_manager()\n",
    "small_model=boxed_map_model_manager.model()"
   ]
  },
  {
   "cell_type": "code",
   "execution_count": 20,
   "metadata": {},
   "outputs": [],
   "source": [
    "boxed_mm.write_map(\"data/testout.mrc\")"
   ]
  },
  {
   "cell_type": "code",
   "execution_count": 61,
   "metadata": {},
   "outputs": [],
   "source": [
    "small_map_manager.create_mask_around_atoms(small_model,3)"
   ]
  },
  {
   "cell_type": "code",
   "execution_count": 62,
   "metadata": {},
   "outputs": [],
   "source": [
    "small_map_manager.apply_mask()"
   ]
  },
  {
   "cell_type": "code",
   "execution_count": 63,
   "metadata": {},
   "outputs": [],
   "source": [
    "small_map_manager.write_map(\"data/testout2.mrc\")"
   ]
  },
  {
   "cell_type": "code",
   "execution_count": 64,
   "metadata": {},
   "outputs": [],
   "source": [
    "import cctbx"
   ]
  },
  {
   "cell_type": "code",
   "execution_count": 77,
   "metadata": {},
   "outputs": [],
   "source": [
    "small_map_manager.d_min = 10"
   ]
  },
  {
   "cell_type": "code",
   "execution_count": 78,
   "metadata": {},
   "outputs": [],
   "source": [
    "from mmtbx.refinement.real_space import rsr_model"
   ]
  },
  {
   "cell_type": "code",
   "execution_count": 88,
   "metadata": {},
   "outputs": [
    {
     "ename": "AttributeError",
     "evalue": "'function' object has no attribute 'accessor'",
     "output_type": "error",
     "traceback": [
      "\u001b[0;31m---------------------------------------------------------------------------\u001b[0m",
      "\u001b[0;31mAttributeError\u001b[0m                            Traceback (most recent call last)",
      "\u001b[0;32m<ipython-input-88-d79b1554d791>\u001b[0m in \u001b[0;36m<module>\u001b[0;34m()\u001b[0m\n\u001b[0;32m----> 1\u001b[0;31m \u001b[0mrsr_model\u001b[0m\u001b[0;34m(\u001b[0m\u001b[0msmall_model\u001b[0m\u001b[0;34m,\u001b[0m\u001b[0mtarget_map_object\u001b[0m\u001b[0;34m=\u001b[0m\u001b[0msmall_map_manager\u001b[0m\u001b[0;34m)\u001b[0m\u001b[0;34m\u001b[0m\u001b[0m\n\u001b[0m",
      "\u001b[0;32m/home/user/Software/phenix/modules/cctbx_project/mmtbx/refinement/real_space/__init__.pyc\u001b[0m in \u001b[0;36m__init__\u001b[0;34m(self, model, target_map_object)\u001b[0m\n\u001b[1;32m    118\u001b[0m     \u001b[0mself\u001b[0m\u001b[0;34m.\u001b[0m\u001b[0mcc_box\u001b[0m\u001b[0;34m=\u001b[0m\u001b[0mNone\u001b[0m\u001b[0;34m\u001b[0m\u001b[0m\n\u001b[1;32m    119\u001b[0m     \u001b[0;31m#\u001b[0m\u001b[0;34m\u001b[0m\u001b[0;34m\u001b[0m\u001b[0m\n\u001b[0;32m--> 120\u001b[0;31m     \u001b[0mself\u001b[0m\u001b[0;34m.\u001b[0m\u001b[0minitialize\u001b[0m\u001b[0;34m(\u001b[0m\u001b[0;34m)\u001b[0m\u001b[0;34m\u001b[0m\u001b[0m\n\u001b[0m\u001b[1;32m    121\u001b[0m \u001b[0;34m\u001b[0m\u001b[0m\n\u001b[1;32m    122\u001b[0m   \u001b[0;32mdef\u001b[0m \u001b[0minitialize\u001b[0m\u001b[0;34m(\u001b[0m\u001b[0mself\u001b[0m\u001b[0;34m)\u001b[0m\u001b[0;34m:\u001b[0m\u001b[0;34m\u001b[0m\u001b[0m\n",
      "\u001b[0;32m/home/user/Software/phenix/modules/cctbx_project/mmtbx/refinement/real_space/__init__.pyc\u001b[0m in \u001b[0;36minitialize\u001b[0;34m(self)\u001b[0m\n\u001b[1;32m    129\u001b[0m       \u001b[0mcompute_cc_mask\u001b[0m   \u001b[0;34m=\u001b[0m \u001b[0mTrue\u001b[0m\u001b[0;34m,\u001b[0m\u001b[0;34m\u001b[0m\u001b[0m\n\u001b[1;32m    130\u001b[0m       \u001b[0mcompute_cc_volume\u001b[0m \u001b[0;34m=\u001b[0m \u001b[0mFalse\u001b[0m\u001b[0;34m,\u001b[0m\u001b[0;34m\u001b[0m\u001b[0m\n\u001b[0;32m--> 131\u001b[0;31m       compute_cc_peaks  = False).result\n\u001b[0m\u001b[1;32m    132\u001b[0m     \u001b[0mself\u001b[0m\u001b[0;34m.\u001b[0m\u001b[0mcc_mask\u001b[0m \u001b[0;34m=\u001b[0m \u001b[0mfive_cc_o\u001b[0m\u001b[0;34m.\u001b[0m\u001b[0mcc_mask\u001b[0m\u001b[0;34m\u001b[0m\u001b[0m\n\u001b[1;32m    133\u001b[0m     \u001b[0mself\u001b[0m\u001b[0;34m.\u001b[0m\u001b[0mcc_box\u001b[0m  \u001b[0;34m=\u001b[0m \u001b[0mfive_cc_o\u001b[0m\u001b[0;34m.\u001b[0m\u001b[0mcc_box\u001b[0m\u001b[0;34m\u001b[0m\u001b[0m\n",
      "\u001b[0;32m/home/user/Software/phenix/modules/cctbx_project/mmtbx/maps/correlation.pyc\u001b[0m in \u001b[0;36m__init__\u001b[0;34m(self, map, xray_structure, d_min, box, keep_map_calc, compute_cc_box, compute_cc_image, compute_cc_mask, compute_cc_volume, compute_cc_peaks)\u001b[0m\n\u001b[1;32m     43\u001b[0m       \u001b[0munit_cell\u001b[0m             \u001b[0;34m=\u001b[0m \u001b[0mxray_structure\u001b[0m\u001b[0;34m.\u001b[0m\u001b[0munit_cell\u001b[0m\u001b[0;34m(\u001b[0m\u001b[0;34m)\u001b[0m\u001b[0;34m,\u001b[0m\u001b[0;34m\u001b[0m\u001b[0m\n\u001b[1;32m     44\u001b[0m       \u001b[0mspace_group_info\u001b[0m      \u001b[0;34m=\u001b[0m \u001b[0mxray_structure\u001b[0m\u001b[0;34m.\u001b[0m\u001b[0mspace_group_info\u001b[0m\u001b[0;34m(\u001b[0m\u001b[0;34m)\u001b[0m\u001b[0;34m,\u001b[0m\u001b[0;34m\u001b[0m\u001b[0m\n\u001b[0;32m---> 45\u001b[0;31m       \u001b[0mpre_determined_n_real\u001b[0m \u001b[0;34m=\u001b[0m \u001b[0mmap\u001b[0m\u001b[0;34m.\u001b[0m\u001b[0maccessor\u001b[0m\u001b[0;34m(\u001b[0m\u001b[0;34m)\u001b[0m\u001b[0;34m.\u001b[0m\u001b[0mall\u001b[0m\u001b[0;34m(\u001b[0m\u001b[0;34m)\u001b[0m\u001b[0;34m,\u001b[0m\u001b[0;34m\u001b[0m\u001b[0m\n\u001b[0m\u001b[1;32m     46\u001b[0m       symmetry_flags        = maptbx.use_space_group_symmetry)\n\u001b[1;32m     47\u001b[0m     \u001b[0mself\u001b[0m\u001b[0;34m.\u001b[0m\u001b[0matom_radius\u001b[0m \u001b[0;34m=\u001b[0m \u001b[0mNone\u001b[0m\u001b[0;34m\u001b[0m\u001b[0m\n",
      "\u001b[0;31mAttributeError\u001b[0m: 'function' object has no attribute 'accessor'"
     ]
    }
   ],
   "source": [
    "rsr_model(small_model,target_map_object=small_map_manager)"
   ]
  },
  {
   "cell_type": "code",
   "execution_count": 89,
   "metadata": {},
   "outputs": [],
   "source": [
    "map_data = small_map_manager.map_data()"
   ]
  },
  {
   "cell_type": "code",
   "execution_count": 92,
   "metadata": {},
   "outputs": [
    {
     "data": {
      "text/plain": [
       "(22, 20, 22)"
      ]
     },
     "execution_count": 92,
     "metadata": {},
     "output_type": "execute_result"
    }
   ],
   "source": [
    "map_data.accessor().all()"
   ]
  },
  {
   "cell_type": "code",
   "execution_count": 94,
   "metadata": {},
   "outputs": [],
   "source": [
    "from mmtbx.maps.correlation import five_cc"
   ]
  },
  {
   "cell_type": "code",
   "execution_count": 113,
   "metadata": {},
   "outputs": [],
   "source": [
    "DMIN = 3\n",
    "five_cc_obj = five_cc(\n",
    "               small_map_manager.map_data(),\n",
    "               small_model.get_xray_structure(),\n",
    "               DMIN,\n",
    "               box=None,\n",
    "               keep_map_calc=False,\n",
    "               compute_cc_box=False,\n",
    "               compute_cc_image=False,\n",
    "               compute_cc_mask=True,\n",
    "               compute_cc_volume=True,\n",
    "               compute_cc_peaks=True)"
   ]
  },
  {
   "cell_type": "code",
   "execution_count": 114,
   "metadata": {},
   "outputs": [
    {
     "data": {
      "text/plain": [
       "group_args\n",
       "  atom_radius                    : None\n",
       "  cc_box                         : None\n",
       "  cc_image                       : None\n",
       "  cc_mask                        : 0.677753523734\n",
       "  cc_peaks                       : 0.673932690858\n",
       "  cc_volume                      : 0.712594024311\n",
       "  map_calc                       : None"
      ]
     },
     "execution_count": 114,
     "metadata": {},
     "output_type": "execute_result"
    }
   ],
   "source": [
    "five_cc_obj.result"
   ]
  },
  {
   "cell_type": "code",
   "execution_count": 122,
   "metadata": {},
   "outputs": [
    {
     "data": {
      "text/plain": [
       "mmtbx.model.model.manager"
      ]
     },
     "execution_count": 122,
     "metadata": {},
     "output_type": "execute_result"
    }
   ],
   "source": [
    "type(model_manager)"
   ]
  },
  {
   "cell_type": "code",
   "execution_count": 124,
   "metadata": {},
   "outputs": [],
   "source": [
    "model_manager.model_statistics_info"
   ]
  },
  {
   "cell_type": "code",
   "execution_count": 126,
   "metadata": {},
   "outputs": [],
   "source": [
    "a = model_manager.get_atoms()"
   ]
  },
  {
   "cell_type": "code",
   "execution_count": 128,
   "metadata": {},
   "outputs": [],
   "source": [
    "h = model_manager.get_hierarchy()"
   ]
  },
  {
   "cell_type": "code",
   "execution_count": 129,
   "metadata": {},
   "outputs": [
    {
     "data": {
      "text/plain": [
       "['__class__',\n",
       " '__delattr__',\n",
       " '__dict__',\n",
       " '__doc__',\n",
       " '__eq__',\n",
       " '__format__',\n",
       " '__getattribute__',\n",
       " '__getstate__',\n",
       " '__hash__',\n",
       " '__init__',\n",
       " '__module__',\n",
       " '__ne__',\n",
       " '__new__',\n",
       " '__reduce__',\n",
       " '__reduce_ex__',\n",
       " '__repr__',\n",
       " '__safe_for_unpickling__',\n",
       " '__setattr__',\n",
       " '__setstate__',\n",
       " '__sizeof__',\n",
       " '__str__',\n",
       " '__subclasshook__',\n",
       " '__weakref__',\n",
       " '_as_pdb_string_cstringio',\n",
       " '_write_pdb_file',\n",
       " 'adopt_xray_structure',\n",
       " 'altloc_indices',\n",
       " 'append_model',\n",
       " 'apply_rotation_translation',\n",
       " 'as_cif_block',\n",
       " 'as_pdb_input',\n",
       " 'as_pdb_string',\n",
       " 'as_str',\n",
       " 'atom_groups',\n",
       " 'atom_selection_cache',\n",
       " 'atoms',\n",
       " 'atoms_reset_serial',\n",
       " 'atoms_size',\n",
       " 'atoms_with_i_seq_mismatch',\n",
       " 'atoms_with_labels',\n",
       " 'chains',\n",
       " 'chunk_selections',\n",
       " 'composition',\n",
       " 'contains_nucleic_acid',\n",
       " 'contains_protein',\n",
       " 'contains_rna',\n",
       " 'convert_met_to_semet',\n",
       " 'convert_semet_to_met',\n",
       " 'deep_copy',\n",
       " 'distance_based_simple_two_way_bond_sets',\n",
       " 'expand_to_p1',\n",
       " 'extract_xray_structure',\n",
       " 'find_model_index',\n",
       " 'flip_symmetric_amino_acids',\n",
       " 'get_atom_selection_cache',\n",
       " 'get_auth_asym_id',\n",
       " 'get_auth_asym_id_iseq',\n",
       " 'get_auth_seq_id',\n",
       " 'get_auth_seq_id_iseq',\n",
       " 'get_conformer_indices',\n",
       " 'get_label_alt_id_atom',\n",
       " 'get_label_alt_id_iseq',\n",
       " 'get_label_asym_id',\n",
       " 'get_label_asym_id_iseq',\n",
       " 'get_label_seq_id',\n",
       " 'get_label_seq_id_iseq',\n",
       " 'get_overall_counts',\n",
       " 'get_peptide_c_alpha_selection',\n",
       " 'info',\n",
       " 'insert_model',\n",
       " 'is_ca_only',\n",
       " 'is_similar_hierarchy',\n",
       " 'memory_id',\n",
       " 'models',\n",
       " 'models_size',\n",
       " 'occupancy_counts',\n",
       " 'occupancy_groups_simple',\n",
       " 'only_atom',\n",
       " 'only_atom_group',\n",
       " 'only_chain',\n",
       " 'only_conformer',\n",
       " 'only_model',\n",
       " 'only_residue',\n",
       " 'only_residue_group',\n",
       " 'overall_counts',\n",
       " 'pre_allocate_models',\n",
       " 'remove_alt_confs',\n",
       " 'remove_atoms',\n",
       " 'remove_hd',\n",
       " 'remove_incomplete_main_chain_protein',\n",
       " 'remove_model',\n",
       " 'remove_residue_groups_with_atoms_on_special_positions_selective',\n",
       " 'rename_chain_id',\n",
       " 'reset_atom_i_seqs',\n",
       " 'reset_i_seq_if_necessary',\n",
       " 'residue_groups',\n",
       " 'select',\n",
       " 'set_atomic_charge',\n",
       " 'shift_to_origin',\n",
       " 'show',\n",
       " 'sort_atoms_in_place',\n",
       " 'transfer_chains_from_other',\n",
       " 'truncate_to_poly',\n",
       " 'truncate_to_poly_ala',\n",
       " 'truncate_to_poly_gly',\n",
       " 'write_mmcif_file',\n",
       " 'write_pdb_file']"
      ]
     },
     "execution_count": 129,
     "metadata": {},
     "output_type": "execute_result"
    }
   ],
   "source": [
    "dir(h)"
   ]
  },
  {
   "cell_type": "code",
   "execution_count": 131,
   "metadata": {},
   "outputs": [
    {
     "data": {
      "text/plain": [
       "[<iotbx_pdb_hierarchy_ext.model at 0x7f744824cc08>]"
      ]
     },
     "execution_count": 131,
     "metadata": {},
     "output_type": "execute_result"
    }
   ],
   "source": [
    "h.models()"
   ]
  },
  {
   "cell_type": "code",
   "execution_count": 133,
   "metadata": {},
   "outputs": [
    {
     "data": {
      "text/plain": [
       "group_args\n",
       "  n_atoms                        : 43\n",
       "  n_chains                       : 1\n",
       "  n_hd                           : 12\n",
       "  n_nucleotide                   : 0\n",
       "  n_other                        : 1\n",
       "  n_protein                      : 0\n",
       "  n_water                        : 0\n",
       "  other_cnts                     : Counter({'ATP': 1})"
      ]
     },
     "execution_count": 133,
     "metadata": {},
     "output_type": "execute_result"
    }
   ],
   "source": [
    "h.composition()"
   ]
  },
  {
   "cell_type": "code",
   "execution_count": 134,
   "metadata": {},
   "outputs": [
    {
     "data": {
      "text/plain": [
       "['__class__',\n",
       " '__delattr__',\n",
       " '__dict__',\n",
       " '__doc__',\n",
       " '__eq__',\n",
       " '__format__',\n",
       " '__getattribute__',\n",
       " '__getstate__',\n",
       " '__hash__',\n",
       " '__init__',\n",
       " '__module__',\n",
       " '__ne__',\n",
       " '__new__',\n",
       " '__reduce__',\n",
       " '__reduce_ex__',\n",
       " '__repr__',\n",
       " '__safe_for_unpickling__',\n",
       " '__setattr__',\n",
       " '__setstate__',\n",
       " '__sizeof__',\n",
       " '__str__',\n",
       " '__subclasshook__',\n",
       " '__weakref__',\n",
       " '_as_pdb_string_cstringio',\n",
       " '_write_pdb_file',\n",
       " 'adopt_xray_structure',\n",
       " 'altloc_indices',\n",
       " 'append_model',\n",
       " 'apply_rotation_translation',\n",
       " 'as_cif_block',\n",
       " 'as_pdb_input',\n",
       " 'as_pdb_string',\n",
       " 'as_str',\n",
       " 'atom_groups',\n",
       " 'atom_selection_cache',\n",
       " 'atoms',\n",
       " 'atoms_reset_serial',\n",
       " 'atoms_size',\n",
       " 'atoms_with_i_seq_mismatch',\n",
       " 'atoms_with_labels',\n",
       " 'chains',\n",
       " 'chunk_selections',\n",
       " 'composition',\n",
       " 'contains_nucleic_acid',\n",
       " 'contains_protein',\n",
       " 'contains_rna',\n",
       " 'convert_met_to_semet',\n",
       " 'convert_semet_to_met',\n",
       " 'deep_copy',\n",
       " 'distance_based_simple_two_way_bond_sets',\n",
       " 'expand_to_p1',\n",
       " 'extract_xray_structure',\n",
       " 'find_model_index',\n",
       " 'flip_symmetric_amino_acids',\n",
       " 'get_atom_selection_cache',\n",
       " 'get_auth_asym_id',\n",
       " 'get_auth_asym_id_iseq',\n",
       " 'get_auth_seq_id',\n",
       " 'get_auth_seq_id_iseq',\n",
       " 'get_conformer_indices',\n",
       " 'get_label_alt_id_atom',\n",
       " 'get_label_alt_id_iseq',\n",
       " 'get_label_asym_id',\n",
       " 'get_label_asym_id_iseq',\n",
       " 'get_label_seq_id',\n",
       " 'get_label_seq_id_iseq',\n",
       " 'get_overall_counts',\n",
       " 'get_peptide_c_alpha_selection',\n",
       " 'info',\n",
       " 'insert_model',\n",
       " 'is_ca_only',\n",
       " 'is_similar_hierarchy',\n",
       " 'memory_id',\n",
       " 'models',\n",
       " 'models_size',\n",
       " 'occupancy_counts',\n",
       " 'occupancy_groups_simple',\n",
       " 'only_atom',\n",
       " 'only_atom_group',\n",
       " 'only_chain',\n",
       " 'only_conformer',\n",
       " 'only_model',\n",
       " 'only_residue',\n",
       " 'only_residue_group',\n",
       " 'overall_counts',\n",
       " 'pre_allocate_models',\n",
       " 'remove_alt_confs',\n",
       " 'remove_atoms',\n",
       " 'remove_hd',\n",
       " 'remove_incomplete_main_chain_protein',\n",
       " 'remove_model',\n",
       " 'remove_residue_groups_with_atoms_on_special_positions_selective',\n",
       " 'rename_chain_id',\n",
       " 'reset_atom_i_seqs',\n",
       " 'reset_i_seq_if_necessary',\n",
       " 'residue_groups',\n",
       " 'select',\n",
       " 'set_atomic_charge',\n",
       " 'shift_to_origin',\n",
       " 'show',\n",
       " 'sort_atoms_in_place',\n",
       " 'transfer_chains_from_other',\n",
       " 'truncate_to_poly',\n",
       " 'truncate_to_poly_ala',\n",
       " 'truncate_to_poly_gly',\n",
       " 'write_mmcif_file',\n",
       " 'write_pdb_file']"
      ]
     },
     "execution_count": 134,
     "metadata": {},
     "output_type": "execute_result"
    }
   ],
   "source": [
    "dir(h)"
   ]
  },
  {
   "cell_type": "code",
   "execution_count": 136,
   "metadata": {},
   "outputs": [
    {
     "data": {
      "text/plain": [
       "'/home/user/Software/phenix/build/lib/iotbx_pdb_hierarchy_ext.so'"
      ]
     },
     "execution_count": 136,
     "metadata": {},
     "output_type": "execute_result"
    }
   ],
   "source": [
    "inspect.getabsfile(type(h))"
   ]
  },
  {
   "cell_type": "code",
   "execution_count": 167,
   "metadata": {},
   "outputs": [],
   "source": [
    "sel = h.atom_selection_cache().selection(\"not (water or nucleotide or protein)\")"
   ]
  },
  {
   "cell_type": "code",
   "execution_count": 170,
   "metadata": {},
   "outputs": [],
   "source": [
    "selh = h.select(sel)"
   ]
  },
  {
   "cell_type": "code",
   "execution_count": 171,
   "metadata": {},
   "outputs": [
    {
     "data": {
      "text/plain": [
       "group_args\n",
       "  n_atoms                        : 43\n",
       "  n_chains                       : 1\n",
       "  n_hd                           : 12\n",
       "  n_nucleotide                   : 0\n",
       "  n_other                        : 1\n",
       "  n_protein                      : 0\n",
       "  n_water                        : 0\n",
       "  other_cnts                     : Counter({'ATP': 1})"
      ]
     },
     "execution_count": 171,
     "metadata": {},
     "output_type": "execute_result"
    }
   ],
   "source": [
    "selh.composition()"
   ]
  },
  {
   "cell_type": "code",
   "execution_count": null,
   "metadata": {},
   "outputs": [],
   "source": []
  }
 ],
 "metadata": {
  "kernelspec": {
   "display_name": "phenix",
   "language": "python",
   "name": "phenix"
  },
  "language_info": {
   "codemirror_mode": {
    "name": "ipython",
    "version": 2
   },
   "file_extension": ".py",
   "mimetype": "text/x-python",
   "name": "python",
   "nbconvert_exporter": "python",
   "pygments_lexer": "ipython2",
   "version": "2.7.15"
  }
 },
 "nbformat": 4,
 "nbformat_minor": 4
}
