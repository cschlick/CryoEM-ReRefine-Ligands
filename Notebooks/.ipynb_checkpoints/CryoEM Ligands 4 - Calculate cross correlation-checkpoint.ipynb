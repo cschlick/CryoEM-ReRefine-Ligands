{
 "cells": [
  {
   "cell_type": "code",
   "execution_count": 1,
   "metadata": {},
   "outputs": [],
   "source": [
    "from iotbx.map_manager import map_manager as MapManager\n",
    "from mmtbx.model import manager as ModelManager\n",
    "from iotbx.data_manager import DataManager\n",
    "from iotbx.map_model_manager import map_model_manager as MapModelManager\n",
    "from mmtbx.maps.correlation import five_cc"
   ]
  },
  {
   "cell_type": "code",
   "execution_count": 2,
   "metadata": {},
   "outputs": [],
   "source": [
    "import os\n",
    "import pickle\n",
    "from multiprocessing import Pool\n",
    "from collections import Counter\n",
    "import numpy as np\n",
    "import gzip\n",
    "import shutil"
   ]
  },
  {
   "cell_type": "code",
   "execution_count": 3,
   "metadata": {},
   "outputs": [],
   "source": [
    "nucleotide_entries_path = \"data/nucleotide_entries.pkl\" # list of entries\n",
    "working_directory = \"../../maps_and_models_ligand_extracted\" # directory of extracted densities and ligand models"
   ]
  },
  {
   "cell_type": "code",
   "execution_count": 4,
   "metadata": {},
   "outputs": [],
   "source": [
    "entry_ids = os.listdir(working_directory)\n",
    "\n",
    "with open(nucleotide_entries_path,\"rb\") as fh:\n",
    "    nucleotide_entries = pickle.load(fh)\n",
    "nucleotide_entries_dict = {entry.entry:entry for entry in nucleotide_entries if entry.entry in entry_ids}"
   ]
  },
  {
   "cell_type": "code",
   "execution_count": 5,
   "metadata": {},
   "outputs": [],
   "source": [
    "# open all maps and models, calculate cross correlation\n",
    "five_cc_obj_dict = {}\n",
    "for entry_id in entry_ids:\n",
    "    entry = nucleotide_entries_dict[entry_id]\n",
    "    entry_directory = working_directory+\"/\"+entry_id\n",
    "    contents = os.listdir(entry_directory)\n",
    "    ligand_ids = list(set([f.split(\".\")[0] for f in contents if \"ligand\" in f]))\n",
    "    \n",
    "    for ligand_id in ligand_ids:\n",
    "        ligand_map_path = entry_directory+\"/\"+ligand_id+\".map\"\n",
    "        ligand_model_path = entry_directory+\"/\"+ligand_id+\".pdb\"\n",
    "        dm = DataManager()\n",
    "        dm.process_model_file(ligand_model_path)\n",
    "        model_manager = dm.get_model()\n",
    "        map_manager = MapManager(ligand_map_path)\n",
    "        mmm = MapModelManager(map_manager=map_manager, model=model_manager)\n",
    "\n",
    "        d_min = entry.resolution\n",
    "        five_cc_obj = five_cc(\n",
    "                       mmm.map_data(),\n",
    "                       mmm.model().get_xray_structure(),\n",
    "                       d_min,\n",
    "                       box=None,\n",
    "                       keep_map_calc=False,\n",
    "                       compute_cc_box=False,\n",
    "                       compute_cc_image=False,\n",
    "                       compute_cc_mask=True,\n",
    "                       compute_cc_volume=True,\n",
    "                       compute_cc_peaks=True)\n",
    "\n",
    "        five_cc_obj_dict[entry_id+\"_\"+ligand_id] = five_cc_obj\n",
    "\n",
    "    "
   ]
  },
  {
   "cell_type": "code",
   "execution_count": 19,
   "metadata": {},
   "outputs": [],
   "source": [
    "from collections import OrderedDict"
   ]
  },
  {
   "cell_type": "code",
   "execution_count": 20,
   "metadata": {},
   "outputs": [],
   "source": [
    "# extract the cc_mask value to an array\n",
    "cc_mask_dict = OrderedDict()\n",
    "\n",
    "for i,(key,value) in enumerate(five_cc_obj_dict.items()):\n",
    "    cc_mask = value.result()[\"cc_mask\"]\n",
    "    cc_mask_dict[key]=cc_mask\n",
    "    \n",
    "#cc_mask_array = np.array(cc_mask_values)"
   ]
  },
  {
   "cell_type": "code",
   "execution_count": 32,
   "metadata": {},
   "outputs": [
    {
     "data": {
      "text/plain": [
       "1.0000000000000002"
      ]
     },
     "execution_count": 32,
     "metadata": {},
     "output_type": "execute_result"
    }
   ],
   "source": [
    "cc_mask_dict[max(cc_mask_dict,key=cc_mask_dict.get)]"
   ]
  },
  {
   "cell_type": "code",
   "execution_count": 33,
   "metadata": {},
   "outputs": [
    {
     "data": {
      "text/plain": [
       "-1.0000000000000002"
      ]
     },
     "execution_count": 33,
     "metadata": {},
     "output_type": "execute_result"
    }
   ],
   "source": [
    "cc_mask_dict[min(cc_mask_dict,key=cc_mask_dict.get)]"
   ]
  },
  {
   "cell_type": "code",
   "execution_count": 34,
   "metadata": {},
   "outputs": [],
   "source": [
    "cc_mask_values = np.array(cc_mask_dict.values())"
   ]
  },
  {
   "cell_type": "markdown",
   "metadata": {},
   "source": [
    "## Plot"
   ]
  },
  {
   "cell_type": "code",
   "execution_count": 7,
   "metadata": {},
   "outputs": [],
   "source": [
    "import matplotlib.pyplot as plt\n",
    "%matplotlib inline\n",
    "\n",
    "plt.style.use(\"seaborn-notebook\")\n",
    "plot_scale = 0.5\n",
    "font_scale = 2\n",
    "\n",
    "params = {'legend.fontsize': 'x-large',\n",
    "          'figure.figsize': (16*plot_scale, 11*plot_scale),\n",
    "         'axes.labelsize': 10*font_scale,\n",
    "         'axes.titlesize':10*font_scale,\n",
    "         'xtick.labelsize':10*font_scale,\n",
    "         'ytick.labelsize':10*font_scale}\n",
    "plt.rcParams.update(params)"
   ]
  },
  {
   "cell_type": "code",
   "execution_count": 45,
   "metadata": {},
   "outputs": [
    {
     "data": {
      "text/plain": [
       "Text(0.5,0,'CC')"
      ]
     },
     "execution_count": 45,
     "metadata": {},
     "output_type": "execute_result"
    },
    {
     "data": {
      "image/png": "[encoded data removed]",
      "text/plain": [
       "<Figure size 576x396 with 1 Axes>"
      ]
     },
     "metadata": {
      "needs_background": "light"
     },
     "output_type": "display_data"
    }
   ],
   "source": [
    "n,bins,patches = plt.hist(cc_mask_array,bins=20)\n",
    "plt.xlabel(\"CC\")"
   ]
  },
  {
   "cell_type": "code",
   "execution_count": null,
   "metadata": {},
   "outputs": [],
   "source": []
  }
 ],
 "metadata": {
  "kernelspec": {
   "display_name": "phenix",
   "language": "python",
   "name": "phenix"
  },
  "language_info": {
   "codemirror_mode": {
    "name": "ipython",
    "version": 2
   },
   "file_extension": ".py",
   "mimetype": "text/x-python",
   "name": "python",
   "nbconvert_exporter": "python",
   "pygments_lexer": "ipython2",
   "version": "2.7.15"
  }
 },
 "nbformat": 4,
 "nbformat_minor": 4
}
