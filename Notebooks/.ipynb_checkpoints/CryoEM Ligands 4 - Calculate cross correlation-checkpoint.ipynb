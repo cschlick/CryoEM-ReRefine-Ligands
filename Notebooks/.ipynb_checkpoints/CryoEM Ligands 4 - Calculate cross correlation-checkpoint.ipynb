{
 "cells": [
  {
   "cell_type": "code",
   "execution_count": 1,
   "metadata": {},
   "outputs": [],
   "source": [
    "from iotbx.map_manager import map_manager as MapManager\n",
    "from mmtbx.model import manager as ModelManager\n",
    "from iotbx.data_manager import DataManager\n",
    "from iotbx.map_model_manager import map_model_manager as MapModelManager\n",
    "from mmtbx.maps.correlation import five_cc"
   ]
  },
  {
   "cell_type": "code",
   "execution_count": 2,
   "metadata": {},
   "outputs": [],
   "source": [
    "import os\n",
    "import pickle\n",
    "from multiprocessing import Pool\n",
    "from collections import Counter\n",
    "import numpy as np\n",
    "import gzip\n",
    "import shutil"
   ]
  },
  {
   "cell_type": "code",
   "execution_count": 98,
   "metadata": {},
   "outputs": [],
   "source": [
    "nucleotide_entries_path = \"data/nucleotide_entries.pkl\" # list of entries\n",
    "working_directory = \"../../maps_and_models_ligand_extracted\" # directory of extracted densities and ligand models"
   ]
  },
  {
   "cell_type": "code",
   "execution_count": 99,
   "metadata": {},
   "outputs": [],
   "source": [
    "entry_ids = os.listdir(working_directory)\n",
    "\n",
    "with open(nucleotide_entries_path,\"rb\") as fh:\n",
    "    nucleotide_entries = pickle.load(fh)\n"
   ]
  },
  {
   "cell_type": "code",
   "execution_count": 133,
   "metadata": {},
   "outputs": [],
   "source": [
    "resolutions = np.array([entry.resolution for entry in nucleotide_entries if entry.resolution is not None])"
   ]
  },
  {
   "cell_type": "code",
   "execution_count": 134,
   "metadata": {},
   "outputs": [
    {
     "data": {
      "text/plain": [
       "Text(0.5,0,'Resolution estimate (angstroms)')"
      ]
     },
     "execution_count": 134,
     "metadata": {},
     "output_type": "execute_result"
    },
    {
     "data": {
      "image/png": "[encoded data removed]",
      "text/plain": [
       "<Figure size 576x396 with 1 Axes>"
      ]
     },
     "metadata": {
      "needs_background": "light"
     },
     "output_type": "display_data"
    }
   ],
   "source": [
    "ret = plt.hist(resolutions,bins=40)\n",
    "plt.xlim(0,15)\n",
    "plt.xlabel(\"Resolution estimate (angstroms)\")"
   ]
  },
  {
   "cell_type": "code",
   "execution_count": 138,
   "metadata": {},
   "outputs": [
    {
     "data": {
      "text/plain": [
       "Text(0.5,0,'Resolution estimate (angstroms)')"
      ]
     },
     "execution_count": 138,
     "metadata": {},
     "output_type": "execute_result"
    },
    {
     "data": {
      "image/png": "[encoded data removed]",
      "text/plain": [
       "<Figure size 576x396 with 1 Axes>"
      ]
     },
     "metadata": {
      "needs_background": "light"
     },
     "output_type": "display_data"
    }
   ],
   "source": [
    "ret = plt.hist(resolutions,bins=20)\n",
    "plt.xlim(15,50)\n",
    "plt.ylim(0,10)\n",
    "plt.xlabel(\"Resolution estimate (angstroms)\")"
   ]
  },
  {
   "cell_type": "code",
   "execution_count": 103,
   "metadata": {},
   "outputs": [],
   "source": [
    "# filter out poor resolution or non-existent resolution entries\n",
    "nucleotide_entries_dict = {entry.entry:entry for entry in nucleotide_entries if (entry.entry in entry_ids) and (entry.resolution is not None) and (entry.resolution <=10)}"
   ]
  },
  {
   "cell_type": "code",
   "execution_count": 106,
   "metadata": {},
   "outputs": [],
   "source": [
    "# open all maps and models, calculate cross correlation\n",
    "five_cc_obj_dict = {}\n",
    "for entry_id in nucleotide_entries_dict.keys():\n",
    "    entry = nucleotide_entries_dict[entry_id]\n",
    "    entry_directory = working_directory+\"/\"+entry_id\n",
    "    contents = os.listdir(entry_directory)\n",
    "    ligand_ids = list(set([f.split(\".\")[0] for f in contents if \"ligand\" in f]))\n",
    "    \n",
    "    for ligand_id in ligand_ids:\n",
    "        ligand_map_path = entry_directory+\"/\"+ligand_id+\".map\"\n",
    "        ligand_model_path = entry_directory+\"/\"+ligand_id+\".pdb\"\n",
    "        dm = DataManager()\n",
    "        dm.process_model_file(ligand_model_path)\n",
    "        model_manager = dm.get_model()\n",
    "        map_manager = MapManager(ligand_map_path)\n",
    "        mmm = MapModelManager(map_manager=map_manager, model=model_manager)\n",
    "\n",
    "        d_min = entry.resolution\n",
    "        five_cc_obj = five_cc(\n",
    "                       mmm.map_data(),\n",
    "                       mmm.model().get_xray_structure(),\n",
    "                       d_min,\n",
    "                       box=None,\n",
    "                       keep_map_calc=False,\n",
    "                       compute_cc_box=False,\n",
    "                       compute_cc_image=False,\n",
    "                       compute_cc_mask=True,\n",
    "                       compute_cc_volume=True,\n",
    "                       compute_cc_peaks=True)\n",
    "\n",
    "        five_cc_obj_dict[entry_id+\"_\"+ligand_id] = five_cc_obj\n",
    "\n",
    "    "
   ]
  },
  {
   "cell_type": "code",
   "execution_count": 107,
   "metadata": {},
   "outputs": [],
   "source": [
    "from collections import OrderedDict\n",
    "import operator"
   ]
  },
  {
   "cell_type": "code",
   "execution_count": 108,
   "metadata": {},
   "outputs": [],
   "source": [
    "# extract the cc_mask value to an array\n",
    "cc_mask_dict = {}\n",
    "\n",
    "for i,(key,value) in enumerate(five_cc_obj_dict.items()):\n",
    "    cc_mask = value.result()[\"cc_mask\"]\n",
    "    cc_mask_dict[key]=cc_mask\n",
    "    \n",
    "cc_mask_dict = OrderedDict(sorted(cc_mask_dict.items(), key=operator.itemgetter(1),reverse=True))"
   ]
  },
  {
   "cell_type": "markdown",
   "metadata": {},
   "source": [
    "## Plot"
   ]
  },
  {
   "cell_type": "code",
   "execution_count": 109,
   "metadata": {},
   "outputs": [],
   "source": [
    "import matplotlib.pyplot as plt\n",
    "%matplotlib inline\n",
    "\n",
    "plt.style.use(\"seaborn-notebook\")\n",
    "plot_scale = 0.5\n",
    "font_scale = 2\n",
    "\n",
    "params = {'legend.fontsize': 'x-large',\n",
    "          'figure.figsize': (16*plot_scale, 11*plot_scale),\n",
    "         'axes.labelsize': 10*font_scale,\n",
    "         'axes.titlesize':10*font_scale,\n",
    "         'xtick.labelsize':10*font_scale,\n",
    "         'ytick.labelsize':10*font_scale}\n",
    "plt.rcParams.update(params)"
   ]
  },
  {
   "cell_type": "code",
   "execution_count": 110,
   "metadata": {},
   "outputs": [
    {
     "data": {
      "text/plain": [
       "Text(0.5,0,'CCmask')"
      ]
     },
     "execution_count": 110,
     "metadata": {},
     "output_type": "execute_result"
    },
    {
     "data": {
      "image/png": "[encoded data removed]",
      "text/plain": [
       "<Figure size 576x396 with 1 Axes>"
      ]
     },
     "metadata": {
      "needs_background": "light"
     },
     "output_type": "display_data"
    }
   ],
   "source": [
    "n,bins,patches = plt.hist(cc_mask_array,bins=30)\n",
    "plt.xlabel(\"CCmask\")"
   ]
  },
  {
   "cell_type": "code",
   "execution_count": 111,
   "metadata": {},
   "outputs": [
    {
     "data": {
      "text/plain": [
       "OrderedDict([('5ftl_3297_ligand_ADP_F', 0.8864616289511293),\n",
       "             ('5ftl_3297_ligand_ADP_C', 0.8864228075168041),\n",
       "             ('5ftl_3297_ligand_ADP_E', 0.8845918701077804),\n",
       "             ('5ftl_3297_ligand_ADP_B', 0.884356099777352),\n",
       "             ('5ftl_3297_ligand_ADP_A', 0.8840853114073288),\n",
       "             ('5ftl_3297_ligand_ADP_D', 0.883761798163136),\n",
       "             ('6f1u_4169_ligand_ADP_B', 0.8403064511105527),\n",
       "             ('3ja8_6338_ligand_ADP_5', 0.8296316774632909),\n",
       "             ('5ftk_3296_ligand_ADP_F', 0.8243633466565371),\n",
       "             ('5ftk_3296_ligand_ADP_C', 0.8241442045038778),\n",
       "             ('5ftk_3296_ligand_ADP_A', 0.8214733396503797),\n",
       "             ('5ftk_3296_ligand_ADP_B', 0.8211643207903546),\n",
       "             ('5ftk_3296_ligand_ADP_E', 0.8211630930142748),\n",
       "             ('5ftk_3296_ligand_ADP_D', 0.8211416487813925),\n",
       "             ('6f1u_4169_ligand_ADP_D', 0.820752074164057),\n",
       "             ('6f1u_4169_ligand_ADP_F', 0.8099958071989116),\n",
       "             ('6v11_21009_ligand_ADP_B', 0.8088633362736783),\n",
       "             ('6t8o_10402_ligand_ADP_E', 0.8067166674403572),\n",
       "             ('5gjr_9512_ligand_ADP_0', 0.8065523136557623),\n",
       "             ('5gjr_9512_ligand_ADP_M', 0.8065436275700081),\n",
       "             ('6v11_21009_ligand_ADP_A', 0.8013084096016151),\n",
       "             ('6qb8_4489_ligand_ADP_q', 0.7993930051631923),\n",
       "             ('3ja8_6338_ligand_ADP_4', 0.7970731656867469),\n",
       "             ('6fo1_4287_ligand_ADP_A', 0.7921194602220066),\n",
       "             ('5gjr_9512_ligand_ADP_z', 0.7888298268231956),\n",
       "             ('5gjr_9512_ligand_ADP_L', 0.7888256894079321),\n",
       "             ('6t8g_10400_ligand_ADP_A', 0.7867694492304117),\n",
       "             ('6t8o_10402_ligand_ADP_F', 0.785732375326127),\n",
       "             ('6t8o_10402_ligand_ADP_A', 0.7825934866748615),\n",
       "             ('6t8o_10402_ligand_ADP_C', 0.7809306911682085),\n",
       "             ('6iqw_9708_ligand_ATP_A', 0.7784273018379975),\n",
       "             ('6v11_21009_ligand_ADP_C', 0.772775175211691),\n",
       "             ('5gjr_9512_ligand_ADP_K', 0.7719755163417599),\n",
       "             ('5gjr_9512_ligand_ADP_y', 0.7719267403854246),\n",
       "             ('6ip2_9698_ligand_ATP_C', 0.7704661485744577),\n",
       "             ('6j5w_0683_ligand_ADP_A', 0.7672088605051998),\n",
       "             ('6fo1_4287_ligand_ADP_B', 0.7654392888804061),\n",
       "             ('6jbj_9791_ligand_ATP_A', 0.7636662065152828),\n",
       "             ('5gjr_9512_ligand_ADP_J', 0.7624504048045397),\n",
       "             ('5gjr_9512_ligand_ADP_x', 0.7622549582614542),\n",
       "             ('6jbj_9791_ligand_ATP_B', 0.7612277562488589),\n",
       "             ('6fo1_4287_ligand_ADP_C', 0.7594053435293189),\n",
       "             ('6t8g_10400_ligand_ADP_F', 0.758528248956861),\n",
       "             ('6v11_21009_ligand_ADP_F', 0.7579873392961846),\n",
       "             ('5bk4_9400_ligand_ADP_D', 0.7553303966510566),\n",
       "             ('5bk4_9400_ligand_ADP_5', 0.7526514291423942),\n",
       "             ('6ip2_9698_ligand_ATP_D', 0.7481556464668669),\n",
       "             ('6av9_7007_ligand_ADP_B', 0.7447803403064333),\n",
       "             ('6avb_7008_ligand_ADP_B', 0.7441183315445373),\n",
       "             ('6t8o_10402_ligand_ADP_D', 0.7413254613094302),\n",
       "             ('6av9_7007_ligand_ADP_C', 0.7385562018952025),\n",
       "             ('6avb_7008_ligand_ADP_A', 0.7380132036784002),\n",
       "             ('6t8g_10400_ligand_ADP_D', 0.7359279122323685),\n",
       "             ('6avb_7008_ligand_ADP_C', 0.7359221474728751),\n",
       "             ('6t8g_10400_ligand_ADP_E', 0.7356974332757615),\n",
       "             ('5gjr_9512_ligand_ADP_v', 0.7330788967815306),\n",
       "             ('5gjr_9512_ligand_ADP_H', 0.7330468768707787),\n",
       "             ('5bk4_9400_ligand_ADP_B', 0.7318879337176518),\n",
       "             ('6qb8_4489_ligand_ADP_Q', 0.7313748410810714),\n",
       "             ('6av9_7007_ligand_ADP_A', 0.7309938445175274),\n",
       "             ('5gjq_9511_ligand_ADP_M', 0.730250831831123),\n",
       "             ('6fo1_4287_ligand_ADP_D', 0.7299745739048423),\n",
       "             ('5bk4_9400_ligand_ADP_3', 0.7289198204573939),\n",
       "             ('6sh3_10192_ligand_ADP_B', 0.7280344584088492),\n",
       "             ('6sh3_10192_ligand_ADP_E', 0.7267465763579658),\n",
       "             ('5bk4_9400_ligand_ADP_7', 0.7235227790653755),\n",
       "             ('5wc0_8794_ligand_ATP_C', 0.72271310472138),\n",
       "             ('6sh3_10192_ligand_ADP_C', 0.7223375316427091),\n",
       "             ('6fo1_4287_ligand_ADP_E', 0.7222574564059392),\n",
       "             ('5vc7_8658_ligand_ATP_A', 0.7211594541865016),\n",
       "             ('6vqb_21347_ligand_ADP_A', 0.7209056142710406),\n",
       "             ('6sh3_10192_ligand_ADP_D', 0.7192177345844666),\n",
       "             ('5vc7_8658_ligand_ATP_E', 0.719217360215655),\n",
       "             ('5vc7_8658_ligand_ATP_D', 0.7187397772003656),\n",
       "             ('5vc7_8658_ligand_ATP_G', 0.7181095928545542),\n",
       "             ('5vc7_8658_ligand_ATP_C', 0.7158684072627246),\n",
       "             ('5vc7_8658_ligand_ATP_F', 0.7156075086532201),\n",
       "             ('5yud_6845_ligand_ATP_A', 0.7124141123602526),\n",
       "             ('6sh3_10192_ligand_ADP_F', 0.7124110401462641),\n",
       "             ('6v11_21009_ligand_ADP_E', 0.7117035219547276),\n",
       "             ('5bk4_9400_ligand_ADP_F', 0.7108408271881623),\n",
       "             ('6sh3_10192_ligand_ADP_A', 0.7073289823711053),\n",
       "             ('3ja8_6338_ligand_ADP_2', 0.7023779271154187),\n",
       "             ('5mjs_3522_ligand_GTP_G', 0.701327151342444),\n",
       "             ('5wc0_8794_ligand_ATP_A', 0.7013111424490095),\n",
       "             ('6ip2_9698_ligand_ATP_E', 0.7001004056134076),\n",
       "             ('6fo1_4287_ligand_ADP_F', 0.6989300286854568),\n",
       "             ('5gjq_9511_ligand_ADP_J', 0.6988199877916624),\n",
       "             ('5wc0_8794_ligand_ATP_B', 0.69642818880457),\n",
       "             ('6ip2_9698_ligand_ATP_B', 0.6957821934895579),\n",
       "             ('5wc0_8794_ligand_ATP_D', 0.6941475057849834),\n",
       "             ('3ja8_6338_ligand_ADP_7', 0.6932912315023333),\n",
       "             ('6t8g_10400_ligand_ADP_B', 0.6923409673497694),\n",
       "             ('5gjq_9511_ligand_ADP_I', 0.6922016407501365),\n",
       "             ('6t8g_10400_ligand_ADP_C', 0.6909151467117336),\n",
       "             ('5gjr_9512_ligand_ADP_I', 0.6900700484778739),\n",
       "             ('5gjr_9512_ligand_ADP_w', 0.6897854061727916),\n",
       "             ('5gjq_9511_ligand_ADP_L', 0.6881406579789372),\n",
       "             ('5mjs_3522_ligand_GTP_E', 0.6871935821336087),\n",
       "             ('5wc0_8794_ligand_ATP_E', 0.6815014993582745),\n",
       "             ('5mjs_3522_ligand_GTP_H', 0.6813909040507057),\n",
       "             ('5mjs_3522_ligand_GTP_F', 0.6811464844414976),\n",
       "             ('6sh3_10192_ligand_ADP_G', 0.6805184855210327),\n",
       "             ('5y5x_6810_ligand_ADP_A', 0.6795122422001769),\n",
       "             ('6e88_9004_ligand_GTP_H', 0.6782591307495837),\n",
       "             ('5twv_8470_ligand_ATP_E', 0.6755255262911627),\n",
       "             ('5xmk_6734_ligand_ATP_C', 0.673974009232122),\n",
       "             ('5twv_8470_ligand_ATP_G', 0.669901225824116),\n",
       "             ('6npy_0476_ligand_ADP_A', 0.6694000653586163),\n",
       "             ('6d3s_7794_ligand_ATP_A', 0.6692513160761853),\n",
       "             ('5xmi_6733_ligand_ATP_E', 0.66688262469718),\n",
       "             ('5xmi_6733_ligand_ATP_F', 0.6665563892029888),\n",
       "             ('5xmk_6734_ligand_ATP_F', 0.6657383025567702),\n",
       "             ('5twv_8470_ligand_ATP_C', 0.6651291193701768),\n",
       "             ('5twv_8470_ligand_ATP_A', 0.6649417001449928),\n",
       "             ('6qi9_4553_ligand_ADP_B', 0.6625559021350068),\n",
       "             ('6pzi_20535_ligand_ATP_G', 0.6618670449912606),\n",
       "             ('5xmi_6733_ligand_ATP_D', 0.6602467926296762),\n",
       "             ('5wcb_8796_ligand_ATP_C', 0.659688529601469),\n",
       "             ('6e88_9004_ligand_GTP_I', 0.6592798587375965),\n",
       "             ('6oif_20076_ligand_ATP_C', 0.6550607770171333),\n",
       "             ('6oif_20076_ligand_ATP_E', 0.6539327020267492),\n",
       "             ('5xmk_6734_ligand_ATP_D', 0.6523559144772676),\n",
       "             ('6oif_20076_ligand_ATP_G', 0.6521246271852107),\n",
       "             ('5y5y_6811_ligand_ADP_A', 0.6510230248066265),\n",
       "             ('5wcb_8796_ligand_ATP_B', 0.6426594674956676),\n",
       "             ('6oif_20076_ligand_ATP_B', 0.6426305790742668),\n",
       "             ('6oif_20076_ligand_ATP_A', 0.6416123680440876),\n",
       "             ('6oif_20076_ligand_ATP_K', 0.6407349237422708),\n",
       "             ('6t8o_10402_ligand_ADP_B', 0.6387068293098789),\n",
       "             ('5wcb_8796_ligand_ATP_E', 0.6378193130391147),\n",
       "             ('6e88_9004_ligand_GTP_A', 0.6354537369615824),\n",
       "             ('3ja8_6338_ligand_ADP_3', 0.6353597894618832),\n",
       "             ('6oif_20076_ligand_ATP_I', 0.6350361332184983),\n",
       "             ('6iy3_9749_ligand_ADP_O', 0.6333642147993491),\n",
       "             ('5xmk_6734_ligand_ATP_B', 0.6309819168350427),\n",
       "             ('6oif_20076_ligand_ATP_D', 0.630731737870245),\n",
       "             ('6ne3_9356_ligand_ADP_W', 0.6293458942706345),\n",
       "             ('6ip2_9698_ligand_ATP_A', 0.6291719465291038),\n",
       "             ('5xmi_6733_ligand_ATP_C', 0.6288995729169332),\n",
       "             ('5gjq_9511_ligand_ADP_H', 0.6281483378107391),\n",
       "             ('5xmk_6734_ligand_ATP_E', 0.6252902603230454),\n",
       "             ('5vy8_8744_ligand_ADP_C', 0.6212967485101798),\n",
       "             ('6oif_20076_ligand_ATP_M', 0.619094901647909),\n",
       "             ('6kn7_0728_ligand_ADP_F', 0.6182274946269598),\n",
       "             ('6kn7_0728_ligand_ADP_D', 0.6178785506829522),\n",
       "             ('5wc0_8794_ligand_ATP_F', 0.617307007991433),\n",
       "             ('3j94_6204_ligand_ATP_E', 0.6158428510533756),\n",
       "             ('6d3r_7793_ligand_ATP_A', 0.6147805138677094),\n",
       "             ('6iy2_9748_ligand_ADP_O', 0.6088718151405308),\n",
       "             ('3j94_6204_ligand_ATP_C', 0.607495958746054),\n",
       "             ('5gjq_9511_ligand_ADP_K', 0.6064212264960704),\n",
       "             ('5oaf_3773_ligand_ADP_F', 0.6024850033851046),\n",
       "             ('5wcb_8796_ligand_ATP_D', 0.6024604386375688),\n",
       "             ('6iro_9720_ligand_ADP_L', 0.6016670566179965),\n",
       "             ('6n8t_0375_ligand_ATP_B', 0.597469934125632),\n",
       "             ('6bco_7083_ligand_ATP_D', 0.5970857726809403),\n",
       "             ('6bco_7083_ligand_ATP_B', 0.5967018669421739),\n",
       "             ('6oif_20076_ligand_ATP_F', 0.596184915771999),\n",
       "             ('6bco_7083_ligand_ATP_C', 0.5941269949695218),\n",
       "             ('6bco_7083_ligand_ATP_A', 0.5940280274260857),\n",
       "             ('6oif_20076_ligand_ATP_H', 0.5920193054974963),\n",
       "             ('6qi9_4553_ligand_ADP_F', 0.5907371257082532),\n",
       "             ('5wcb_8796_ligand_ATP_F', 0.5870081680442534),\n",
       "             ('5oaf_3773_ligand_ADP_B', 0.5862739833965847),\n",
       "             ('6oif_20076_ligand_ATP_J', 0.5828497234390213),\n",
       "             ('6n8t_0375_ligand_ATP_D', 0.5811192623796678),\n",
       "             ('5y60_6813_ligand_ADP_B', 0.5807246953902746),\n",
       "             ('6oif_20076_ligand_ATP_O', 0.5801773846476558),\n",
       "             ('5oaf_3773_ligand_ADP_C', 0.5792245460072558),\n",
       "             ('3j94_6204_ligand_ATP_B', 0.5776931000545852),\n",
       "             ('6oif_20076_ligand_ATP_Q', 0.5724303968746417),\n",
       "             ('6bcq_7085_ligand_ATP_C', 0.5721987542349442),\n",
       "             ('6e88_9004_ligand_GTP_C', 0.5700619537022354),\n",
       "             ('6kn7_0728_ligand_ADP_K', 0.5678124076502944),\n",
       "             ('6mcb_9066_ligand_GTP_B', 0.5666145181744394),\n",
       "             ('6bcq_7085_ligand_ATP_D', 0.5656784206121855),\n",
       "             ('6qi9_4553_ligand_ADP_A', 0.5653364955258675),\n",
       "             ('6oif_20076_ligand_ATP_L', 0.5647863754662866),\n",
       "             ('6og2_20050_ligand_ADP_F', 0.5636123584288957),\n",
       "             ('6bcq_7085_ligand_ATP_A', 0.5633291456535388),\n",
       "             ('6bcq_7085_ligand_ATP_B', 0.5619846856030258),\n",
       "             ('3j94_6204_ligand_ATP_F', 0.5618804278208771),\n",
       "             ('6e88_9004_ligand_GTP_L', 0.5618191426619594),\n",
       "             ('6qi9_4553_ligand_ADP_C', 0.560177945569908),\n",
       "             ('5xmi_6733_ligand_ATP_B', 0.5600121643959903),\n",
       "             ('6e88_9004_ligand_GTP_M', 0.5571439827079803),\n",
       "             ('5oaf_3773_ligand_ADP_D', 0.5570202871257873),\n",
       "             ('3jd0_6631_ligand_GTP_D', 0.5531581511901787),\n",
       "             ('3jd0_6631_ligand_GTP_E', 0.5528767059682143),\n",
       "             ('3jd0_6631_ligand_GTP_A', 0.552779253142059),\n",
       "             ('3jd0_6631_ligand_GTP_B', 0.552275282549692),\n",
       "             ('3j94_6204_ligand_ATP_D', 0.5487916838379661),\n",
       "             ('3j95_6205_ligand_ADP_E', 0.5464858669274911),\n",
       "             ('6oif_20076_ligand_ATP_S', 0.5456786778640054),\n",
       "             ('6n8t_0375_ligand_ATP_C', 0.5441384923285695),\n",
       "             ('3jd0_6631_ligand_GTP_F', 0.5436942584065166),\n",
       "             ('3jd0_6631_ligand_GTP_C', 0.542940680000485),\n",
       "             ('6d00_7782_ligand_ADP_4', 0.5415380340067513),\n",
       "             ('6oif_20076_ligand_ATP_N', 0.5413650301099802),\n",
       "             ('6n8z_0377_ligand_ATP_D', 0.5395940533728086),\n",
       "             ('5u8s_8518_ligand_ATP_2', 0.5315994537030562),\n",
       "             ('6n8z_0377_ligand_ATP_C', 0.5277337465408958),\n",
       "             ('5vy8_8744_ligand_ADP_B', 0.527596559114764),\n",
       "             ('6kn7_0728_ligand_ADP_B', 0.5267682608603546),\n",
       "             ('6n8z_0377_ligand_ATP_F', 0.5156937311886288),\n",
       "             ('6oif_20076_ligand_ATP_U', 0.5142187239050724),\n",
       "             ('6d00_7782_ligand_ADP_3', 0.5131437428132677),\n",
       "             ('6olm_20117_ligand_ATP_E', 0.5128232326042419),\n",
       "             ('6d00_7782_ligand_ADP_5', 0.5106340951209586),\n",
       "             ('6olm_20117_ligand_ATP_B', 0.5103278120549386),\n",
       "             ('3ja8_6338_ligand_ADP_6', 0.5091351442961863),\n",
       "             ('6ip2_9698_ligand_ATP_F', 0.5084124553426786),\n",
       "             ('6kn7_0728_ligand_ADP_M', 0.5074061187214444),\n",
       "             ('5oaf_3773_ligand_ADP_A', 0.5073646003961825),\n",
       "             ('3j95_6205_ligand_ADP_B', 0.5054683632685113),\n",
       "             ('6olm_20117_ligand_ATP_F', 0.5047772115353919),\n",
       "             ('5u8s_8518_ligand_ATP_3', 0.5027481375720388),\n",
       "             ('6qi9_4553_ligand_ADP_E', 0.5025568870322314),\n",
       "             ('6olm_20117_ligand_ATP_C', 0.5022749462640025),\n",
       "             ('3mfp_5168_ligand_ADP_A', 0.5016753083294491),\n",
       "             ('6oif_20076_ligand_ATP_R', 0.5006414363130907),\n",
       "             ('6kn7_0728_ligand_ADP_J', 0.49915426998703655),\n",
       "             ('6oif_20076_ligand_ATP_P', 0.4963007120539458),\n",
       "             ('6d00_7782_ligand_ADP_2', 0.495689518653304),\n",
       "             ('6olm_20117_ligand_ATP_D', 0.492158695154009),\n",
       "             ('6olm_20117_ligand_ATP_A', 0.49044626489101906),\n",
       "             ('6n8z_0377_ligand_ATP_B', 0.48028234211920096),\n",
       "             ('6oif_20076_ligand_ATP_W', 0.47491275611174055),\n",
       "             ('3j8x_6187_ligand_GTP_A', 0.47186989463665985),\n",
       "             ('6og2_20050_ligand_ADP_A', 0.47115406178172986),\n",
       "             ('3j95_6205_ligand_ADP_D', 0.4671247645223069),\n",
       "             ('5vy8_8744_ligand_ADP_F', 0.4668362369339251),\n",
       "             ('5vy8_8744_ligand_ADP_D', 0.46485303021819874),\n",
       "             ('5bk4_9400_ligand_ADP_A', 0.4644259630400934),\n",
       "             ('5bk4_9400_ligand_ADP_2', 0.46411318114247674),\n",
       "             ('4atu_2095_ligand_GTP_B', 0.4625721692575867),\n",
       "             ('6oif_20076_ligand_ATP_T', 0.46198187735924573),\n",
       "             ('3j9z_6315_ligand_GTP_S1', 0.46188635924700394),\n",
       "             ('3jb0_6374_ligand_GTP_A', 0.45886655571385815),\n",
       "             ('6oif_20076_ligand_ATP_V', 0.45684839548895473),\n",
       "             ('6kn7_0728_ligand_ADP_A', 0.4551765204870253),\n",
       "             ('5u8s_8518_ligand_ATP_5', 0.44864706359567696),\n",
       "             ('5vy8_8744_ligand_ADP_E', 0.4484853359037226),\n",
       "             ('6n8t_0375_ligand_ATP_E', 0.4469424377752345),\n",
       "             ('5y5z_6812_ligand_ADP_C', 0.4422875016582004),\n",
       "             ('5vy8_8744_ligand_ADP_A', 0.4414998953284601),\n",
       "             ('6s47_10098_ligand_ATP_Bi', 0.4404315866222822),\n",
       "             ('5y5y_6811_ligand_ADP_C', 0.43659187728001575),\n",
       "             ('5oaf_3773_ligand_ADP_E', 0.4294561401635559),\n",
       "             ('4atu_2095_ligand_GTP_H', 0.4150831490539884),\n",
       "             ('3j94_6204_ligand_ATP_A', 0.4118765013068378),\n",
       "             ('3jb6_6408_ligand_GTP_A', 0.4101259670786179),\n",
       "             ('6oif_20076_ligand_ATP_X', 0.40926430585914675),\n",
       "             ('6kn7_0728_ligand_ADP_I', 0.40343178937308416),\n",
       "             ('6d00_7782_ligand_ADP_6', 0.4026534440259469),\n",
       "             ('6kn7_0728_ligand_ADP_H', 0.3987672443290451),\n",
       "             ('6kn7_0728_ligand_ADP_L', 0.397773118758335),\n",
       "             ('6kn8_0729_ligand_ADP_K', 0.39620305644683457),\n",
       "             ('5y5z_6812_ligand_ADP_B', 0.37433655016008316),\n",
       "             ('5h53_6664_ligand_ADP_D', 0.37374144181650715),\n",
       "             ('5y5x_6810_ligand_ADP_C', 0.3734556630645536),\n",
       "             ('6nue_0519_ligand_ATP_J', 0.37289776307532413),\n",
       "             ('6kn7_0728_ligand_ADP_E', 0.3713871524211768),\n",
       "             ('6n8t_0375_ligand_ATP_F', 0.36896037631909134),\n",
       "             ('6kn7_0728_ligand_ADP_G', 0.36444726303621416),\n",
       "             ('6nud_0516_ligand_ATP_J', 0.3642691650991041),\n",
       "             ('4atu_2095_ligand_GTP_D', 0.36267937480935947),\n",
       "             ('2xrp_1788_ligand_GTP_B', 0.35910167807211213),\n",
       "             ('6kn8_0729_ligand_ADP_D', 0.35324852866686746),\n",
       "             ('4atx_2098_ligand_GTP_B', 0.3479334546377433),\n",
       "             ('6kn7_0728_ligand_ADP_O', 0.34702940569521906),\n",
       "             ('6mcc_9067_ligand_GTP_B', 0.34534685310460245),\n",
       "             ('6kn8_0729_ligand_ADP_I', 0.33987031952599506),\n",
       "             ('6n8z_0377_ligand_ATP_E', 0.3366413056067664),\n",
       "             ('6kn8_0729_ligand_ADP_B', 0.3272660059298623),\n",
       "             ('6kn7_0728_ligand_ADP_N', 0.3260958115385328),\n",
       "             ('2xrp_1788_ligand_GTP_F', 0.3250710821214461),\n",
       "             ('6kn8_0729_ligand_ADP_N', 0.3237937464544956),\n",
       "             ('6kn8_0729_ligand_ADP_F', 0.3214387232444575),\n",
       "             ('6szb_10352_ligand_ADP_B', 0.31564864144900956),\n",
       "             ('2xrp_1788_ligand_GTP_D', 0.3142271099853595),\n",
       "             ('3jb6_6408_ligand_GTP_B', 0.31173364323765645),\n",
       "             ('6sza_10351_ligand_ADP_E', 0.30738872210312035),\n",
       "             ('6kn8_0729_ligand_ADP_J', 0.30457918783236415),\n",
       "             ('6kn8_0729_ligand_ADP_L', 0.3031172434997116),\n",
       "             ('6szb_10352_ligand_ADP_E', 0.29885358377362514),\n",
       "             ('2xrp_1788_ligand_GTP_H', 0.2982228218336569),\n",
       "             ('6kn7_0728_ligand_ADP_C', 0.29655513997077276),\n",
       "             ('6kn8_0729_ligand_ADP_A', 0.2914742243570899),\n",
       "             ('6kn8_0729_ligand_ADP_C', 0.2883829596265219),\n",
       "             ('6kn8_0729_ligand_ADP_H', 0.28600362375694094),\n",
       "             ('5y60_6813_ligand_ADP_A', 0.27854484249533984),\n",
       "             ('4atu_2095_ligand_GTP_F', 0.27709336471295065),\n",
       "             ('6sza_10351_ligand_ADP_B', 0.27129761962854776),\n",
       "             ('5h53_6664_ligand_ADP_E', 0.259898855722029),\n",
       "             ('6kn8_0729_ligand_ADP_M', 0.2528219606032623),\n",
       "             ('6sza_10351_ligand_ADP_A', 0.2522526489054653),\n",
       "             ('3j95_6205_ligand_ADP_C', 0.2490425994451544),\n",
       "             ('6szb_10352_ligand_ADP_C', 0.24759540980053688),\n",
       "             ('6sza_10351_ligand_ADP_D', 0.24619516111037845),\n",
       "             ('6n8z_0377_ligand_ATP_A', 0.23146765174370945),\n",
       "             ('6szb_10352_ligand_ADP_A', 0.22660595190167954),\n",
       "             ('6kn8_0729_ligand_ADP_G', 0.2226221010585573),\n",
       "             ('6kn8_0729_ligand_ADP_E', 0.2076324830617371),\n",
       "             ('6pto_20473_ligand_ATP_i', 0.19520585251258088),\n",
       "             ('6ptn_20472_ligand_ATP_2', 0.19133155765933968),\n",
       "             ('6n8t_0375_ligand_ATP_A', 0.1878083652310561),\n",
       "             ('6ptn_20472_ligand_ATP_i', 0.16649651185858447),\n",
       "             ('6d00_7782_ligand_ADP_1', 0.1568464921169038),\n",
       "             ('6szb_10352_ligand_ADP_D', 0.1555232145851573),\n",
       "             ('3j0j_5335_ligand_ADP_A', 0.14344281486271934),\n",
       "             ('6pto_20473_ligand_ATP_2', 0.13007074477227606),\n",
       "             ('6ptn_20472_ligand_ATP_5', 0.0948756755171073),\n",
       "             ('5vzl_8749_ligand_GTP_B', 0.08443226977658219),\n",
       "             ('6qi8_4552_ligand_ADP_E', 0.08011561224673107),\n",
       "             ('6kn8_0729_ligand_ADP_O', 0.06354881766765529),\n",
       "             ('3j0j_5335_ligand_ADP_C', 0.05805129962168508),\n",
       "             ('6ptn_20472_ligand_ATP_3', 0.03694890116946821),\n",
       "             ('6qi8_4552_ligand_ADP_C', 0.010055861468697027),\n",
       "             ('6pto_20473_ligand_ATP_h', -0.028154158311902818),\n",
       "             ('6qi8_4552_ligand_ADP_B', -0.04202597263618609),\n",
       "             ('6qi8_4552_ligand_ADP_D', -0.062010489008594516),\n",
       "             ('6qi8_4552_ligand_ADP_F', -0.07087945493210394),\n",
       "             ('6ptn_20472_ligand_ATP_l', -0.0720897566277856),\n",
       "             ('6qi8_4552_ligand_ADP_A', -0.08270202049832259),\n",
       "             ('6pto_20473_ligand_ATP_3', -0.09638346034738145),\n",
       "             ('6pto_20473_ligand_ATP_k', -0.10375000683147038),\n",
       "             ('6ptn_20472_ligand_ATP_j', -0.23702422453045205),\n",
       "             ('6pto_20473_ligand_ATP_5', -0.2725449354783971)])"
      ]
     },
     "execution_count": 111,
     "metadata": {},
     "output_type": "execute_result"
    }
   ],
   "source": [
    "cc_mask_dict"
   ]
  },
  {
   "cell_type": "code",
   "execution_count": 112,
   "metadata": {},
   "outputs": [],
   "source": [
    "def find_nearest(array, value,retidx=True):\n",
    "    array = np.asarray(array)\n",
    "    idx = (np.abs(array - value)).argmin()\n",
    "    if retidx:\n",
    "        return idx\n",
    "    else:\n",
    "        return array[idx]\n",
    "cc_mask_values = np.array(cc_mask_dict.values())"
   ]
  },
  {
   "cell_type": "code",
   "execution_count": 113,
   "metadata": {},
   "outputs": [],
   "source": [
    "# find some examples\n",
    "best_cc_key = cc_mask_dict.keys()[find_nearest(cc_mask_values,1)]\n",
    "worst_cc_key = cc_mask_dict.keys()[find_nearest(cc_mask_values,-1)]\n",
    "zero_cc_key = cc_mask_dict.keys()[find_nearest(cc_mask_values,0)]\n",
    "half_cc_key = cc_mask_dict.keys()[find_nearest(cc_mask_values,0.5)]"
   ]
  },
  {
   "cell_type": "code",
   "execution_count": 114,
   "metadata": {},
   "outputs": [
    {
     "name": "stdout",
     "output_type": "stream",
     "text": [
      "('CC=1:', '5ftl_3297_ligand_ADP_F')\n",
      "('CC=0.5:', '6oif_20076_ligand_ATP_R')\n",
      "('CC=0', '6qi8_4552_ligand_ADP_C')\n",
      "('CC=-1:', '6pto_20473_ligand_ATP_5')\n"
     ]
    }
   ],
   "source": [
    "print(\"CC=1:\",best_cc_key)\n",
    "print(\"CC=0.5:\",half_cc_key)\n",
    "print(\"CC=0\",zero_cc_key)\n",
    "print(\"CC=-1:\",worst_cc_key)\n"
   ]
  },
  {
   "cell_type": "code",
   "execution_count": 123,
   "metadata": {},
   "outputs": [],
   "source": [
    "cc_ordered_entry_ids = []\n",
    "for entry in cc_mask_dict.keys():\n",
    "    split = entry.split(\"_\")\n",
    "    entry_id = split[0]+\"_\"+split[1]\n",
    "    cc_ordered_entry_ids.append(entry_id)"
   ]
  },
  {
   "cell_type": "code",
   "execution_count": 125,
   "metadata": {},
   "outputs": [],
   "source": [
    "resolutions = np.array([nucleotide_entries_dict[entry_id].resolution for entry_id in cc_ordered_entry_ids])"
   ]
  },
  {
   "cell_type": "code",
   "execution_count": 129,
   "metadata": {},
   "outputs": [
    {
     "data": {
      "text/plain": [
       "Text(0.5,0,'CCmask')"
      ]
     },
     "execution_count": 129,
     "metadata": {},
     "output_type": "execute_result"
    },
    {
     "data": {
      "image/png": "[encoded data removed]",
      "text/plain": [
       "<Figure size 576x396 with 1 Axes>"
      ]
     },
     "metadata": {
      "needs_background": "light"
     },
     "output_type": "display_data"
    }
   ],
   "source": [
    "plt.scatter(cc_mask_dict.values(),resolutions)\n",
    "plt.ylabel(\"Resolution(A)\")\n",
    "plt.xlabel(\"CCmask\")"
   ]
  },
  {
   "cell_type": "code",
   "execution_count": null,
   "metadata": {},
   "outputs": [],
   "source": []
  }
 ],
 "metadata": {
  "kernelspec": {
   "display_name": "phenix",
   "language": "python",
   "name": "phenix"
  },
  "language_info": {
   "codemirror_mode": {
    "name": "ipython",
    "version": 2
   },
   "file_extension": ".py",
   "mimetype": "text/x-python",
   "name": "python",
   "nbconvert_exporter": "python",
   "pygments_lexer": "ipython2",
   "version": "2.7.15"
  }
 },
 "nbformat": 4,
 "nbformat_minor": 4
}
