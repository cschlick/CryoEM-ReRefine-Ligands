{
 "cells": [
  {
   "cell_type": "code",
   "execution_count": 1,
   "metadata": {},
   "outputs": [],
   "source": [
    "from iotbx.map_manager import map_manager as MapManager\n",
    "from mmtbx.model import manager as ModelManager\n",
    "from iotbx.data_manager import DataManager\n",
    "from iotbx.map_model_manager import map_model_manager as MapModelManager\n"
   ]
  },
  {
   "cell_type": "code",
   "execution_count": 2,
   "metadata": {},
   "outputs": [],
   "source": [
    "%load_ext line_profiler"
   ]
  },
  {
   "cell_type": "code",
   "execution_count": 3,
   "metadata": {},
   "outputs": [],
   "source": [
    "import os\n",
    "import pickle\n",
    "from multiprocessing import Pool\n",
    "from collections import Counter\n",
    "import numpy as np\n",
    "from collections import OrderedDict\n",
    "import operator"
   ]
  },
  {
   "cell_type": "code",
   "execution_count": 4,
   "metadata": {},
   "outputs": [],
   "source": [
    "import matplotlib.pyplot as plt\n",
    "%matplotlib inline\n",
    "\n",
    "plt.style.use(\"seaborn-notebook\")\n",
    "plot_scale = 3\n",
    "font_scale = 5\n",
    "\n",
    "params = {'legend.fontsize': 'x-large',\n",
    "          'figure.figsize': (16*plot_scale, 11*plot_scale),\n",
    "         'axes.labelsize': 10*font_scale,\n",
    "         'axes.titlesize':10*font_scale,\n",
    "         'xtick.labelsize':10*font_scale,\n",
    "         'ytick.labelsize':10*font_scale}\n",
    "plt.rcParams.update(params)"
   ]
  },
  {
   "cell_type": "code",
   "execution_count": 5,
   "metadata": {},
   "outputs": [],
   "source": [
    "# read in entries\n",
    "\n",
    "entry_composition_path = \"data/entry_composition.pkl\" #list of group_args objects\n",
    "with open(entry_composition_path,\"rb\") as fh:\n",
    "    entry_composition_list = pickle.load(fh)"
   ]
  },
  {
   "cell_type": "code",
   "execution_count": 6,
   "metadata": {},
   "outputs": [],
   "source": [
    "ligand_entries = [entry for entry in entry_composition_list if len(entry.composition._result.other_cnts)>0]"
   ]
  },
  {
   "cell_type": "code",
   "execution_count": 7,
   "metadata": {},
   "outputs": [
    {
     "data": {
      "text/plain": [
       "2504"
      ]
     },
     "execution_count": 7,
     "metadata": {},
     "output_type": "execute_result"
    }
   ],
   "source": [
    "len(ligand_entries)"
   ]
  },
  {
   "cell_type": "code",
   "execution_count": 8,
   "metadata": {
    "scrolled": true
   },
   "outputs": [
    {
     "name": "stdout",
     "output_type": "stream",
     "text": [
      "group_args\n",
      "  _stop_dynamic_attributes__enabled : True\n",
      "  composition                    : <mmtbx.model.statistics.composition object at 0x7f900990af50>\n",
      "  date                           : 2019-03-06\n",
      "  entry                          : 6jlu_9839\n",
      "  entry_emdb                     : 9839\n",
      "  entry_pdb                      : 6jlu\n",
      "  error                          : None\n",
      "  map_file                       : /net/cci-filer2/raid1/emdb_mirror/structures/EMD-9839/map/emd_9839.map.gz\n",
      "  map_file_1                     : None\n",
      "  map_file_2                     : None\n",
      "  model_file                     : /net/cci/pdb_mirror/mmcif/jl/6jlu.cif.gz\n",
      "  resolution                     : 3.02\n",
      "group_args\n",
      "  n_atoms                        : 102777\n",
      "  n_chains                       : 128\n",
      "  n_hd                           : 0\n",
      "  n_nucleotide                   : 0\n",
      "  n_other                        : 820\n",
      "  n_protein                      : 9704\n",
      "  n_water                        : 1\n",
      "  other_cnts                     : Counter({'UNK': 284, 'CLA': 230, 'A86': 124, 'KC2': 36, 'LMG': 36, 'LHG': 22, 'KC1': 22, 'BCR': 20, 'DGD': 14, 'SQD': 10, 'PL9': 4, 'HEM': 4, 'PHO': 4, 'CL': 2, 'BCT': 2, 'OEX': 2, 'DD6': 2, 'FE2': 2})\n"
     ]
    }
   ],
   "source": [
    "# check which entry has the most ligands out of curiosity\n",
    "most_ligands_entry = entry_composition_list[0]\n",
    "for entry in entry_composition_list:\n",
    "    if len(entry.composition._result.other_cnts) > len(most_ligands_entry.composition._result.other_cnts):\n",
    "        most_ligands_entry = entry\n",
    "print(most_ligands_entry)\n",
    "print(most_ligands_entry.composition.result())"
   ]
  },
  {
   "cell_type": "markdown",
   "metadata": {},
   "source": [
    "# lets explore this most complicated composition..."
   ]
  },
  {
   "cell_type": "code",
   "execution_count": 9,
   "metadata": {},
   "outputs": [
    {
     "name": "stdout",
     "output_type": "stream",
     "text": [
      "params: None\n"
     ]
    }
   ],
   "source": [
    "dm = DataManager()\n",
    "dm.process_model_file(most_ligands_entry.model_file)\n",
    "model = dm.get_model()\n"
   ]
  },
  {
   "cell_type": "code",
   "execution_count": 10,
   "metadata": {},
   "outputs": [
    {
     "name": "stdout",
     "output_type": "stream",
     "text": [
      "params: None\n"
     ]
    }
   ],
   "source": [
    "if model.crystal_symmetry() is None:\n",
    "    from cctbx.maptbx.box import shift_and_box_model\n",
    "    model = shift_and_box_model(model)"
   ]
  },
  {
   "cell_type": "code",
   "execution_count": null,
   "metadata": {},
   "outputs": [],
   "source": []
  },
  {
   "cell_type": "code",
   "execution_count": 11,
   "metadata": {},
   "outputs": [],
   "source": [
    "h = model.get_hierarchy()\n",
    "\n",
    "residue_groups = [rg for chain in h.chains() for rg in chain.residue_groups()]\n",
    "#residue_models = [model.select(rg.atoms().extract_i_seq()) for rg in residue_groups] # slow, model.select is slow\n",
    "        "
   ]
  },
  {
   "cell_type": "code",
   "execution_count": 12,
   "metadata": {},
   "outputs": [],
   "source": [
    "sel = residue_groups[0].atoms().extract_i_seq()"
   ]
  },
  {
   "cell_type": "code",
   "execution_count": 13,
   "metadata": {},
   "outputs": [
    {
     "name": "stdout",
     "output_type": "stream",
     "text": [
      "params: <libtbx.phil.scope_extract object at 0x7f900a06c990>\n"
     ]
    },
    {
     "data": {
      "text/plain": [
       "Model manager \n",
       "None\n",
       "Chains: 1 Residues 1 \n",
       "Working coordinate shift (0, 0, 0))"
      ]
     },
     "execution_count": 13,
     "metadata": {},
     "output_type": "execute_result"
    }
   ],
   "source": [
    "model.select(sel)"
   ]
  },
  {
   "cell_type": "code",
   "execution_count": null,
   "metadata": {},
   "outputs": [],
   "source": []
  },
  {
   "cell_type": "code",
   "execution_count": 30,
   "metadata": {},
   "outputs": [
    {
     "name": "stdout",
     "output_type": "stream",
     "text": [
      " "
     ]
    }
   ],
   "source": [
    "%prun -s cumtime model.select(sel)"
   ]
  },
  {
   "cell_type": "code",
   "execution_count": 17,
   "metadata": {},
   "outputs": [],
   "source": []
  },
  {
   "cell_type": "code",
   "execution_count": 19,
   "metadata": {},
   "outputs": [
    {
     "name": "stdout",
     "output_type": "stream",
     "text": [
      "pdb_interpretation\n",
      "  .alias = refinement.pdb_interpretation\n",
      "  .short_caption = Model interpretation\n",
      "{\n",
      "    \n",
      "  restraints_library\n",
      "    .short_caption = Restraints library selection\n",
      "    .style = box auto_align\n",
      "  {\n",
      "    cdl = True\n",
      "      .type = bool\n",
      "      .short_caption = Use Conformation-Dependent Library\n",
      "      .help = Use Conformation Dependent Library (CDL)         for geometry restraints\n",
      "      .style = bold\n",
      "    mcl = True\n",
      "      .type = bool\n",
      "      .short_caption = Use Metal Coordination Library (MCL)\n",
      "      .help = Use Metal Coordination Library (MCL)         for tetrahedral Zn++ and iron-sulfur clusters SF4, FES, F3S, ...\n",
      "      .style = bold\n",
      "    cis_pro_eh99 = False\n",
      "      .type = bool\n",
      "      .style = hidden\n",
      "    omega_cdl = False\n",
      "      .type = bool\n",
      "      .short_caption = Use Omega Conformation-Dependent Library\n",
      "      .help = Use Omega Conformation Dependent Library (omega-CDL)         for geometry restraints\n",
      "      .style = hidden\n",
      "    cdl_svl = False\n",
      "      .type = bool\n",
      "      .short_caption = Use improved SVL values for CDL classes\n",
      "      .style = hidden\n",
      "    rdl = False\n",
      "      .type = bool\n",
      "      .style = hidden\n",
      "    rdl_selection = *all TRP\n",
      "      .type = choice(multi=True)\n",
      "      .style = hidden\n",
      "    hpdl = False\n",
      "      .type = bool\n",
      "      .style = hidden\n",
      "  }\n",
      "\n",
      "  sort_atoms = True\n",
      "    .type = bool\n",
      "    .short_caption = Sort atoms in input pdb so they would be in the same order\n",
      "  flip_symmetric_amino_acids = True\n",
      "    .type = bool\n",
      "    .short_caption = Flip symmetric amino acids to conform to IUPAC convention\n",
      "    .style = noauto\n",
      "  superpose_ideal_ligand = *None all SF4 F3S DVT\n",
      "    .type = choice(multi=True)\n",
      "    .short_caption = Substitute correctly oriented SF4 metal cluster\n",
      "  disable_uc_volume_vs_n_atoms_check = False\n",
      "    .type = bool\n",
      "    .short_caption = Disable check of unit cell volume to be compatible with the                      number of atoms\n",
      "  allow_polymer_cross_special_position = False\n",
      "    .type = bool\n",
      "  correct_hydrogens = True\n",
      "    .type = bool\n",
      "    .short_caption = Correct the hydrogen positions trapped in chirals etc\n",
      "  # include scope mmtbx.secondary_structure.build.model_idealization_master_phil_str\n",
      "  include scope mmtbx.secondary_structure.sec_str_master_phil\n",
      "  c_beta_restraints=True\n",
      "    .type = bool\n",
      "    .short_caption = Use C-beta deviation restraints\n",
      "  reference_coordinate_restraints\n",
      "    .short_caption = Reference coordinate restraints\n",
      "    .caption = Harmonic restraints on the starting coordinates\n",
      "    .help = Restrains coordinates in Cartesian space to stay near their       starting positions.  This is intended for use in generating       simulated annealing omit maps, to prevent refined atoms from       collapsing in on the region missing atoms.  For conserving geometry       quality at low resolution, the more flexible reference model       restraints should be used instead.\n",
      "    .style = box auto_align\n",
      "  {\n",
      "    enabled = False\n",
      "      .type = bool\n",
      "    exclude_outliers = True\n",
      "      .caption = Exclude ramachandran plot and rotamer outliers from reference         coordinate selection\n",
      "      .type = bool\n",
      "    selection = all\n",
      "      .type = atom_selection\n",
      "    sigma = 0.2\n",
      "      .type = float\n",
      "    limit = 1.0\n",
      "      .type = float\n",
      "    top_out = False\n",
      "      .type = bool\n",
      "  }\n",
      "  automatic_linking\n",
      "    .style = box auto_align noauto\n",
      "    .short_caption = Automatic covalent linking\n",
      "    .caption = You may choose to run with the defaults or use the buttons       below to select all or none of the linking options. Also, you may enable       individual link types separately and adjust the cutoff values to       fine-tune the link candidates.\n",
      "  {\n",
      "    link_all = False\n",
      "      .type = bool\n",
      "      .short_caption = Automatic linking\n",
      "      .help = If True, bond restraints will be generated for any appropriate         ligand-protein or ligand-nucleic acid covalent bonds. This includes         sugars, amino acid modifications, and other prosthetic groups.\n",
      "      .style = noauto #renderer:draw_automatic_linking_control\n",
      "    link_none = False\n",
      "      .type = bool\n",
      "      .short_caption = Overrides all automatic linking\n",
      "      .style = noauto\n",
      "    link_metals = False\n",
      "      .type = bool\n",
      "    link_residues = False\n",
      "      .type = bool\n",
      "      .short_caption = Link amino acids in \"special\" ways such as cyclic and         side-chain to side-chain links\n",
      "    link_amino_acid_rna_dna = False\n",
      "      .type = bool\n",
      "      .short_caption = Link any RNA/DNA to amino acid possibities\n",
      "    link_carbohydrates = True\n",
      "      .type = bool\n",
      "      .short_caption = Link carbohydrates to protein and other carbohydrates\n",
      "    link_ligands = True\n",
      "      .type = bool\n",
      "      .short_caption = Link ligands to protein\n",
      "    link_small_molecules = False\n",
      "      .type = bool\n",
      "      .short_caption = Link small molecules such as SO4, PO4 to protein\n",
      "    metal_coordination_cutoff = 3.5\n",
      "      .type = float\n",
      "      .short_caption = Maximum distance for automatic linking of metals\n",
      "    amino_acid_bond_cutoff = 1.9\n",
      "      .type = float\n",
      "      .short_caption = Distance cutoff for automatic linking of aminoacids\n",
      "    inter_residue_bond_cutoff = 2.2\n",
      "      .type = float\n",
      "      .short_caption = Distance cutoff for automatic linking of other residues\n",
      "    buffer_for_second_row_elements = 0.5\n",
      "      .type = float\n",
      "      .short_caption = Distance to add to intra_residue_bond_cutoff if one         or more element is in the second (or more) row\n",
      "    carbohydrate_bond_cutoff = 1.99\n",
      "      .type = float\n",
      "    ligand_bond_cutoff = 1.99\n",
      "      .type = float\n",
      "    small_molecule_bond_cutoff = 1.98\n",
      "      .type = float\n",
      "  }\n",
      "  include_in_automatic_linking\n",
      "    .optional = True\n",
      "    .multiple = True\n",
      "    .short_caption = exclude\n",
      "    .style = noauto auto_align\n",
      "  {\n",
      "    selection_1 = None\n",
      "      .type = atom_selection\n",
      "    selection_2 = None\n",
      "      .type = atom_selection\n",
      "    bond_cutoff = 4.5\n",
      "      .type = float\n",
      "  }\n",
      "  exclude_from_automatic_linking\n",
      "    .optional = True\n",
      "    .multiple = True\n",
      "    .short_caption = exclude\n",
      "    .style = noauto auto_align\n",
      "  {\n",
      "    selection_1 = None\n",
      "      .type = atom_selection\n",
      "    selection_2 = None\n",
      "      .type = atom_selection\n",
      "  }\n",
      "  use_neutron_distances = False\n",
      "    .type = bool\n",
      "    .short_caption = Use the nuclear distances for X-H/D\n",
      "    .help = Use neutron X-H distances (which are longer than X-ray ones)\n",
      "  apply_cis_trans_specification\n",
      "    .optional = True\n",
      "    .multiple = True\n",
      "    .short_caption = Modify default cis-trans specification\n",
      "    .style = noauto auto_align\n",
      "  {\n",
      "    cis_trans_mod = cis *trans\n",
      "      .type = choice\n",
      "    residue_selection = None\n",
      "      .type = atom_selection\n",
      "      .help = Residues containing C-alpha atom of omega dihedral\n",
      "  }\n",
      "  apply_cif_restraints\n",
      "    .optional = True\n",
      "    .multiple = True\n",
      "    .short_caption = Use CIF restraints\n",
      "    .style = noauto auto_align\n",
      "  {\n",
      "    restraints_file_name= None\n",
      "      .type = path\n",
      "    residue_selection = None\n",
      "      .type = atom_selection\n",
      "  }\n",
      "  apply_cif_modification\n",
      "    .optional = True\n",
      "    .multiple = True\n",
      "    .short_caption = Modify CIF\n",
      "    .style = noauto auto_align\n",
      "  {\n",
      "    data_mod = None\n",
      "      .type = str\n",
      "    residue_selection = None\n",
      "      .type = atom_selection\n",
      "  }\n",
      "  apply_cif_link\n",
      "    .optional = True\n",
      "    .multiple = True\n",
      "    .short_caption = Add link to CIF\n",
      "    .style = noauto auto_align\n",
      "  {\n",
      "    data_link = None\n",
      "      .type = str\n",
      "    residue_selection_1 = None\n",
      "      .type = atom_selection\n",
      "    residue_selection_2 = None\n",
      "      .type = atom_selection\n",
      "  }\n",
      "  disulfide_bond_exclusions_selection_string = None\n",
      "    .type = str\n",
      "  exclusion_distance_cutoff = 3\n",
      "    .type = float\n",
      "    .help = If SG of CYS forming SS bond is closer than this distance to an             atom that it may coordinate then this SG is excluded from SS bond.\n",
      "  link_distance_cutoff = 3\n",
      "    .type=float\n",
      "    .optional=False\n",
      "    .help = Length of link between the linked residues\n",
      "  disulfide_distance_cutoff = 3\n",
      "    .type=float\n",
      "    .optional=False\n",
      "  add_angle_and_dihedral_restraints_for_disulfides = True\n",
      "    .type = bool\n",
      "    .optional = False\n",
      "    dihedral_function_type = *determined_by_sign_of_periodicity                             all_sinusoidal                             all_harmonic\n",
      "    .type=choice\n",
      "    .optional=False\n",
      "\n",
      "  chir_volume_esd = 0.2\n",
      "    .type=float\n",
      "    .optional=False\n",
      "    .short_caption = Chiral volume E.S.D.\n",
      "  peptide_link\n",
      "    .short_caption = Peptide link settings\n",
      "    .style = box\n",
      "  {\n",
      "    ramachandran_restraints = False\n",
      "      .type = bool\n",
      "      .help = !!! OBSOLETED. Kept for backward compatibility only !!!         Restrains peptide backbone to fall within allowed regions of         Ramachandran plot.  Although it does not eliminate outliers, it can         significantly improve the percent favored and percent outliers at         low resolution.  Probably not useful (and maybe even harmful) at         resolutions much higher than 3.5A.\n",
      "      .expert_level = 2\n",
      "      .style = hidden\n",
      "      .short_caption = Ramachandran restraints\n",
      "    cis_threshold = 45\n",
      "      .type = float\n",
      "      .optional = False\n",
      "      .short_caption = Threshold (degrees) for cis-peptides\n",
      "    apply_all_trans = False\n",
      "      .type = bool\n",
      "      .style = hidden\n",
      "    discard_omega = False\n",
      "      .type = bool\n",
      "    discard_psi_phi = True\n",
      "      .type = bool\n",
      "      .optional = False\n",
      "      .short_caption = Ignore monomer library Phi/Psi restraints\n",
      "    apply_peptide_plane = False\n",
      "      .type = bool\n",
      "    omega_esd_override_value = None\n",
      "      .type = float\n",
      "      .short_caption = Omega-ESD override value\n",
      "    include scope mmtbx.geometry_restraints.ramachandran.old_master_phil\n",
      "  }\n",
      "  include scope mmtbx.geometry_restraints.ramachandran.master_phil\n",
      "  max_reasonable_bond_distance = 50.0\n",
      "    .type=float\n",
      "  nonbonded_distance_cutoff = None\n",
      "    .type=float\n",
      "  default_vdw_distance = 1\n",
      "    .type=float\n",
      "    .optional=False\n",
      "    .short_caption = Default VDW distance\n",
      "  min_vdw_distance = 1\n",
      "    .type=float\n",
      "    .optional=False\n",
      "    .short_caption = Minimum VDW distance\n",
      "  nonbonded_buffer = 1\n",
      "    .type=float\n",
      "    .optional=False\n",
      "    .help = **EXPERIMENTAL, developers only**\n",
      "    .expert_level = 3\n",
      "  nonbonded_weight = None\n",
      "    .type = float\n",
      "    .short_caption = Nonbonded weight\n",
      "    .help = Weighting of nonbonded restraints term.  By default, this will be       set to 16 if explicit hydrogens are used (this was the default in       earlier versions of Phenix), or 100 if hydrogens are missing.\n",
      "  const_shrink_donor_acceptor = 0.6\n",
      "    .type=float\n",
      "    .optional=False\n",
      "    .expert_level=3\n",
      "    .help = **EXPERIMENTAL, developers only**\n",
      "  vdw_1_4_factor = 0.8\n",
      "    .type=float\n",
      "    .optional=False\n",
      "    .short_caption = Scale factor for 1-4 VDW interactions\n",
      "  min_distance_sym_equiv = 0.5\n",
      "    .type=float\n",
      "    .short_caption = Min. symmetry-equivalent distance\n",
      "  custom_nonbonded_symmetry_exclusions = None\n",
      "    .optional = True\n",
      "    .type = atom_selection\n",
      "    .multiple = True\n",
      "  translate_cns_dna_rna_residue_names = None\n",
      "    .type=bool\n",
      "    .optional=False\n",
      "    .short_caption = Translate CNS DNA/RNA names\n",
      "  proceed_with_excessive_length_bonds = False\n",
      "    .type=bool\n",
      "  rna_sugar_pucker_analysis\n",
      "    .short_caption = RNA sugar pucker analysis\n",
      "    .style = box noauto auto_align menu_item parent_submenu:advanced\n",
      "  {\n",
      "    include scope mmtbx.monomer_library.rna_sugar_pucker_analysis.master_phil\n",
      "  }\n",
      "  show_histogram_slots\n",
      "    .style = box auto_align noauto\n",
      "    .expert_level = 2\n",
      "  {\n",
      "    bond_lengths = 5\n",
      "      .type=int\n",
      "    nonbonded_interaction_distances = 5\n",
      "      .type=int\n",
      "    bond_angle_deviations_from_ideal = 5\n",
      "      .type=int\n",
      "    dihedral_angle_deviations_from_ideal = 5\n",
      "      .type=int\n",
      "    chiral_volume_deviations_from_ideal = 5\n",
      "      .type=int\n",
      "  }\n",
      "  show_max_items\n",
      "    .expert_level = 2\n",
      "    .style = box auto_align noauto\n",
      "  {\n",
      "    not_linked = 5\n",
      "      .type=int\n",
      "    bond_restraints_sorted_by_residual = 5\n",
      "      .type=int\n",
      "    nonbonded_interactions_sorted_by_model_distance = 5\n",
      "      .type=int\n",
      "    bond_angle_restraints_sorted_by_residual = 5\n",
      "      .type=int\n",
      "    dihedral_angle_restraints_sorted_by_residual = 3\n",
      "      .type=int\n",
      "    chirality_restraints_sorted_by_residual = 3\n",
      "      .type=int\n",
      "    planarity_restraints_sorted_by_residual = 3\n",
      "      .type=int\n",
      "    residues_with_excluded_nonbonded_symmetry_interactions = 12\n",
      "      .type=int\n",
      "    fatal_problem_max_lines = 10\n",
      "      .type=int\n",
      "  }\n",
      "  include scope iotbx.ncs.ncs_group_phil_str\n",
      "  include scope iotbx.ncs.ncs_search_options\n",
      "    clash_guard\n",
      "    .short_caption = Clash guard\n",
      "    .style = noauto box auto_align\n",
      "    .expert_level=2\n",
      "  {\n",
      "    nonbonded_distance_threshold = 0.5\n",
      "      .type = float\n",
      "    max_number_of_distances_below_threshold = 100\n",
      "      .type = int\n",
      "    max_fraction_of_distances_below_threshold = 0.1\n",
      "      .type = float\n",
      "  }\n",
      "\n",
      "\n",
      "}\n",
      "geometry_restraints\n",
      "  .alias = refinement.geometry_restraints\n",
      "{\n",
      "  edits\n",
      "    .short_caption = Custom geometry restraints\n",
      "  {\n",
      "    excessive_bond_distance_limit = 10\n",
      "  .type = float\n",
      "bond\n",
      "  .optional = True\n",
      "  .multiple = True\n",
      "  .short_caption = Bond\n",
      "  .style = auto_align\n",
      "{\n",
      "  action = *add delete change\n",
      "    .type = choice\n",
      "  atom_selection_1 = None\n",
      "    .type = atom_selection\n",
      "    .input_size = 400\n",
      "  atom_selection_2 = None\n",
      "    .type = atom_selection\n",
      "    .input_size = 400\n",
      "  symmetry_operation = None\n",
      "    .help = \"The bond is between atom_1 and symmetry_operation * atom_2,\"\n",
      "            \" with atom_1 and atom_2 given in fractional coordinates.\"\n",
      "            \" Example: symmetry_operation = -x-1,-y,z\"\n",
      "    .type = str\n",
      "  distance_ideal = None\n",
      "    .type = float\n",
      "  sigma = None\n",
      "    .type = float\n",
      "  slack = None\n",
      "    .type = float\n",
      "  limit = -1.0\n",
      "    .type = float\n",
      "  top_out = False\n",
      "    .type = bool\n",
      "}\n",
      "angle\n",
      "  .optional = True\n",
      "  .multiple = True\n",
      "  .short_caption = Angle\n",
      "  .style = auto_align\n",
      "{\n",
      "  action = *add delete change\n",
      "    .type = choice\n",
      "  atom_selection_1 = None\n",
      "    .type = atom_selection\n",
      "    .input_size = 400\n",
      "  atom_selection_2 = None\n",
      "    .type = atom_selection\n",
      "    .input_size = 400\n",
      "  atom_selection_3 = None\n",
      "    .type = atom_selection\n",
      "    .input_size = 400\n",
      "  angle_ideal = None\n",
      "    .type = float\n",
      "  sigma = None\n",
      "    .type = float\n",
      "}\n",
      "dihedral\n",
      "  .optional = True\n",
      "  .multiple = True\n",
      "  .short_caption = Dihedral\n",
      "  .style = hidden\n",
      "{\n",
      "  action = *add delete change\n",
      "    .type = choice\n",
      "  atom_selection_1 = None\n",
      "    .type = atom_selection\n",
      "    .input_size = 400\n",
      "  atom_selection_2 = None\n",
      "    .type = atom_selection\n",
      "    .input_size = 400\n",
      "  atom_selection_3 = None\n",
      "    .type = atom_selection\n",
      "    .input_size = 400\n",
      "  atom_selection_4 = None\n",
      "    .type = atom_selection\n",
      "    .input_size = 400\n",
      "  angle_ideal = None\n",
      "    .type = float\n",
      "  alt_angle_ideals = None\n",
      "    .type = floats\n",
      "  sigma = None\n",
      "    .type = float\n",
      "  periodicity = 1\n",
      "    .type = int\n",
      "}\n",
      "planarity\n",
      "  .optional = True\n",
      "  .multiple = True\n",
      "  .short_caption = Planarity\n",
      "  .style = auto_align\n",
      "{\n",
      "  action = *add delete change\n",
      "    .type = choice\n",
      "  atom_selection = None\n",
      "    .type = atom_selection\n",
      "    .input_size = 400\n",
      "  sigma = None\n",
      "    .type = float\n",
      "}\n",
      "parallelity\n",
      "  .optional = True\n",
      "  .multiple = True\n",
      "  .short_caption = Parallelity\n",
      "  .style = auto_align\n",
      "{\n",
      "  action = *add delete change\n",
      "    .type = choice\n",
      "  atom_selection_1 = None\n",
      "    .type = atom_selection\n",
      "    .input_size = 400\n",
      "  atom_selection_2 = None\n",
      "    .type = atom_selection\n",
      "    .input_size = 400\n",
      "  sigma = 0.027\n",
      "    .type = float\n",
      "  target_angle_deg = 0\n",
      "    .type = float\n",
      "}\n",
      "\n",
      "  }\n",
      "  remove {\n",
      "    angles=None\n",
      "  .optional=True\n",
      "  .type=str\n",
      "  .multiple=True\n",
      "  .input_size=400\n",
      "dihedrals=None\n",
      "  .optional=True\n",
      "  .type=str\n",
      "  .multiple=True\n",
      "  .input_size=400\n",
      "chiralities=None\n",
      "  .optional=True\n",
      "  .type=str\n",
      "  .multiple=True\n",
      "  .input_size=400\n",
      "planarities=None\n",
      "  .optional=True\n",
      "  .type=str\n",
      "  .multiple=True\n",
      "  .input_size=400\n",
      "parallelities=None\n",
      "  .optional=True\n",
      "  .type=str\n",
      "  .multiple=True\n",
      "  .input_size=400\n",
      "\n",
      "  }\n",
      "}\n",
      "\n"
     ]
    }
   ],
   "source": [
    "print(grand_master_phil_str)"
   ]
  },
  {
   "cell_type": "code",
   "execution_count": 24,
   "metadata": {},
   "outputs": [],
   "source": [
    "from iotbx.phil import parse\n",
    "from mmtbx.monomer_library.pdb_interpretation import grand_master_phil_str\n",
    "from mmtbx.geometry_restraints.torsion_restraints.reference_model import reference_model_str\n",
    "from mmtbx.geometry_restraints.external import external_energy_params_str"
   ]
  },
  {
   "cell_type": "code",
   "execution_count": 27,
   "metadata": {},
   "outputs": [
    {
     "name": "stdout",
     "output_type": "stream",
     "text": [
      "10 loops, best of 3: 68.4 ms per loop\n"
     ]
    }
   ],
   "source": [
    "%%timeit\n",
    "phil = parse(\n",
    "          input_string = grand_master_phil_str +\\\n",
    "                         reference_model_str +\\\n",
    "                         external_energy_params_str,\n",
    "          process_includes=True)"
   ]
  },
  {
   "cell_type": "code",
   "execution_count": 37,
   "metadata": {},
   "outputs": [],
   "source": [
    "stats.calc_callees()"
   ]
  },
  {
   "cell_type": "code",
   "execution_count": null,
   "metadata": {},
   "outputs": [],
   "source": [
    "stats"
   ]
  },
  {
   "cell_type": "code",
   "execution_count": 146,
   "metadata": {},
   "outputs": [],
   "source": [
    "sel = atoms.extract_i_seq()"
   ]
  },
  {
   "cell_type": "code",
   "execution_count": 11,
   "metadata": {},
   "outputs": [],
   "source": [
    "chains = [chain for chain in h.chains()]"
   ]
  },
  {
   "cell_type": "code",
   "execution_count": 15,
   "metadata": {},
   "outputs": [],
   "source": [
    "residue_groups = [rg for rg in chain.residue_groups()]"
   ]
  },
  {
   "cell_type": "code",
   "execution_count": 119,
   "metadata": {},
   "outputs": [
    {
     "name": "stdout",
     "output_type": "stream",
     "text": [
      "10525\n"
     ]
    }
   ],
   "source": [
    "residue_groups = [rg for chain in h.chains() for rg in chain.residue_groups()]\n",
    "residue_groups = [rg.]\n"
   ]
  },
  {
   "cell_type": "code",
   "execution_count": 40,
   "metadata": {},
   "outputs": [],
   "source": [
    " sel_str_other = \"not (water or nucleotide or protein)\"\n",
    "other_cnts = Counter()\n",
    "other_models = {}\n",
    "for rg in model.select(model.selection(sel_str_other)).get_hierarchy().residue_groups():\n",
    "    assert (len(rg.unique_resnames())==1) # we anticipate that each residue group has 1 residue name\n",
    "    for resname in rg.unique_resnames():\n",
    "        other_cnts[resname]+=1\n",
    "        if resname not in other_models.keys():\n",
    "            other_models[resname] = []\n",
    "        other_models[resname].append(\"blah\")"
   ]
  },
  {
   "cell_type": "code",
   "execution_count": 42,
   "metadata": {},
   "outputs": [
    {
     "ename": "ArgumentError",
     "evalue": "Python argument types in\n    root.select(root, residue_group)\ndid not match C++ signature:\n    select(iotbx::pdb::hierarchy::root {lvalue}, scitbx::af::const_ref<unsigned long, scitbx::af::trivial_accessor> atom_selection, bool copy_atoms=False)\n    select(iotbx::pdb::hierarchy::root {lvalue}, scitbx::af::const_ref<bool, scitbx::af::trivial_accessor> atom_selection, bool copy_atoms=False)",
     "output_type": "error",
     "traceback": [
      "\u001b[0;31m---------------------------------------------------------------------------\u001b[0m",
      "\u001b[0;31mArgumentError\u001b[0m                             Traceback (most recent call last)",
      "\u001b[0;32m<ipython-input-42-45bba7a2838a>\u001b[0m in \u001b[0;36m<module>\u001b[0;34m()\u001b[0m\n\u001b[0;32m----> 1\u001b[0;31m \u001b[0mmodel\u001b[0m\u001b[0;34m.\u001b[0m\u001b[0mselect\u001b[0m\u001b[0;34m(\u001b[0m\u001b[0mrg\u001b[0m\u001b[0;34m)\u001b[0m\u001b[0;34m\u001b[0m\u001b[0m\n\u001b[0m",
      "\u001b[0;32m/net/cci-filer3/home/cschlick/Software2/modules/cctbx_project/mmtbx/model/model.pyc\u001b[0m in \u001b[0;36mselect\u001b[0;34m(self, selection)\u001b[0m\n\u001b[1;32m   2840\u001b[0m     \u001b[0;32mif\u001b[0m \u001b[0misinstance\u001b[0m\u001b[0;34m(\u001b[0m\u001b[0mselection\u001b[0m\u001b[0;34m,\u001b[0m \u001b[0mflex\u001b[0m\u001b[0;34m.\u001b[0m\u001b[0msize_t\u001b[0m\u001b[0;34m)\u001b[0m\u001b[0;34m:\u001b[0m\u001b[0;34m\u001b[0m\u001b[0m\n\u001b[1;32m   2841\u001b[0m       \u001b[0mselection\u001b[0m \u001b[0;34m=\u001b[0m \u001b[0mflex\u001b[0m\u001b[0;34m.\u001b[0m\u001b[0mbool\u001b[0m\u001b[0;34m(\u001b[0m\u001b[0mself\u001b[0m\u001b[0;34m.\u001b[0m\u001b[0mget_number_of_atoms\u001b[0m\u001b[0;34m(\u001b[0m\u001b[0;34m)\u001b[0m\u001b[0;34m,\u001b[0m \u001b[0mselection\u001b[0m\u001b[0;34m)\u001b[0m\u001b[0;34m\u001b[0m\u001b[0m\n\u001b[0;32m-> 2842\u001b[0;31m     \u001b[0mnew_pdb_hierarchy\u001b[0m \u001b[0;34m=\u001b[0m \u001b[0mself\u001b[0m\u001b[0;34m.\u001b[0m\u001b[0m_pdb_hierarchy\u001b[0m\u001b[0;34m.\u001b[0m\u001b[0mselect\u001b[0m\u001b[0;34m(\u001b[0m\u001b[0mselection\u001b[0m\u001b[0;34m,\u001b[0m \u001b[0mcopy_atoms\u001b[0m\u001b[0;34m=\u001b[0m\u001b[0mTrue\u001b[0m\u001b[0;34m)\u001b[0m\u001b[0;34m\u001b[0m\u001b[0m\n\u001b[0m\u001b[1;32m   2843\u001b[0m     \u001b[0msdi\u001b[0m \u001b[0;34m=\u001b[0m \u001b[0mself\u001b[0m\u001b[0;34m.\u001b[0m\u001b[0mscattering_dict_info\u001b[0m\u001b[0;34m\u001b[0m\u001b[0m\n\u001b[1;32m   2844\u001b[0m     \u001b[0mnew_refinement_flags\u001b[0m \u001b[0;34m=\u001b[0m \u001b[0mNone\u001b[0m\u001b[0;34m\u001b[0m\u001b[0m\n",
      "\u001b[0;31mArgumentError\u001b[0m: Python argument types in\n    root.select(root, residue_group)\ndid not match C++ signature:\n    select(iotbx::pdb::hierarchy::root {lvalue}, scitbx::af::const_ref<unsigned long, scitbx::af::trivial_accessor> atom_selection, bool copy_atoms=False)\n    select(iotbx::pdb::hierarchy::root {lvalue}, scitbx::af::const_ref<bool, scitbx::af::trivial_accessor> atom_selection, bool copy_atoms=False)"
     ]
    }
   ],
   "source": [
    "model.select(rg)"
   ]
  },
  {
   "cell_type": "code",
   "execution_count": 43,
   "metadata": {},
   "outputs": [],
   "source": [
    "atoms = rg.atoms()"
   ]
  },
  {
   "cell_type": "code",
   "execution_count": 52,
   "metadata": {},
   "outputs": [],
   "source": [
    "rmodel = model.select(model.selection(\"resid \"+str(rg.resid()).strip()))"
   ]
  },
  {
   "cell_type": "code",
   "execution_count": null,
   "metadata": {},
   "outputs": [],
   "source": []
  },
  {
   "cell_type": "code",
   "execution_count": 62,
   "metadata": {},
   "outputs": [
    {
     "ename": "AttributeError",
     "evalue": "'input' object has no attribute 'chains'",
     "output_type": "error",
     "traceback": [
      "\u001b[0;31m---------------------------------------------------------------------------\u001b[0m",
      "\u001b[0;31mAttributeError\u001b[0m                            Traceback (most recent call last)",
      "\u001b[0;32m<ipython-input-62-827316b69915>\u001b[0m in \u001b[0;36m<module>\u001b[0;34m()\u001b[0m\n\u001b[0;32m----> 1\u001b[0;31m \u001b[0mmodel\u001b[0m\u001b[0;34m.\u001b[0m\u001b[0mget_model_input\u001b[0m\u001b[0;34m(\u001b[0m\u001b[0;34m)\u001b[0m\u001b[0;34m.\u001b[0m\u001b[0mchains\u001b[0m\u001b[0;34m(\u001b[0m\u001b[0;34m)\u001b[0m\u001b[0;34m\u001b[0m\u001b[0m\n\u001b[0m",
      "\u001b[0;31mAttributeError\u001b[0m: 'input' object has no attribute 'chains'"
     ]
    }
   ],
   "source": [
    "model.get_model_input().chains()"
   ]
  },
  {
   "cell_type": "code",
   "execution_count": 72,
   "metadata": {},
   "outputs": [],
   "source": [
    "from cctbx.array_family import flex\n",
    "from libtbx import group_args"
   ]
  },
  {
   "cell_type": "code",
   "execution_count": 126,
   "metadata": {},
   "outputs": [],
   "source": [
    "def extract_residues(model):\n",
    "    h = model.get_hierarchy()\n",
    "    residues = [] # group args objects\n",
    "    for chain in h.chains():\n",
    "        for rg in chain.residue_groups():\n",
    "            rg_i_seqs = []\n",
    "            r_name = None\n",
    "            for ag in rg.atom_groups():\n",
    "                if(r_name is None): r_name = ag.resname\n",
    "                for atom in ag.atoms():\n",
    "                    rg_i_seqs.append(atom.i_seq)\n",
    "                if(len(rg_i_seqs) != 0):\n",
    "                    residues.append(group_args(\n",
    "                    selection = flex.size_t(rg_i_seqs),\n",
    "                    name      = r_name,\n",
    "                    resid     = rg.resid(),\n",
    "                    chain_id  = chain.id))\n",
    "\n",
    "    return residues"
   ]
  },
  {
   "cell_type": "code",
   "execution_count": 128,
   "metadata": {},
   "outputs": [],
   "source": [
    "atoms = rg.atoms()"
   ]
  },
  {
   "cell_type": "code",
   "execution_count": 131,
   "metadata": {},
   "outputs": [
    {
     "data": {
      "text/plain": [
       "array([102776])"
      ]
     },
     "execution_count": 131,
     "metadata": {},
     "output_type": "execute_result"
    }
   ],
   "source": [
    "np.array(atoms.extract_i_seq())"
   ]
  },
  {
   "cell_type": "code",
   "execution_count": 132,
   "metadata": {},
   "outputs": [
    {
     "data": {
      "text/plain": [
       "1"
      ]
     },
     "execution_count": 132,
     "metadata": {},
     "output_type": "execute_result"
    }
   ],
   "source": []
  },
  {
   "cell_type": "code",
   "execution_count": 134,
   "metadata": {},
   "outputs": [
    {
     "data": {
      "text/plain": [
       "' Z 201 '"
      ]
     },
     "execution_count": 134,
     "metadata": {},
     "output_type": "execute_result"
    }
   ],
   "source": [
    "rg.id_str()"
   ]
  },
  {
   "cell_type": "code",
   "execution_count": null,
   "metadata": {},
   "outputs": [],
   "source": []
  },
  {
   "cell_type": "code",
   "execution_count": 104,
   "metadata": {},
   "outputs": [
    {
     "data": {
      "text/plain": [
       "<mmtbx.model.statistics.info at 0x7f551aa97750>"
      ]
     },
     "execution_count": 104,
     "metadata": {},
     "output_type": "execute_result"
    }
   ],
   "source": [
    "model.get_model_statistics_info()"
   ]
  },
  {
   "cell_type": "code",
   "execution_count": 121,
   "metadata": {},
   "outputs": [],
   "source": [
    "er = extract_residues(model)"
   ]
  },
  {
   "cell_type": "code",
   "execution_count": 122,
   "metadata": {},
   "outputs": [
    {
     "data": {
      "text/plain": [
       "10525"
      ]
     },
     "execution_count": 122,
     "metadata": {},
     "output_type": "execute_result"
    }
   ],
   "source": [
    "len(er)"
   ]
  },
  {
   "cell_type": "code",
   "execution_count": 123,
   "metadata": {},
   "outputs": [
    {
     "data": {
      "text/plain": [
       "group_args\n",
       "  chain_id                       : A\n",
       "  name                           : VAL\n",
       "  resid                          :   11 \n",
       "  selection                      : <scitbx_array_family_flex_ext.size_t object at 0x7f550c5c2260>"
      ]
     },
     "execution_count": 123,
     "metadata": {},
     "output_type": "execute_result"
    }
   ],
   "source": [
    "er[0]"
   ]
  },
  {
   "cell_type": "code",
   "execution_count": 124,
   "metadata": {},
   "outputs": [
    {
     "data": {
      "text/plain": [
       "group_args\n",
       "  chain_id                       : A\n",
       "  name                           : SER\n",
       "  resid                          :   12 \n",
       "  selection                      : <scitbx_array_family_flex_ext.size_t object at 0x7f550c5c23c0>"
      ]
     },
     "execution_count": 124,
     "metadata": {},
     "output_type": "execute_result"
    }
   ],
   "source": [
    "er[1]"
   ]
  },
  {
   "cell_type": "code",
   "execution_count": 80,
   "metadata": {},
   "outputs": [
    {
     "ename": "AttributeError",
     "evalue": "'list' object has no attribute 'selection'",
     "output_type": "error",
     "traceback": [
      "\u001b[0;31m---------------------------------------------------------------------------\u001b[0m",
      "\u001b[0;31mAttributeError\u001b[0m                            Traceback (most recent call last)",
      "\u001b[0;32m<ipython-input-80-7eb6b813fe74>\u001b[0m in \u001b[0;36m<module>\u001b[0;34m()\u001b[0m\n\u001b[0;32m----> 1\u001b[0;31m \u001b[0mmodel\u001b[0m\u001b[0;34m.\u001b[0m\u001b[0mselect\u001b[0m\u001b[0;34m(\u001b[0m\u001b[0mer\u001b[0m\u001b[0;34m[\u001b[0m\u001b[0;36m0\u001b[0m\u001b[0;34m]\u001b[0m\u001b[0;34m.\u001b[0m\u001b[0mselection\u001b[0m\u001b[0;34m)\u001b[0m\u001b[0;34m\u001b[0m\u001b[0m\n\u001b[0m",
      "\u001b[0;31mAttributeError\u001b[0m: 'list' object has no attribute 'selection'"
     ]
    }
   ],
   "source": [
    "model.select(er[0].selection)"
   ]
  },
  {
   "cell_type": "code",
   "execution_count": 18,
   "metadata": {},
   "outputs": [],
   "source": [
    "sel_str_other = \"not (water or nucleotide or protein)\"\n",
    "model_other = model.select(model.selection(sel_str_other))"
   ]
  },
  {
   "cell_type": "code",
   "execution_count": 19,
   "metadata": {},
   "outputs": [
    {
     "data": {
      "text/plain": [
       "Model manager \n",
       "None\n",
       "Chains: 65 Residues 820 \n",
       "Working coordinate shift (0, 0, 0))"
      ]
     },
     "execution_count": 19,
     "metadata": {},
     "output_type": "execute_result"
    }
   ],
   "source": [
    "model_other"
   ]
  },
  {
   "cell_type": "code",
   "execution_count": null,
   "metadata": {},
   "outputs": [],
   "source": []
  },
  {
   "cell_type": "code",
   "execution_count": null,
   "metadata": {},
   "outputs": [],
   "source": []
  },
  {
   "cell_type": "code",
   "execution_count": null,
   "metadata": {},
   "outputs": [],
   "source": []
  },
  {
   "cell_type": "code",
   "execution_count": null,
   "metadata": {},
   "outputs": [],
   "source": []
  },
  {
   "cell_type": "code",
   "execution_count": 44,
   "metadata": {},
   "outputs": [],
   "source": [
    "# get a list of all the ligands that appear in the entries\n",
    "ligand_list = []\n",
    "ligand_count = 0\n",
    "for entry in entry_composition_list:\n",
    "\n",
    "    composition = entry.composition\n",
    "    ligands = composition._result.other_cnts.keys()\n",
    "    n_ligands = np.sum(np.array(composition._result.other_cnts.values()))\n",
    "    ligand_count+=n_ligands\n",
    "    for ligand in ligands:\n",
    "        ligand_list.append(ligand)"
   ]
  },
  {
   "cell_type": "code",
   "execution_count": 45,
   "metadata": {},
   "outputs": [
    {
     "data": {
      "text/plain": [
       "6327"
      ]
     },
     "execution_count": 45,
     "metadata": {},
     "output_type": "execute_result"
    }
   ],
   "source": [
    "len(ligand_list)"
   ]
  },
  {
   "cell_type": "code",
   "execution_count": 46,
   "metadata": {},
   "outputs": [],
   "source": [
    "# Turn it into a Counter() (Kind of like a histogram)\n",
    "ligand_counter = Counter(ligand_list)\n",
    "ligand_counter_sorted = OrderedDict(sorted(ligand_counter.items(), key=operator.itemgetter(1),reverse=True))"
   ]
  },
  {
   "cell_type": "code",
   "execution_count": 47,
   "metadata": {},
   "outputs": [
    {
     "data": {
      "text/plain": [
       "496"
      ]
     },
     "execution_count": 47,
     "metadata": {},
     "output_type": "execute_result"
    }
   ],
   "source": [
    "len(ligand_counter)"
   ]
  },
  {
   "cell_type": "code",
   "execution_count": 52,
   "metadata": {},
   "outputs": [
    {
     "data": {
      "text/plain": [
       "Text(0.5,0,'Ligand Code')"
      ]
     },
     "execution_count": 52,
     "metadata": {},
     "output_type": "execute_result"
    },
    {
     "data": {
      "image/png": "[encoded data removed]",
      "text/plain": [
       "<Figure size 3456x2376 with 1 Axes>"
      ]
     },
     "metadata": {
      "needs_background": "light"
     },
     "output_type": "display_data"
    }
   ],
   "source": [
    "#plot\n",
    "\n",
    "labels, values = zip(*ligand_counter_sorted.items()[:20])\n",
    "\n",
    "indexes = np.arange(len(labels))\n",
    "width = 1\n",
    "ret = plt.bar(indexes, values, width)\n",
    "ret = plt.xticks(indexes + width * 0.1, labels)\n",
    "plt.ylabel(\"Number\")\n",
    "plt.xlabel(\"Ligand Code\")"
   ]
  },
  {
   "cell_type": "code",
   "execution_count": null,
   "metadata": {},
   "outputs": [],
   "source": []
  },
  {
   "cell_type": "code",
   "execution_count": 22,
   "metadata": {},
   "outputs": [],
   "source": [
    "# get entries with ADP, ATP, or GTP\n",
    "nucleotide_entries = []\n",
    "for entry in entry_composition_list:\n",
    "    composition = entry.composition\n",
    "    ligands = composition._result.other_cnts.keys()\n",
    "    if (\"ATP\" in ligands) or (\"ADP\" in ligands) or (\"GTP\" in ligands):\n",
    "        nucleotide_entries.append(entry)"
   ]
  },
  {
   "cell_type": "code",
   "execution_count": 23,
   "metadata": {},
   "outputs": [
    {
     "data": {
      "text/plain": [
       "630"
      ]
     },
     "execution_count": 23,
     "metadata": {},
     "output_type": "execute_result"
    }
   ],
   "source": [
    "len(nucleotide_entries)"
   ]
  },
  {
   "cell_type": "code",
   "execution_count": 40,
   "metadata": {},
   "outputs": [],
   "source": [
    "# write nucleotide entries to disk\n",
    "nucleotide_entries_path = \"data/nucleotide_entries.pkl\"\n",
    "with open(nucleotide_entries_path,\"wb\") as fh:\n",
    "    pickle.dump(nucleotide_entries,fh)"
   ]
  }
 ],
 "metadata": {
  "kernelspec": {
   "display_name": "phenix",
   "language": "python",
   "name": "phenix"
  },
  "language_info": {
   "codemirror_mode": {
    "name": "ipython",
    "version": 2
   },
   "file_extension": ".py",
   "mimetype": "text/x-python",
   "name": "python",
   "nbconvert_exporter": "python",
   "pygments_lexer": "ipython2",
   "version": "2.7.15"
  }
 },
 "nbformat": 4,
 "nbformat_minor": 4
}
