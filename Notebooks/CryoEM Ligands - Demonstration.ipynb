{
 "cells": [
  {
   "cell_type": "code",
   "execution_count": 1,
   "metadata": {},
   "outputs": [],
   "source": [
    "from iotbx.map_manager import map_manager as MapManager\n",
    "from mmtbx.model import manager as ModelManager\n",
    "from iotbx.data_manager import DataManager\n",
    "from iotbx.map_model_manager import map_model_manager as MapModelManager\n",
    "\n",
    "import os\n",
    "import pickle\n",
    "import inspect"
   ]
  },
  {
   "cell_type": "code",
   "execution_count": 2,
   "metadata": {},
   "outputs": [],
   "source": [
    "from phenix.ligands_cc.ligands_cc import LigandsCC, LigandSelection"
   ]
  },
  {
   "cell_type": "code",
   "execution_count": 3,
   "metadata": {},
   "outputs": [],
   "source": [
    "# test defaults only\n",
    "resname = \"MG\"\n",
    "ls = LigandSelection(include_resnames=None,\n",
    "                     include_only_resnames=None,\n",
    "                     exclude_resnames=None,\n",
    "                     include_residue_classes=None,\n",
    "                     exclude_residue_classes=None,\n",
    "                     )\n",
    "assert(ls.query(resname) == False)"
   ]
  },
  {
   "cell_type": "code",
   "execution_count": 4,
   "metadata": {},
   "outputs": [],
   "source": [
    "\n",
    "\n",
    "resname = \"ADP\"\n",
    "ls = LigandSelection(include_resnames=None,\n",
    "                     include_only_resnames=None,\n",
    "                     exclude_resnames=None,\n",
    "                     include_residue_classes=None,\n",
    "                     exclude_residue_classes=None,\n",
    "                     )\n",
    "assert(ls.query(resname)== True)\n",
    "\n"
   ]
  },
  {
   "cell_type": "code",
   "execution_count": 5,
   "metadata": {},
   "outputs": [],
   "source": [
    "# test include only\n",
    "\n",
    "resname = \"MG\"\n",
    "ls = LigandSelection(include_resnames=None,\n",
    "                     include_only_resnames=[\"ATP\"],\n",
    "                     exclude_resnames=None,\n",
    "                     include_residue_classes=None,\n",
    "                     exclude_residue_classes=None,\n",
    "                     )\n",
    "assert(ls.query(resname)== False)\n",
    "\n",
    "resname = \"ATP\"\n",
    "ls = LigandSelection(include_resnames=None,\n",
    "                     include_only_resnames=[\"ATP\"],\n",
    "                     exclude_resnames=None,\n",
    "                     include_residue_classes=None,\n",
    "                     exclude_residue_classes=None,\n",
    "                     )\n",
    "assert(ls.query(resname)==True)\n",
    "\n"
   ]
  },
  {
   "cell_type": "code",
   "execution_count": 6,
   "metadata": {},
   "outputs": [],
   "source": [
    "# test supplied include_resnames\n",
    "resname = \"MG\"\n",
    "ls = LigandSelection(include_resnames=[\"MG\"],\n",
    "                     include_only_resnames=None,\n",
    "                     exclude_resnames=None,\n",
    "                     include_residue_classes=None,\n",
    "                     exclude_residue_classes=None,\n",
    "                     )\n",
    "assert(ls.query(resname) == True)\n",
    "\n",
    "resname = \"ATP\"\n",
    "ls = LigandSelection(include_resnames=[\"MG\"],\n",
    "                     include_only_resnames=None,\n",
    "                     exclude_resnames=None,\n",
    "                     include_residue_classes=None,\n",
    "                     exclude_residue_classes=None,\n",
    "                     )\n",
    "assert(ls.query(resname) == True)"
   ]
  },
  {
   "cell_type": "code",
   "execution_count": 7,
   "metadata": {},
   "outputs": [],
   "source": [
    "# test supplied exclude_resnames\n",
    "resname = \"ATP\"\n",
    "ls = LigandSelection(include_resnames=None,\n",
    "                     include_only_resnames=None,\n",
    "                     exclude_resnames=[\"ATP\"],\n",
    "                     include_residue_classes=None,\n",
    "                     exclude_residue_classes=None,\n",
    "                     )\n",
    "assert(ls.query(resname) == False)"
   ]
  },
  {
   "cell_type": "code",
   "execution_count": 8,
   "metadata": {},
   "outputs": [],
   "source": [
    "# test supplied include_residue_classes\n",
    "resname = \"MG\"\n",
    "ls = LigandSelection(include_resnames=None,\n",
    "                     include_only_resnames=None,\n",
    "                     exclude_resnames=None,\n",
    "                     include_residue_classes=[\"common_element\"],\n",
    "                     exclude_residue_classes=None)\n",
    "assert(ls.query(resname) == True)"
   ]
  },
  {
   "cell_type": "code",
   "execution_count": 9,
   "metadata": {},
   "outputs": [],
   "source": [
    "# test supplied exclude_residue_classes\n",
    "resname = \"ATP\"\n",
    "ls = LigandSelection(include_resnames=None,\n",
    "                     include_only_resnames=None,\n",
    "                     exclude_resnames=None,\n",
    "                     include_residue_classes=None,\n",
    "                     exclude_residue_classes=[\"other\"])\n",
    "assert(ls.query(resname) == False)"
   ]
  },
  {
   "cell_type": "code",
   "execution_count": 10,
   "metadata": {},
   "outputs": [
    {
     "name": "stdout",
     "output_type": "stream",
     "text": [
      "The slowest run took 7.76 times longer than the fastest. This could mean that an intermediate result is being cached.\n",
      "1000000 loops, best of 3: 891 ns per loop\n"
     ]
    }
   ],
   "source": [
    "%%timeit\n",
    "LigandSelection(include_resnames=None,\n",
    "                        include_only_resnames=None,\n",
    "                        exclude_resnames=None,\n",
    "                        include_residue_classes=None,\n",
    "                        exclude_residue_classes=[\"other\"])"
   ]
  },
  {
   "cell_type": "code",
   "execution_count": null,
   "metadata": {},
   "outputs": [],
   "source": []
  },
  {
   "cell_type": "markdown",
   "metadata": {},
   "source": [
    "## Get data from disk"
   ]
  },
  {
   "cell_type": "code",
   "execution_count": 11,
   "metadata": {},
   "outputs": [
    {
     "name": "stderr",
     "output_type": "stream",
     "text": [
      "Could not import the compiled Python-sander interface. Make sure you have the Python development libraries installed and that you have sourced amber.sh or amber.csh"
     ]
    }
   ],
   "source": [
    "# first get data from disk\n",
    "model_path = \"/home/user/ligands_cc_demo/data/6f1u_4169/6f1u_4169.cif\"\n",
    "map_path = \"/home/user/ligands_cc_demo/data/6f1u_4169/6f1u_4169.map\"\n",
    "\n",
    "\n",
    "\n",
    "dm = DataManager()\n",
    "dm.process_model_file(model_path)\n",
    "dm.process_real_map_file(map_path)"
   ]
  },
  {
   "cell_type": "markdown",
   "metadata": {},
   "source": [
    "## Get ligands out of a model"
   ]
  },
  {
   "cell_type": "code",
   "execution_count": 12,
   "metadata": {},
   "outputs": [],
   "source": [
    "mmm = dm.get_map_model_manager()"
   ]
  },
  {
   "cell_type": "code",
   "execution_count": 13,
   "metadata": {},
   "outputs": [],
   "source": [
    "ligands_cc = LigandsCC(mmm,resolution=3.4)"
   ]
  },
  {
   "cell_type": "code",
   "execution_count": 14,
   "metadata": {},
   "outputs": [],
   "source": [
    "ligands_cc.ccmask_full_model"
   ]
  },
  {
   "cell_type": "code",
   "execution_count": 15,
   "metadata": {},
   "outputs": [],
   "source": [
    "ligands_cc.process_ligands()"
   ]
  },
  {
   "cell_type": "code",
   "execution_count": 19,
   "metadata": {},
   "outputs": [
    {
     "data": {
      "text/plain": [
       "'/home/user/Dropbox/Phenix Start/CryoEM-ReRefine-Ligands/Notebooks'"
      ]
     },
     "execution_count": 19,
     "metadata": {},
     "output_type": "execute_result"
    }
   ],
   "source": [
    "os.getcwd()"
   ]
  },
  {
   "cell_type": "code",
   "execution_count": 24,
   "metadata": {},
   "outputs": [],
   "source": [
    "# write ouput\n",
    "output_dir = \"./\"\n",
    "\n",
    "for mmmlig in ligands_cc.ligand_map_model_managers:\n",
    "    ligand_name = LigandsCC.ligand_name(mmmlig.model())\n",
    "    ligand_model_file = os.path.join(output_dir,ligand_name)\n",
    "    ligand_map_file = os.path.join(output_dir,ligand_name+\".map\")\n",
    "    \n",
    "    dm.write_model_file(mmmlig.model(),\n",
    "                          filename=ligand_model_file,\n",
    "                          extension=\"cif\",\n",
    "                          overwrite=True)\n",
    "    \n",
    "    dm.write_real_map_file(mmmlig.map_manager(),\n",
    "                          filename=ligand_map_file,\n",
    "                          overwrite=True)"
   ]
  },
  {
   "cell_type": "code",
   "execution_count": 25,
   "metadata": {},
   "outputs": [],
   "source": [
    "ligands_cc.validate()   "
   ]
  },
  {
   "cell_type": "code",
   "execution_count": 21,
   "metadata": {},
   "outputs": [
    {
     "ename": "NameError",
     "evalue": "name 'mmmlig' is not defined",
     "output_type": "error",
     "traceback": [
      "\u001b[0;31m---------------------------------------------------------------------------\u001b[0m",
      "\u001b[0;31mNameError\u001b[0m                                 Traceback (most recent call last)",
      "\u001b[0;32m<ipython-input-21-7f7bd9b6eb65>\u001b[0m in \u001b[0;36m<module>\u001b[0;34m()\u001b[0m\n\u001b[0;32m----> 1\u001b[0;31m \u001b[0mligand_id_tuple\u001b[0m\u001b[0;34m(\u001b[0m\u001b[0mmmmlig\u001b[0m\u001b[0;34m.\u001b[0m\u001b[0mmodel\u001b[0m\u001b[0;34m(\u001b[0m\u001b[0;34m)\u001b[0m\u001b[0;34m)\u001b[0m\u001b[0;34m\u001b[0m\u001b[0m\n\u001b[0m",
      "\u001b[0;31mNameError\u001b[0m: name 'mmmlig' is not defined"
     ]
    }
   ],
   "source": []
  },
  {
   "cell_type": "code",
   "execution_count": null,
   "metadata": {},
   "outputs": [],
   "source": []
  },
  {
   "cell_type": "markdown",
   "metadata": {},
   "source": [
    "## Get ligand density maps and calculate CCmask"
   ]
  },
  {
   "cell_type": "code",
   "execution_count": 9,
   "metadata": {},
   "outputs": [
    {
     "name": "stdout",
     "output_type": "stream",
     "text": [
      "Found 3 ligands in the model \n"
     ]
    }
   ],
   "source": [
    "map_manager = dm.get_real_map()\n",
    "map_manager.set_resolution(entry.resolution)\n",
    "map_model_manager = MapModelManager(map_manager=map_manager,model=dm.get_model())\n",
    "\n",
    "ligand_dict, ccmask_values = ligands_cc_from_mmm(map_model_manager)"
   ]
  },
  {
   "cell_type": "code",
   "execution_count": 10,
   "metadata": {},
   "outputs": [
    {
     "name": "stdout",
     "output_type": "stream",
     "text": [
      "[0.820752074164057, 0.8099958071989116, 0.8403064511105527]\n"
     ]
    }
   ],
   "source": [
    "print(ccmask_values)"
   ]
  },
  {
   "cell_type": "markdown",
   "metadata": {},
   "source": [
    "## Optionally write to disk"
   ]
  },
  {
   "cell_type": "code",
   "execution_count": 12,
   "metadata": {},
   "outputs": [
    {
     "name": "stdout",
     "output_type": "stream",
     "text": [
      "Found 3 ligands in the model \n",
      "Writing model file: /net/cci-filer3/home/cschlick/CryoEM-ReRefine-Ligands/data/ADP_D.map\n",
      "Writing map file: /net/cci-filer3/home/cschlick/CryoEM-ReRefine-Ligands/data/ADP_D.cif\n",
      "Writing model file: /net/cci-filer3/home/cschlick/CryoEM-ReRefine-Ligands/data/ADP_F.map\n",
      "Writing map file: /net/cci-filer3/home/cschlick/CryoEM-ReRefine-Ligands/data/ADP_F.cif\n",
      "Writing model file: /net/cci-filer3/home/cschlick/CryoEM-ReRefine-Ligands/data/ADP_B.map\n",
      "Writing map file: /net/cci-filer3/home/cschlick/CryoEM-ReRefine-Ligands/data/ADP_B.cif\n"
     ]
    }
   ],
   "source": [
    "ligand_dict, ccmask_values = ligands_cc_from_mmm(map_model_manager,\n",
    "                                                 output_directory=\"../data/\")"
   ]
  },
  {
   "cell_type": "code",
   "execution_count": null,
   "metadata": {},
   "outputs": [],
   "source": []
  },
  {
   "cell_type": "code",
   "execution_count": null,
   "metadata": {},
   "outputs": [],
   "source": []
  }
 ],
 "metadata": {
  "kernelspec": {
   "display_name": "phenix",
   "language": "python",
   "name": "phenix"
  },
  "language_info": {
   "codemirror_mode": {
    "name": "ipython",
    "version": 2
   },
   "file_extension": ".py",
   "mimetype": "text/x-python",
   "name": "python",
   "nbconvert_exporter": "python",
   "pygments_lexer": "ipython2",
   "version": "2.7.15"
  }
 },
 "nbformat": 4,
 "nbformat_minor": 4
}
