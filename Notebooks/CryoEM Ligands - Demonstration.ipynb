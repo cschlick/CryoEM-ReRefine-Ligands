{
 "cells": [
  {
   "cell_type": "code",
   "execution_count": 1,
   "metadata": {},
   "outputs": [
    {
     "ename": "ImportError",
     "evalue": "__import__(\"boost_python_meta_ext\"): No module named boost_python_meta_ext\n  sys.path:\n    \n    /home/user/Software/phenix/modules\n    /home/user/Software/phenix/modules/cctbx_project\n    /home/user/Software/phenix/modules/phenix\n    /home/user/Software/phenix/modules/reel\n    /home/user/Software/phenix/modules/phaser\n    /home/user/Software/phenix/modules/tntbx\n    /home/user/Software/phenix/modules/elbow\n    /home/user/Software/phenix/modules/PyQuante\n    /home/user/Software/phenix/modules/cctbx_project/boost_adaptbx\n    /home/user/Software/phenix/build/lib\n    /home/user/Software/phenix/conda_base/lib/site-python\n    /home/user/Software/phenix/conda_base/lib/python2.7/site-packages\n    /home/user/Software/phenix/conda_base/lib/python27.zip\n    /home/user/Software/phenix/conda_base/lib/python2.7\n    /home/user/Software/phenix/conda_base/lib/python2.7/plat-linux2\n    /home/user/Software/phenix/conda_base/lib/python2.7/lib-tk\n    /home/user/Software/phenix/conda_base/lib/python2.7/lib-old\n    /home/user/Software/phenix/conda_base/lib/python2.7/lib-dynload\n    /home/user/Software/phenix/conda_base/lib/python2.7/site-packages/wx-3.0-gtk2\n    /home/user/Software/phenix/conda_base/lib/site-python\n    /home/user/Software/phenix/conda_base/lib/python2.7/site-packages/IPython/extensions\n    /home/user/.ipython",
     "output_type": "error",
     "traceback": [
      "\u001b[0;31m---------------------------------------------------------------------------\u001b[0m",
      "\u001b[0;31mImportError\u001b[0m                               Traceback (most recent call last)",
      "\u001b[0;32m<ipython-input-1-3974020dc245>\u001b[0m in \u001b[0;36m<module>\u001b[0;34m()\u001b[0m\n\u001b[0;32m----> 1\u001b[0;31m \u001b[0;32mfrom\u001b[0m \u001b[0miotbx\u001b[0m\u001b[0;34m.\u001b[0m\u001b[0mmap_manager\u001b[0m \u001b[0;32mimport\u001b[0m \u001b[0mmap_manager\u001b[0m \u001b[0;32mas\u001b[0m \u001b[0mMapManager\u001b[0m\u001b[0;34m\u001b[0m\u001b[0m\n\u001b[0m\u001b[1;32m      2\u001b[0m \u001b[0;32mfrom\u001b[0m \u001b[0mmmtbx\u001b[0m\u001b[0;34m.\u001b[0m\u001b[0mmodel\u001b[0m \u001b[0;32mimport\u001b[0m \u001b[0mmanager\u001b[0m \u001b[0;32mas\u001b[0m \u001b[0mModelManager\u001b[0m\u001b[0;34m\u001b[0m\u001b[0m\n\u001b[1;32m      3\u001b[0m \u001b[0;32mfrom\u001b[0m \u001b[0miotbx\u001b[0m\u001b[0;34m.\u001b[0m\u001b[0mdata_manager\u001b[0m \u001b[0;32mimport\u001b[0m \u001b[0mDataManager\u001b[0m\u001b[0;34m\u001b[0m\u001b[0m\n\u001b[1;32m      4\u001b[0m \u001b[0;32mfrom\u001b[0m \u001b[0miotbx\u001b[0m\u001b[0;34m.\u001b[0m\u001b[0mmap_model_manager\u001b[0m \u001b[0;32mimport\u001b[0m \u001b[0mmap_model_manager\u001b[0m \u001b[0;32mas\u001b[0m \u001b[0mMapModelManager\u001b[0m\u001b[0;34m\u001b[0m\u001b[0m\n\u001b[1;32m      5\u001b[0m \u001b[0;32mfrom\u001b[0m \u001b[0miotbx\u001b[0m\u001b[0;34m.\u001b[0m\u001b[0mpdb\u001b[0m \u001b[0;32mimport\u001b[0m \u001b[0mcommon_residue_names_get_class\u001b[0m\u001b[0;34m\u001b[0m\u001b[0m\n",
      "\u001b[0;32m/home/user/Software/phenix/modules/cctbx_project/iotbx/map_manager.py\u001b[0m in \u001b[0;36m<module>\u001b[0;34m()\u001b[0m\n\u001b[1;32m      5\u001b[0m \u001b[0;32mimport\u001b[0m \u001b[0msys\u001b[0m\u001b[0;34m\u001b[0m\u001b[0m\n\u001b[1;32m      6\u001b[0m \u001b[0;32mimport\u001b[0m \u001b[0mio\u001b[0m\u001b[0;34m\u001b[0m\u001b[0m\n\u001b[0;32m----> 7\u001b[0;31m \u001b[0;32mfrom\u001b[0m \u001b[0mcctbx\u001b[0m \u001b[0;32mimport\u001b[0m \u001b[0mmiller\u001b[0m\u001b[0;34m\u001b[0m\u001b[0m\n\u001b[0m\u001b[1;32m      8\u001b[0m \u001b[0;32mfrom\u001b[0m \u001b[0miotbx\u001b[0m\u001b[0;34m.\u001b[0m\u001b[0mmrcfile\u001b[0m \u001b[0;32mimport\u001b[0m \u001b[0mmap_reader\u001b[0m\u001b[0;34m,\u001b[0m \u001b[0mwrite_ccp4_map\u001b[0m\u001b[0;34m\u001b[0m\u001b[0m\n\u001b[1;32m      9\u001b[0m \u001b[0;32mfrom\u001b[0m \u001b[0mscitbx\u001b[0m\u001b[0;34m.\u001b[0m\u001b[0marray_family\u001b[0m \u001b[0;32mimport\u001b[0m \u001b[0mflex\u001b[0m\u001b[0;34m\u001b[0m\u001b[0m\n",
      "\u001b[0;32m/home/user/Software/phenix/modules/cctbx_project/cctbx/miller/__init__.py\u001b[0m in \u001b[0;36m<module>\u001b[0;34m()\u001b[0m\n\u001b[1;32m      1\u001b[0m \u001b[0;31m# -*- coding: utf-8 -*-\u001b[0m\u001b[0;34m\u001b[0m\u001b[0;34m\u001b[0m\u001b[0m\n\u001b[1;32m      2\u001b[0m \u001b[0;32mfrom\u001b[0m \u001b[0m__future__\u001b[0m \u001b[0;32mimport\u001b[0m \u001b[0mabsolute_import\u001b[0m\u001b[0;34m,\u001b[0m \u001b[0mdivision\u001b[0m\u001b[0;34m,\u001b[0m \u001b[0mprint_function\u001b[0m\u001b[0;34m\u001b[0m\u001b[0m\n\u001b[0;32m----> 3\u001b[0;31m \u001b[0;32mimport\u001b[0m \u001b[0mcctbx\u001b[0m\u001b[0;34m.\u001b[0m\u001b[0msgtbx\u001b[0m\u001b[0;34m\u001b[0m\u001b[0m\n\u001b[0m\u001b[1;32m      4\u001b[0m \u001b[0;34m\u001b[0m\u001b[0m\n\u001b[1;32m      5\u001b[0m \u001b[0;32mimport\u001b[0m \u001b[0mboost_adaptbx\u001b[0m\u001b[0;34m.\u001b[0m\u001b[0mboost\u001b[0m\u001b[0;34m.\u001b[0m\u001b[0mpython\u001b[0m \u001b[0;32mas\u001b[0m \u001b[0mbp\u001b[0m\u001b[0;34m\u001b[0m\u001b[0m\n",
      "\u001b[0;32m/home/user/Software/phenix/modules/cctbx_project/cctbx/sgtbx/__init__.py\u001b[0m in \u001b[0;36m<module>\u001b[0;34m()\u001b[0m\n\u001b[1;32m      1\u001b[0m \u001b[0;32mfrom\u001b[0m \u001b[0m__future__\u001b[0m \u001b[0;32mimport\u001b[0m \u001b[0mabsolute_import\u001b[0m\u001b[0;34m,\u001b[0m \u001b[0mdivision\u001b[0m\u001b[0;34m,\u001b[0m \u001b[0mprint_function\u001b[0m\u001b[0;34m\u001b[0m\u001b[0m\n\u001b[0;32m----> 2\u001b[0;31m \u001b[0;32mfrom\u001b[0m \u001b[0mcctbx\u001b[0m \u001b[0;32mimport\u001b[0m \u001b[0muctbx\u001b[0m\u001b[0;34m\u001b[0m\u001b[0m\n\u001b[0m\u001b[1;32m      3\u001b[0m \u001b[0;34m\u001b[0m\u001b[0m\n\u001b[1;32m      4\u001b[0m \u001b[0;32mimport\u001b[0m \u001b[0mboost_adaptbx\u001b[0m\u001b[0;34m.\u001b[0m\u001b[0mboost\u001b[0m\u001b[0;34m.\u001b[0m\u001b[0mpython\u001b[0m \u001b[0;32mas\u001b[0m \u001b[0mbp\u001b[0m\u001b[0;34m\u001b[0m\u001b[0m\n\u001b[1;32m      5\u001b[0m \u001b[0;32mfrom\u001b[0m \u001b[0msix\u001b[0m\u001b[0;34m.\u001b[0m\u001b[0mmoves\u001b[0m \u001b[0;32mimport\u001b[0m \u001b[0mrange\u001b[0m\u001b[0;34m\u001b[0m\u001b[0m\n",
      "\u001b[0;32m/home/user/Software/phenix/modules/cctbx_project/cctbx/uctbx/__init__.py\u001b[0m in \u001b[0;36m<module>\u001b[0;34m()\u001b[0m\n\u001b[1;32m      1\u001b[0m \u001b[0;32mfrom\u001b[0m \u001b[0m__future__\u001b[0m \u001b[0;32mimport\u001b[0m \u001b[0mabsolute_import\u001b[0m\u001b[0;34m,\u001b[0m \u001b[0mdivision\u001b[0m\u001b[0;34m,\u001b[0m \u001b[0mprint_function\u001b[0m\u001b[0;34m\u001b[0m\u001b[0m\n\u001b[0;32m----> 2\u001b[0;31m \u001b[0;32mimport\u001b[0m \u001b[0mcctbx\u001b[0m\u001b[0;34m.\u001b[0m\u001b[0marray_family\u001b[0m\u001b[0;34m.\u001b[0m\u001b[0mflex\u001b[0m \u001b[0;31m# import dependency\u001b[0m\u001b[0;34m\u001b[0m\u001b[0m\n\u001b[0m\u001b[1;32m      3\u001b[0m \u001b[0;32mimport\u001b[0m \u001b[0mscitbx\u001b[0m\u001b[0;34m.\u001b[0m\u001b[0marray_family\u001b[0m\u001b[0;34m.\u001b[0m\u001b[0mshared\u001b[0m \u001b[0;31m# import dependency\u001b[0m\u001b[0;34m\u001b[0m\u001b[0m\n\u001b[1;32m      4\u001b[0m \u001b[0;34m\u001b[0m\u001b[0m\n\u001b[1;32m      5\u001b[0m \u001b[0;32mimport\u001b[0m \u001b[0mboost_adaptbx\u001b[0m\u001b[0;34m.\u001b[0m\u001b[0mboost\u001b[0m\u001b[0;34m.\u001b[0m\u001b[0mpython\u001b[0m \u001b[0;32mas\u001b[0m \u001b[0mbp\u001b[0m\u001b[0;34m\u001b[0m\u001b[0m\n",
      "\u001b[0;32m/home/user/Software/phenix/modules/cctbx_project/cctbx/array_family/flex.py\u001b[0m in \u001b[0;36m<module>\u001b[0;34m()\u001b[0m\n\u001b[1;32m      1\u001b[0m \u001b[0;32mfrom\u001b[0m \u001b[0m__future__\u001b[0m \u001b[0;32mimport\u001b[0m \u001b[0mabsolute_import\u001b[0m\u001b[0;34m,\u001b[0m \u001b[0mdivision\u001b[0m\u001b[0;34m,\u001b[0m \u001b[0mprint_function\u001b[0m\u001b[0;34m\u001b[0m\u001b[0m\n\u001b[0;32m----> 2\u001b[0;31m \u001b[0;32mimport\u001b[0m \u001b[0mscitbx\u001b[0m\u001b[0;34m.\u001b[0m\u001b[0marray_family\u001b[0m\u001b[0;34m.\u001b[0m\u001b[0mflex\u001b[0m\u001b[0;34m\u001b[0m\u001b[0m\n\u001b[0m\u001b[1;32m      3\u001b[0m \u001b[0;34m\u001b[0m\u001b[0m\n\u001b[1;32m      4\u001b[0m \u001b[0;32mimport\u001b[0m \u001b[0mboost_adaptbx\u001b[0m\u001b[0;34m.\u001b[0m\u001b[0mboost\u001b[0m\u001b[0;34m.\u001b[0m\u001b[0mpython\u001b[0m \u001b[0;32mas\u001b[0m \u001b[0mbp\u001b[0m\u001b[0;34m\u001b[0m\u001b[0m\n\u001b[1;32m      5\u001b[0m \u001b[0mext_\u001b[0m \u001b[0;34m=\u001b[0m \u001b[0mbp\u001b[0m\u001b[0;34m.\u001b[0m\u001b[0mimport_ext\u001b[0m\u001b[0;34m(\u001b[0m\u001b[0;34m\"cctbx_array_family_flex_ext\"\u001b[0m\u001b[0;34m)\u001b[0m\u001b[0;34m\u001b[0m\u001b[0m\n",
      "\u001b[0;32m/home/user/Software/phenix/modules/cctbx_project/scitbx/array_family/flex.py\u001b[0m in \u001b[0;36m<module>\u001b[0;34m()\u001b[0m\n\u001b[1;32m      5\u001b[0m \u001b[0;32mimport\u001b[0m \u001b[0msys\u001b[0m\u001b[0;34m\u001b[0m\u001b[0m\n\u001b[1;32m      6\u001b[0m \u001b[0;34m\u001b[0m\u001b[0m\n\u001b[0;32m----> 7\u001b[0;31m \u001b[0;32mimport\u001b[0m \u001b[0mboost_adaptbx\u001b[0m\u001b[0;34m.\u001b[0m\u001b[0mboost\u001b[0m\u001b[0;34m.\u001b[0m\u001b[0moptional\u001b[0m \u001b[0;31m# import dependency\u001b[0m\u001b[0;34m\u001b[0m\u001b[0m\n\u001b[0m\u001b[1;32m      8\u001b[0m \u001b[0;32mimport\u001b[0m \u001b[0mboost_adaptbx\u001b[0m\u001b[0;34m.\u001b[0m\u001b[0mboost\u001b[0m\u001b[0;34m.\u001b[0m\u001b[0mstd_pair\u001b[0m \u001b[0;31m# import dependency\u001b[0m\u001b[0;34m\u001b[0m\u001b[0m\n\u001b[1;32m      9\u001b[0m \u001b[0;32mimport\u001b[0m \u001b[0mboost_adaptbx\u001b[0m\u001b[0;34m.\u001b[0m\u001b[0mboost\u001b[0m\u001b[0;34m.\u001b[0m\u001b[0mpython\u001b[0m \u001b[0;32mas\u001b[0m \u001b[0mbp\u001b[0m\u001b[0;34m\u001b[0m\u001b[0m\n",
      "\u001b[0;32m/home/user/Software/phenix/modules/cctbx_project/boost_adaptbx/boost/optional.py\u001b[0m in \u001b[0;36m<module>\u001b[0;34m()\u001b[0m\n\u001b[1;32m      1\u001b[0m \u001b[0;32mfrom\u001b[0m \u001b[0m__future__\u001b[0m \u001b[0;32mimport\u001b[0m \u001b[0mabsolute_import\u001b[0m\u001b[0;34m,\u001b[0m \u001b[0mdivision\u001b[0m\u001b[0;34m,\u001b[0m \u001b[0mprint_function\u001b[0m\u001b[0;34m\u001b[0m\u001b[0m\n\u001b[0;32m----> 2\u001b[0;31m \u001b[0;32mimport\u001b[0m \u001b[0mboost_adaptbx\u001b[0m\u001b[0;34m.\u001b[0m\u001b[0mboost\u001b[0m\u001b[0;34m.\u001b[0m\u001b[0mpython\u001b[0m \u001b[0;32mas\u001b[0m \u001b[0mbp\u001b[0m\u001b[0;34m\u001b[0m\u001b[0m\n\u001b[0m\u001b[1;32m      3\u001b[0m \u001b[0mext\u001b[0m \u001b[0;34m=\u001b[0m \u001b[0mbp\u001b[0m\u001b[0;34m.\u001b[0m\u001b[0mimport_ext\u001b[0m\u001b[0;34m(\u001b[0m\u001b[0;34m\"boost_optional_ext\"\u001b[0m\u001b[0;34m)\u001b[0m\u001b[0;34m\u001b[0m\u001b[0m\n\u001b[1;32m      4\u001b[0m \u001b[0;32mfrom\u001b[0m \u001b[0mboost_optional_ext\u001b[0m \u001b[0;32mimport\u001b[0m \u001b[0;34m*\u001b[0m\u001b[0;34m\u001b[0m\u001b[0m\n",
      "\u001b[0;32m/home/user/Software/phenix/modules/cctbx_project/boost_adaptbx/boost/python.py\u001b[0m in \u001b[0;36m<module>\u001b[0;34m()\u001b[0m\n\u001b[1;32m     61\u001b[0m   \u001b[0;32mreturn\u001b[0m \u001b[0mmod\u001b[0m\u001b[0;34m\u001b[0m\u001b[0m\n\u001b[1;32m     62\u001b[0m \u001b[0;34m\u001b[0m\u001b[0m\n\u001b[0;32m---> 63\u001b[0;31m \u001b[0mext\u001b[0m \u001b[0;34m=\u001b[0m \u001b[0mimport_ext\u001b[0m\u001b[0;34m(\u001b[0m\u001b[0;34m\"boost_python_meta_ext\"\u001b[0m\u001b[0;34m)\u001b[0m\u001b[0;34m\u001b[0m\u001b[0m\n\u001b[0m\u001b[1;32m     64\u001b[0m \u001b[0;34m\u001b[0m\u001b[0m\n\u001b[1;32m     65\u001b[0m \u001b[0;32mtry\u001b[0m\u001b[0;34m:\u001b[0m \u001b[0mstreambuf\u001b[0m \u001b[0;34m=\u001b[0m \u001b[0mext\u001b[0m\u001b[0;34m.\u001b[0m\u001b[0mstreambuf\u001b[0m\u001b[0;34m\u001b[0m\u001b[0m\n",
      "\u001b[0;32m/home/user/Software/phenix/modules/cctbx_project/boost_adaptbx/boost/python.py\u001b[0m in \u001b[0;36mimport_ext\u001b[0;34m(name, optional)\u001b[0m\n\u001b[1;32m     40\u001b[0m     raise ImportError(\n\u001b[1;32m     41\u001b[0m       \"\\n  \".join(['__import__(\"%s\"): %s' % (name, error_msg), \"sys.path:\"]\n\u001b[0;32m---> 42\u001b[0;31m       + [\"  \"+p for p in sys.path]))\n\u001b[0m\u001b[1;32m     43\u001b[0m   \u001b[0;32mfor\u001b[0m \u001b[0mcomp\u001b[0m \u001b[0;32min\u001b[0m \u001b[0mcomponents\u001b[0m\u001b[0;34m[\u001b[0m\u001b[0;36m1\u001b[0m\u001b[0;34m:\u001b[0m\u001b[0;34m]\u001b[0m\u001b[0;34m:\u001b[0m\u001b[0;34m\u001b[0m\u001b[0m\n\u001b[1;32m     44\u001b[0m     \u001b[0mmod\u001b[0m \u001b[0;34m=\u001b[0m \u001b[0mgetattr\u001b[0m\u001b[0;34m(\u001b[0m\u001b[0mmod\u001b[0m\u001b[0;34m,\u001b[0m \u001b[0mcomp\u001b[0m\u001b[0;34m)\u001b[0m\u001b[0;34m\u001b[0m\u001b[0m\n",
      "\u001b[0;31mImportError\u001b[0m: __import__(\"boost_python_meta_ext\"): No module named boost_python_meta_ext\n  sys.path:\n    \n    /home/user/Software/phenix/modules\n    /home/user/Software/phenix/modules/cctbx_project\n    /home/user/Software/phenix/modules/phenix\n    /home/user/Software/phenix/modules/reel\n    /home/user/Software/phenix/modules/phaser\n    /home/user/Software/phenix/modules/tntbx\n    /home/user/Software/phenix/modules/elbow\n    /home/user/Software/phenix/modules/PyQuante\n    /home/user/Software/phenix/modules/cctbx_project/boost_adaptbx\n    /home/user/Software/phenix/build/lib\n    /home/user/Software/phenix/conda_base/lib/site-python\n    /home/user/Software/phenix/conda_base/lib/python2.7/site-packages\n    /home/user/Software/phenix/conda_base/lib/python27.zip\n    /home/user/Software/phenix/conda_base/lib/python2.7\n    /home/user/Software/phenix/conda_base/lib/python2.7/plat-linux2\n    /home/user/Software/phenix/conda_base/lib/python2.7/lib-tk\n    /home/user/Software/phenix/conda_base/lib/python2.7/lib-old\n    /home/user/Software/phenix/conda_base/lib/python2.7/lib-dynload\n    /home/user/Software/phenix/conda_base/lib/python2.7/site-packages/wx-3.0-gtk2\n    /home/user/Software/phenix/conda_base/lib/site-python\n    /home/user/Software/phenix/conda_base/lib/python2.7/site-packages/IPython/extensions\n    /home/user/.ipython"
     ]
    }
   ],
   "source": [
    "from iotbx.map_manager import map_manager as MapManager\n",
    "from mmtbx.model import manager as ModelManager\n",
    "from iotbx.data_manager import DataManager\n",
    "from iotbx.map_model_manager import map_model_manager as MapModelManager\n",
    "from iotbx.pdb import common_residue_names_get_class\n",
    "from libtbx import group_args\n",
    "from mmtbx.maps.correlation import five_cc\n",
    "import os\n",
    "import pickle\n",
    "import inspect"
   ]
  },
  {
   "cell_type": "code",
   "execution_count": null,
   "metadata": {},
   "outputs": [],
   "source": [
    "import sys\n",
    "sys.path.append(\"../\")\n",
    "from ligands_cc import extract_ligand_models, ligands_cc_from_mmm"
   ]
  },
  {
   "cell_type": "markdown",
   "metadata": {},
   "source": [
    "## Instantiate a DataManager object from data on disk"
   ]
  },
  {
   "cell_type": "code",
   "execution_count": null,
   "metadata": {},
   "outputs": [],
   "source": [
    "model_path = \"../../data/6f1u_4169/6f1u_4169.cif\"\n",
    "map_path = \"../data/6f1u_4169/6f1u_4169.map\"\n",
    "group_args_entry = \"../data/6f1u_4169/6f1u_4169.pkl\"\n",
    "with open(group_args_entry,\"rb\") as fh:\n",
    "    entry = pickle.load(fh)\n",
    "\n",
    "\n",
    "dm = DataManager()\n",
    "dm.process_model_file(model_path)\n",
    "dm.process_real_map_file(map_path)\n",
    "\n",
    "map_manager = dm.get_real_map()\n",
    "map_manager.set_resolution(entry.resolution)\n",
    "map_model_manager = MapModelManager(map_manager=map_manager,model=dm.get_model())\n",
    "\n",
    "# this is necessary for cryo-em models without crystal symmetry\n",
    "if model.crystal_symmetry() is None:\n",
    "    from cctbx.maptbx.box import shift_and_box_model\n",
    "    model = shift_and_box_model(model)"
   ]
  },
  {
   "cell_type": "code",
   "execution_count": 179,
   "metadata": {},
   "outputs": [
    {
     "data": {
      "text/plain": [
       "'/home/user/Software/phenix/modules/phenix/phenix/programs/setup_tutorial.py'"
      ]
     },
     "execution_count": 179,
     "metadata": {},
     "output_type": "execute_result"
    }
   ],
   "source": [
    "from phenix.programs import setup_tutorial\n",
    "inspect.getabsfile(setup_tutorial)"
   ]
  },
  {
   "cell_type": "code",
   "execution_count": 143,
   "metadata": {},
   "outputs": [],
   "source": [
    "def extract_ligand_models(model,include_resnames=[],exclude_resnames=[]):\n",
    "    \n",
    "    \n",
    "    exclude_classes = [\"common_amino_acid\",\n",
    "             \"modified_amino_acid\",\n",
    "             \"common_rna_dna\",\n",
    "             \"modified_rna_dna\",\n",
    "             \"ccp4_mon_lib_rna_dna\",\n",
    "             \"common_water\"]\n",
    "\n",
    "    default_exclude_resnames= [\"UNK\"]\n",
    "       \n",
    "    exclude_resnames = default_exclude_resnames+exclude_resnames\n",
    "    \n",
    "    extract_all = True if len(include_resnames) ==0 else False\n",
    "       \n",
    "    ligand_dict = {}\n",
    "    sel_str_other = \"not (water or nucleotide or protein)\"  # \"other_cnts\" in model.composition()\n",
    "    other_model = model.select(model.selection(sel_str_other))\n",
    "    # I profiled the above method compared to looping over the entire original model,\n",
    "    # and this was >10X faster. \n",
    "    \n",
    "    \n",
    "    for model in other_model.get_hierarchy().models():\n",
    "        for chain in model.chains():\n",
    "            for rg in chain.residue_groups():\n",
    "                for resname in rg.unique_resnames():\n",
    "                    if (common_residue_names_get_class(name=resname) not in exclude_classes\n",
    "                       and resname not in exclude_resnames):\n",
    "                        if resname in include_resnames or extract_all:\n",
    "                            iselection = rg.atoms().extract_i_seq()\n",
    "                            id_tuple = (model.id, chain.id, rg.resseq, resname)\n",
    "                            assert(id_tuple not in ligand_dict.keys())\n",
    "                            ligand_model = other_model.select(iselection)\n",
    "                            ligand_dict[id_tuple] = ligand_model\n",
    "        \n",
    "    return ligand_dict"
   ]
  },
  {
   "cell_type": "code",
   "execution_count": 144,
   "metadata": {},
   "outputs": [],
   "source": [
    "def ligands_cc(map_model_manager,output_directory=None):\n",
    "    mmm = map_model_manager\n",
    "    mm = mmm.map_manager()\n",
    "    ligand_dict = extract_ligand_models(model)\n",
    "    \n",
    "    return_ligand_dict = {}\n",
    "    ccmask_values = []\n",
    "\n",
    "    for ligand_id, ligand_model in ligand_dict.items():\n",
    "        \n",
    "        model_id, chain_id, rg_resseq, resname = ligand_id\n",
    "        \n",
    "\n",
    "        map_model_manager = MapModelManager(map_manager=mm,\n",
    "                                            model=ligand_model,\n",
    "                                            ignore_symmetry_conflicts=True)\n",
    "        mmmlig = map_model_manager.extract_all_maps_around_model()\n",
    "        return_ligand_dict[ligand_id] = mmmlig\n",
    "        \n",
    "        if mmm.map_manager()._resolution is None:\n",
    "            # log that calculating resolution is very slow\n",
    "            pass\n",
    "        \n",
    "        ccmask = mmmlig.map_model_cc(resolution=mm.resolution()) \n",
    "        # This uses the five_cc object internally, and returns only CCmask\n",
    "        \n",
    "        ccmask_values.append(ccmask)\n",
    "        if output_directory is not None:\n",
    "            if not os.path.exists(output_directory):\n",
    "                os.path.mkdir(output_directory)\n",
    "\n",
    "                ligand_name = resname.strip()+\"_\"+chain_id.strip()\n",
    "                ligand_map_file = os.path.join(output_directory,ligand_name+\".map\")\n",
    "                ligand_model_file = os.path.join(output_directory,ligand_name+\".cif\")\n",
    "\n",
    "                dm.write_model_file(mmmlig.model(),filename=ligand_model_file,extension=\"cif\",overwrite=True)\n",
    "                dm.write_real_map_file(mmmlig.map_manager(),filename=ligand_map_file,overwrite=True)\n",
    "\n",
    "    return return_ligand_dict, ccmask_values\n",
    "        "
   ]
  },
  {
   "cell_type": "code",
   "execution_count": 145,
   "metadata": {},
   "outputs": [],
   "source": [
    "ligand_dict, ccmask_values = ligands_cc(map_model_manager)\n"
   ]
  },
  {
   "cell_type": "code",
   "execution_count": 150,
   "metadata": {},
   "outputs": [],
   "source": [
    "dm.write_phil_file(\"../debug/dbg.phil\")"
   ]
  },
  {
   "cell_type": "code",
   "execution_count": 152,
   "metadata": {},
   "outputs": [
    {
     "name": "stdout",
     "output_type": "stream",
     "text": [
      "  def write_phil_file(self, phil_str, filename=Auto, overwrite=Auto):\n",
      "    # use this instead of libtbx.phil.scope.show for consistent error messages\n",
      "    if filename is Auto:\n",
      "      filename = self.get_default_output_phil_filename()\n",
      "    self._write_text(PhilDataManager.datatype, phil_str,\n",
      "                     filename=filename, overwrite=overwrite)\n",
      "\n"
     ]
    }
   ],
   "source": [
    "print(inspect.getsource(dm.write_phil_file))"
   ]
  },
  {
   "cell_type": "code",
   "execution_count": 176,
   "metadata": {},
   "outputs": [],
   "source": [
    "master_phil_str = \"\"\"\n",
    "\n",
    "  input_files {\n",
    "    include scope iotbx.map_model_manager.map_model_phil_str\n",
    "    }\n",
    "\n",
    "  crystal_info {\n",
    "    resolution = None\n",
    "      .type = float\n",
    "      .help = Nominal resolution of map\n",
    "      .short_caption = Resolution\n",
    "    }\n",
    "\"\"\""
   ]
  },
  {
   "cell_type": "code",
   "execution_count": 177,
   "metadata": {},
   "outputs": [],
   "source": [
    "from libtbx.phil import parse"
   ]
  },
  {
   "cell_type": "code",
   "execution_count": 178,
   "metadata": {},
   "outputs": [],
   "source": [
    "phil_scope = parse(master_phil_str)"
   ]
  },
  {
   "cell_type": "code",
   "execution_count": 175,
   "metadata": {},
   "outputs": [
    {
     "ename": "AttributeError",
     "evalue": "'scope' object has no attribute 'crystal_info'",
     "output_type": "error",
     "traceback": [
      "\u001b[0;31m---------------------------------------------------------------------------\u001b[0m",
      "\u001b[0;31mAttributeError\u001b[0m                            Traceback (most recent call last)",
      "\u001b[0;32m<ipython-input-175-e3694b79facc>\u001b[0m in \u001b[0;36m<module>\u001b[0;34m()\u001b[0m\n\u001b[0;32m----> 1\u001b[0;31m \u001b[0mphil_scope\u001b[0m\u001b[0;34m.\u001b[0m\u001b[0mcrystal_info\u001b[0m\u001b[0;34m\u001b[0m\u001b[0m\n\u001b[0m",
      "\u001b[0;31mAttributeError\u001b[0m: 'scope' object has no attribute 'crystal_info'"
     ]
    }
   ],
   "source": [
    "from __future__ import absolute_import, division, print_function\n",
    "from phenix.program_template import ProgramTemplate\n",
    "from libtbx import group_args\n",
    "\n",
    "# =============================================================================\n",
    "\n",
    "class Program(ProgramTemplate):\n",
    "\n",
    "  description = \"\"\"\n",
    "  Demo program to calculate map-model correlation\n",
    "  Usage: phenix.map_cc model.pdb map.mrc 3\n",
    "\n",
    "  \"\"\"\n",
    "\n",
    "  # Define the data types that will be used\n",
    "  datatypes = ['model', 'phil', 'real_map']\n",
    "\n",
    "  # Input parameters\n",
    "\n",
    "  # Note: include of map_model_phil_str allows specification of\n",
    "  #   full_map, half_map, another half_map, and model and Program Template\n",
    "  #   produces input_files.map_model_manager containing these\n",
    "\n",
    "  master_phil_str = \"\"\"\n",
    "\n",
    "  input_files {\n",
    "    include scope iotbx.map_model_manager.map_model_phil_str\n",
    "    }\n",
    "\n",
    "  crystal_info {\n",
    "    resolution = None\n",
    "      .type = float\n",
    "      .help = Nominal resolution of map\n",
    "      .short_caption = Resolution\n",
    "    }\n",
    "\n",
    "  \"\"\"\n",
    "\n",
    "  # Define how to determine if inputs are ok\n",
    "  def validate(self):\n",
    "\n",
    "    # Expect exactly one map and one model. Stop if not the case\n",
    "    self.data_manager.has_real_maps(\n",
    "      raise_sorry = True,\n",
    "      expected_n  = 1,\n",
    "      exact_count = True)\n",
    "    self.data_manager.has_models(\n",
    "      raise_sorry = True,\n",
    "      expected_n  = 1,\n",
    "      exact_count = True)\n",
    "\n",
    "  # Set any defaults\n",
    "  def set_defaults(self):\n",
    "    pass\n",
    "\n",
    "\n",
    "  # Run the program\n",
    "  def run(self):\n",
    "\n",
    "    from phenix.model_building.map_cc import run as get_map_cc\n",
    "    self.result = get_map_cc(\n",
    "      map_model_manager = self.data_manager.get_map_model_manager(\n",
    "         from_phil=True),\n",
    "      resolution = self.params.crystal_info.resolution,\n",
    "      log        = self.logger)\n",
    "\n",
    "  # Get the results\n",
    "  def get_results(self):\n",
    "    return group_args(\n",
    "      map_model_cc = self.result.map_model_cc,\n",
    "     )"
   ]
  },
  {
   "cell_type": "code",
   "execution_count": 174,
   "metadata": {},
   "outputs": [
    {
     "data": {
      "text/plain": [
       "<libtbx.phil.scope at 0x7f8a3f854870>"
      ]
     },
     "execution_count": 174,
     "metadata": {},
     "output_type": "execute_result"
    }
   ],
   "source": [
    "phil_scope.resolve_variables()"
   ]
  },
  {
   "cell_type": "code",
   "execution_count": 42,
   "metadata": {},
   "outputs": [],
   "source": []
  },
  {
   "cell_type": "code",
   "execution_count": 47,
   "metadata": {},
   "outputs": [],
   "source": [
    "output_directory = \"../data/6f1u_4169/ligands/\""
   ]
  },
  {
   "cell_type": "code",
   "execution_count": 62,
   "metadata": {},
   "outputs": [],
   "source": []
  },
  {
   "cell_type": "code",
   "execution_count": 44,
   "metadata": {},
   "outputs": [
    {
     "ename": "NameError",
     "evalue": "name 'mmm' is not defined",
     "output_type": "error",
     "traceback": [
      "\u001b[0;31m---------------------------------------------------------------------------\u001b[0m",
      "\u001b[0;31mNameError\u001b[0m                                 Traceback (most recent call last)",
      "\u001b[0;32m<ipython-input-44-daa85d2a3e21>\u001b[0m in \u001b[0;36m<module>\u001b[0;34m()\u001b[0m\n\u001b[0;32m----> 1\u001b[0;31m \u001b[0mdir\u001b[0m\u001b[0;34m(\u001b[0m\u001b[0mmmm\u001b[0m\u001b[0;34m)\u001b[0m\u001b[0;34m\u001b[0m\u001b[0m\n\u001b[0m",
      "\u001b[0;31mNameError\u001b[0m: name 'mmm' is not defined"
     ]
    }
   ],
   "source": []
  },
  {
   "cell_type": "code",
   "execution_count": 13,
   "metadata": {},
   "outputs": [
    {
     "data": {
      "text/plain": [
       "Map manager (from ../data/6f1u_4169/6f1u_4169.map)\n",
       "Unit cell: (804, 804, 804, 90, 90, 90) Space group: P 1 (No. 1), \n",
       "Unit-cell grid: (600, 600, 600), (present: (600, 600, 600)), origin shift (0, 0, 0) \n",
       "Working coordinate shift (-0.0, -0.0, -0.0)"
      ]
     },
     "execution_count": 13,
     "metadata": {},
     "output_type": "execute_result"
    }
   ],
   "source": [
    "mm"
   ]
  },
  {
   "cell_type": "code",
   "execution_count": 14,
   "metadata": {},
   "outputs": [],
   "source": []
  },
  {
   "cell_type": "markdown",
   "metadata": {},
   "source": [
    "# Do a second ligand"
   ]
  },
  {
   "cell_type": "code",
   "execution_count": 15,
   "metadata": {},
   "outputs": [],
   "source": [
    "map_model_manager_1 = MapModelManager(map_manager=mm,\n",
    "                                    model=ligand_models[1],\n",
    "                                    ignore_symmetry_conflicts=True)"
   ]
  },
  {
   "cell_type": "code",
   "execution_count": 16,
   "metadata": {},
   "outputs": [],
   "source": [
    "boxed_mmm_1 = map_model_manager_1.extract_all_maps_around_model()\n",
    "ligand_mm_1 = boxed_mmm_1.map_manager()\n",
    "ligand_model_1 = boxed_mmm_1.model()\n"
   ]
  },
  {
   "cell_type": "code",
   "execution_count": 17,
   "metadata": {},
   "outputs": [
    {
     "data": {
      "text/plain": [
       "\n",
       "Map_model_manager: \n",
       "\n",
       "Model manager \n",
       "Unit cell: (804, 804, 804, 90, 90, 90) Space group: P 1 (No. 1)\n",
       "Chains: 1 Residues 1 \n",
       "Working coordinate shift (-435.49999999999994, -392.62000000000006, -410.04))\n",
       "\n",
       "map_manager: Map manager (from ../data/6f1u_4169/6f1u_4169.map)\n",
       "Unit cell: (804, 804, 804, 90, 90, 90) Space group: P 1 (No. 1), \n",
       "Unit-cell grid: (600, 600, 600), (present: (18, 15, 15)), origin shift [325, 293, 306] \n",
       "Working coordinate shift (-435.49999999999994, -392.62000000000006, -410.04)"
      ]
     },
     "execution_count": 17,
     "metadata": {},
     "output_type": "execute_result"
    }
   ],
   "source": [
    "boxed_mmm_1"
   ]
  },
  {
   "cell_type": "code",
   "execution_count": 18,
   "metadata": {},
   "outputs": [
    {
     "data": {
      "text/plain": [
       "\n",
       "Map_model_manager: \n",
       "\n",
       "Model manager \n",
       "Unit cell: (804, 804, 804, 90, 90, 90) Space group: P 1 (No. 1)\n",
       "Chains: 1 Residues 1 \n",
       "Working coordinate shift (-397.98, -397.9800000000001, -450.24000000000007))\n",
       "\n",
       "map_manager: Map manager (from ../data/6f1u_4169/6f1u_4169.map)\n",
       "Unit cell: (804, 804, 804, 90, 90, 90) Space group: P 1 (No. 1), \n",
       "Unit-cell grid: (600, 600, 600), (present: (18, 18, 13)), origin shift [297, 297, 336] \n",
       "Working coordinate shift (-397.98, -397.9800000000001, -450.24000000000007)"
      ]
     },
     "execution_count": 18,
     "metadata": {},
     "output_type": "execute_result"
    }
   ],
   "source": [
    "boxed_mmm"
   ]
  },
  {
   "cell_type": "code",
   "execution_count": 19,
   "metadata": {},
   "outputs": [],
   "source": [
    "boxed_mmm_1.write_map(\"../data/6f1u_4169/ligand1.mrc\")\n",
    "boxed_mmm_1.write_model(\"../data/6f1u_4169/ligand1.pdb\")"
   ]
  },
  {
   "cell_type": "code",
   "execution_count": null,
   "metadata": {},
   "outputs": [],
   "source": []
  }
 ],
 "metadata": {
  "kernelspec": {
   "display_name": "phenix",
   "language": "python",
   "name": "phenix"
  },
  "language_info": {
   "codemirror_mode": {
    "name": "ipython",
    "version": 2
   },
   "file_extension": ".py",
   "mimetype": "text/x-python",
   "name": "python",
   "nbconvert_exporter": "python",
   "pygments_lexer": "ipython2",
   "version": "2.7.15"
  }
 },
 "nbformat": 4,
 "nbformat_minor": 4
}
