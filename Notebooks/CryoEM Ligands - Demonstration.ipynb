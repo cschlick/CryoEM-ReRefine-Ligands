{
 "cells": [
  {
   "cell_type": "code",
   "execution_count": 1,
   "metadata": {},
<<<<<<< HEAD
   "outputs": [],
=======
   "outputs": [
    {
     "ename": "ImportError",
     "evalue": "__import__(\"boost_python_meta_ext\"): No module named boost_python_meta_ext\n  sys.path:\n    \n    /home/user/Software/phenix/modules\n    /home/user/Software/phenix/modules/cctbx_project\n    /home/user/Software/phenix/modules/phenix\n    /home/user/Software/phenix/modules/reel\n    /home/user/Software/phenix/modules/phaser\n    /home/user/Software/phenix/modules/tntbx\n    /home/user/Software/phenix/modules/elbow\n    /home/user/Software/phenix/modules/PyQuante\n    /home/user/Software/phenix/modules/cctbx_project/boost_adaptbx\n    /home/user/Software/phenix/build/lib\n    /home/user/Software/phenix/conda_base/lib/site-python\n    /home/user/Software/phenix/conda_base/lib/python2.7/site-packages\n    /home/user/Software/phenix/conda_base/lib/python27.zip\n    /home/user/Software/phenix/conda_base/lib/python2.7\n    /home/user/Software/phenix/conda_base/lib/python2.7/plat-linux2\n    /home/user/Software/phenix/conda_base/lib/python2.7/lib-tk\n    /home/user/Software/phenix/conda_base/lib/python2.7/lib-old\n    /home/user/Software/phenix/conda_base/lib/python2.7/lib-dynload\n    /home/user/Software/phenix/conda_base/lib/python2.7/site-packages/wx-3.0-gtk2\n    /home/user/Software/phenix/conda_base/lib/site-python\n    /home/user/Software/phenix/conda_base/lib/python2.7/site-packages/IPython/extensions\n    /home/user/.ipython",
     "output_type": "error",
     "traceback": [
      "\u001b[0;31m---------------------------------------------------------------------------\u001b[0m",
      "\u001b[0;31mImportError\u001b[0m                               Traceback (most recent call last)",
      "\u001b[0;32m<ipython-input-1-3974020dc245>\u001b[0m in \u001b[0;36m<module>\u001b[0;34m()\u001b[0m\n\u001b[0;32m----> 1\u001b[0;31m \u001b[0;32mfrom\u001b[0m \u001b[0miotbx\u001b[0m\u001b[0;34m.\u001b[0m\u001b[0mmap_manager\u001b[0m \u001b[0;32mimport\u001b[0m \u001b[0mmap_manager\u001b[0m \u001b[0;32mas\u001b[0m \u001b[0mMapManager\u001b[0m\u001b[0;34m\u001b[0m\u001b[0m\n\u001b[0m\u001b[1;32m      2\u001b[0m \u001b[0;32mfrom\u001b[0m \u001b[0mmmtbx\u001b[0m\u001b[0;34m.\u001b[0m\u001b[0mmodel\u001b[0m \u001b[0;32mimport\u001b[0m \u001b[0mmanager\u001b[0m \u001b[0;32mas\u001b[0m \u001b[0mModelManager\u001b[0m\u001b[0;34m\u001b[0m\u001b[0m\n\u001b[1;32m      3\u001b[0m \u001b[0;32mfrom\u001b[0m \u001b[0miotbx\u001b[0m\u001b[0;34m.\u001b[0m\u001b[0mdata_manager\u001b[0m \u001b[0;32mimport\u001b[0m \u001b[0mDataManager\u001b[0m\u001b[0;34m\u001b[0m\u001b[0m\n\u001b[1;32m      4\u001b[0m \u001b[0;32mfrom\u001b[0m \u001b[0miotbx\u001b[0m\u001b[0;34m.\u001b[0m\u001b[0mmap_model_manager\u001b[0m \u001b[0;32mimport\u001b[0m \u001b[0mmap_model_manager\u001b[0m \u001b[0;32mas\u001b[0m \u001b[0mMapModelManager\u001b[0m\u001b[0;34m\u001b[0m\u001b[0m\n\u001b[1;32m      5\u001b[0m \u001b[0;32mfrom\u001b[0m \u001b[0miotbx\u001b[0m\u001b[0;34m.\u001b[0m\u001b[0mpdb\u001b[0m \u001b[0;32mimport\u001b[0m \u001b[0mcommon_residue_names_get_class\u001b[0m\u001b[0;34m\u001b[0m\u001b[0m\n",
      "\u001b[0;32m/home/user/Software/phenix/modules/cctbx_project/iotbx/map_manager.py\u001b[0m in \u001b[0;36m<module>\u001b[0;34m()\u001b[0m\n\u001b[1;32m      5\u001b[0m \u001b[0;32mimport\u001b[0m \u001b[0msys\u001b[0m\u001b[0;34m\u001b[0m\u001b[0m\n\u001b[1;32m      6\u001b[0m \u001b[0;32mimport\u001b[0m \u001b[0mio\u001b[0m\u001b[0;34m\u001b[0m\u001b[0m\n\u001b[0;32m----> 7\u001b[0;31m \u001b[0;32mfrom\u001b[0m \u001b[0mcctbx\u001b[0m \u001b[0;32mimport\u001b[0m \u001b[0mmiller\u001b[0m\u001b[0;34m\u001b[0m\u001b[0m\n\u001b[0m\u001b[1;32m      8\u001b[0m \u001b[0;32mfrom\u001b[0m \u001b[0miotbx\u001b[0m\u001b[0;34m.\u001b[0m\u001b[0mmrcfile\u001b[0m \u001b[0;32mimport\u001b[0m \u001b[0mmap_reader\u001b[0m\u001b[0;34m,\u001b[0m \u001b[0mwrite_ccp4_map\u001b[0m\u001b[0;34m\u001b[0m\u001b[0m\n\u001b[1;32m      9\u001b[0m \u001b[0;32mfrom\u001b[0m \u001b[0mscitbx\u001b[0m\u001b[0;34m.\u001b[0m\u001b[0marray_family\u001b[0m \u001b[0;32mimport\u001b[0m \u001b[0mflex\u001b[0m\u001b[0;34m\u001b[0m\u001b[0m\n",
      "\u001b[0;32m/home/user/Software/phenix/modules/cctbx_project/cctbx/miller/__init__.py\u001b[0m in \u001b[0;36m<module>\u001b[0;34m()\u001b[0m\n\u001b[1;32m      1\u001b[0m \u001b[0;31m# -*- coding: utf-8 -*-\u001b[0m\u001b[0;34m\u001b[0m\u001b[0;34m\u001b[0m\u001b[0m\n\u001b[1;32m      2\u001b[0m \u001b[0;32mfrom\u001b[0m \u001b[0m__future__\u001b[0m \u001b[0;32mimport\u001b[0m \u001b[0mabsolute_import\u001b[0m\u001b[0;34m,\u001b[0m \u001b[0mdivision\u001b[0m\u001b[0;34m,\u001b[0m \u001b[0mprint_function\u001b[0m\u001b[0;34m\u001b[0m\u001b[0m\n\u001b[0;32m----> 3\u001b[0;31m \u001b[0;32mimport\u001b[0m \u001b[0mcctbx\u001b[0m\u001b[0;34m.\u001b[0m\u001b[0msgtbx\u001b[0m\u001b[0;34m\u001b[0m\u001b[0m\n\u001b[0m\u001b[1;32m      4\u001b[0m \u001b[0;34m\u001b[0m\u001b[0m\n\u001b[1;32m      5\u001b[0m \u001b[0;32mimport\u001b[0m \u001b[0mboost_adaptbx\u001b[0m\u001b[0;34m.\u001b[0m\u001b[0mboost\u001b[0m\u001b[0;34m.\u001b[0m\u001b[0mpython\u001b[0m \u001b[0;32mas\u001b[0m \u001b[0mbp\u001b[0m\u001b[0;34m\u001b[0m\u001b[0m\n",
      "\u001b[0;32m/home/user/Software/phenix/modules/cctbx_project/cctbx/sgtbx/__init__.py\u001b[0m in \u001b[0;36m<module>\u001b[0;34m()\u001b[0m\n\u001b[1;32m      1\u001b[0m \u001b[0;32mfrom\u001b[0m \u001b[0m__future__\u001b[0m \u001b[0;32mimport\u001b[0m \u001b[0mabsolute_import\u001b[0m\u001b[0;34m,\u001b[0m \u001b[0mdivision\u001b[0m\u001b[0;34m,\u001b[0m \u001b[0mprint_function\u001b[0m\u001b[0;34m\u001b[0m\u001b[0m\n\u001b[0;32m----> 2\u001b[0;31m \u001b[0;32mfrom\u001b[0m \u001b[0mcctbx\u001b[0m \u001b[0;32mimport\u001b[0m \u001b[0muctbx\u001b[0m\u001b[0;34m\u001b[0m\u001b[0m\n\u001b[0m\u001b[1;32m      3\u001b[0m \u001b[0;34m\u001b[0m\u001b[0m\n\u001b[1;32m      4\u001b[0m \u001b[0;32mimport\u001b[0m \u001b[0mboost_adaptbx\u001b[0m\u001b[0;34m.\u001b[0m\u001b[0mboost\u001b[0m\u001b[0;34m.\u001b[0m\u001b[0mpython\u001b[0m \u001b[0;32mas\u001b[0m \u001b[0mbp\u001b[0m\u001b[0;34m\u001b[0m\u001b[0m\n\u001b[1;32m      5\u001b[0m \u001b[0;32mfrom\u001b[0m \u001b[0msix\u001b[0m\u001b[0;34m.\u001b[0m\u001b[0mmoves\u001b[0m \u001b[0;32mimport\u001b[0m \u001b[0mrange\u001b[0m\u001b[0;34m\u001b[0m\u001b[0m\n",
      "\u001b[0;32m/home/user/Software/phenix/modules/cctbx_project/cctbx/uctbx/__init__.py\u001b[0m in \u001b[0;36m<module>\u001b[0;34m()\u001b[0m\n\u001b[1;32m      1\u001b[0m \u001b[0;32mfrom\u001b[0m \u001b[0m__future__\u001b[0m \u001b[0;32mimport\u001b[0m \u001b[0mabsolute_import\u001b[0m\u001b[0;34m,\u001b[0m \u001b[0mdivision\u001b[0m\u001b[0;34m,\u001b[0m \u001b[0mprint_function\u001b[0m\u001b[0;34m\u001b[0m\u001b[0m\n\u001b[0;32m----> 2\u001b[0;31m \u001b[0;32mimport\u001b[0m \u001b[0mcctbx\u001b[0m\u001b[0;34m.\u001b[0m\u001b[0marray_family\u001b[0m\u001b[0;34m.\u001b[0m\u001b[0mflex\u001b[0m \u001b[0;31m# import dependency\u001b[0m\u001b[0;34m\u001b[0m\u001b[0m\n\u001b[0m\u001b[1;32m      3\u001b[0m \u001b[0;32mimport\u001b[0m \u001b[0mscitbx\u001b[0m\u001b[0;34m.\u001b[0m\u001b[0marray_family\u001b[0m\u001b[0;34m.\u001b[0m\u001b[0mshared\u001b[0m \u001b[0;31m# import dependency\u001b[0m\u001b[0;34m\u001b[0m\u001b[0m\n\u001b[1;32m      4\u001b[0m \u001b[0;34m\u001b[0m\u001b[0m\n\u001b[1;32m      5\u001b[0m \u001b[0;32mimport\u001b[0m \u001b[0mboost_adaptbx\u001b[0m\u001b[0;34m.\u001b[0m\u001b[0mboost\u001b[0m\u001b[0;34m.\u001b[0m\u001b[0mpython\u001b[0m \u001b[0;32mas\u001b[0m \u001b[0mbp\u001b[0m\u001b[0;34m\u001b[0m\u001b[0m\n",
      "\u001b[0;32m/home/user/Software/phenix/modules/cctbx_project/cctbx/array_family/flex.py\u001b[0m in \u001b[0;36m<module>\u001b[0;34m()\u001b[0m\n\u001b[1;32m      1\u001b[0m \u001b[0;32mfrom\u001b[0m \u001b[0m__future__\u001b[0m \u001b[0;32mimport\u001b[0m \u001b[0mabsolute_import\u001b[0m\u001b[0;34m,\u001b[0m \u001b[0mdivision\u001b[0m\u001b[0;34m,\u001b[0m \u001b[0mprint_function\u001b[0m\u001b[0;34m\u001b[0m\u001b[0m\n\u001b[0;32m----> 2\u001b[0;31m \u001b[0;32mimport\u001b[0m \u001b[0mscitbx\u001b[0m\u001b[0;34m.\u001b[0m\u001b[0marray_family\u001b[0m\u001b[0;34m.\u001b[0m\u001b[0mflex\u001b[0m\u001b[0;34m\u001b[0m\u001b[0m\n\u001b[0m\u001b[1;32m      3\u001b[0m \u001b[0;34m\u001b[0m\u001b[0m\n\u001b[1;32m      4\u001b[0m \u001b[0;32mimport\u001b[0m \u001b[0mboost_adaptbx\u001b[0m\u001b[0;34m.\u001b[0m\u001b[0mboost\u001b[0m\u001b[0;34m.\u001b[0m\u001b[0mpython\u001b[0m \u001b[0;32mas\u001b[0m \u001b[0mbp\u001b[0m\u001b[0;34m\u001b[0m\u001b[0m\n\u001b[1;32m      5\u001b[0m \u001b[0mext_\u001b[0m \u001b[0;34m=\u001b[0m \u001b[0mbp\u001b[0m\u001b[0;34m.\u001b[0m\u001b[0mimport_ext\u001b[0m\u001b[0;34m(\u001b[0m\u001b[0;34m\"cctbx_array_family_flex_ext\"\u001b[0m\u001b[0;34m)\u001b[0m\u001b[0;34m\u001b[0m\u001b[0m\n",
      "\u001b[0;32m/home/user/Software/phenix/modules/cctbx_project/scitbx/array_family/flex.py\u001b[0m in \u001b[0;36m<module>\u001b[0;34m()\u001b[0m\n\u001b[1;32m      5\u001b[0m \u001b[0;32mimport\u001b[0m \u001b[0msys\u001b[0m\u001b[0;34m\u001b[0m\u001b[0m\n\u001b[1;32m      6\u001b[0m \u001b[0;34m\u001b[0m\u001b[0m\n\u001b[0;32m----> 7\u001b[0;31m \u001b[0;32mimport\u001b[0m \u001b[0mboost_adaptbx\u001b[0m\u001b[0;34m.\u001b[0m\u001b[0mboost\u001b[0m\u001b[0;34m.\u001b[0m\u001b[0moptional\u001b[0m \u001b[0;31m# import dependency\u001b[0m\u001b[0;34m\u001b[0m\u001b[0m\n\u001b[0m\u001b[1;32m      8\u001b[0m \u001b[0;32mimport\u001b[0m \u001b[0mboost_adaptbx\u001b[0m\u001b[0;34m.\u001b[0m\u001b[0mboost\u001b[0m\u001b[0;34m.\u001b[0m\u001b[0mstd_pair\u001b[0m \u001b[0;31m# import dependency\u001b[0m\u001b[0;34m\u001b[0m\u001b[0m\n\u001b[1;32m      9\u001b[0m \u001b[0;32mimport\u001b[0m \u001b[0mboost_adaptbx\u001b[0m\u001b[0;34m.\u001b[0m\u001b[0mboost\u001b[0m\u001b[0;34m.\u001b[0m\u001b[0mpython\u001b[0m \u001b[0;32mas\u001b[0m \u001b[0mbp\u001b[0m\u001b[0;34m\u001b[0m\u001b[0m\n",
      "\u001b[0;32m/home/user/Software/phenix/modules/cctbx_project/boost_adaptbx/boost/optional.py\u001b[0m in \u001b[0;36m<module>\u001b[0;34m()\u001b[0m\n\u001b[1;32m      1\u001b[0m \u001b[0;32mfrom\u001b[0m \u001b[0m__future__\u001b[0m \u001b[0;32mimport\u001b[0m \u001b[0mabsolute_import\u001b[0m\u001b[0;34m,\u001b[0m \u001b[0mdivision\u001b[0m\u001b[0;34m,\u001b[0m \u001b[0mprint_function\u001b[0m\u001b[0;34m\u001b[0m\u001b[0m\n\u001b[0;32m----> 2\u001b[0;31m \u001b[0;32mimport\u001b[0m \u001b[0mboost_adaptbx\u001b[0m\u001b[0;34m.\u001b[0m\u001b[0mboost\u001b[0m\u001b[0;34m.\u001b[0m\u001b[0mpython\u001b[0m \u001b[0;32mas\u001b[0m \u001b[0mbp\u001b[0m\u001b[0;34m\u001b[0m\u001b[0m\n\u001b[0m\u001b[1;32m      3\u001b[0m \u001b[0mext\u001b[0m \u001b[0;34m=\u001b[0m \u001b[0mbp\u001b[0m\u001b[0;34m.\u001b[0m\u001b[0mimport_ext\u001b[0m\u001b[0;34m(\u001b[0m\u001b[0;34m\"boost_optional_ext\"\u001b[0m\u001b[0;34m)\u001b[0m\u001b[0;34m\u001b[0m\u001b[0m\n\u001b[1;32m      4\u001b[0m \u001b[0;32mfrom\u001b[0m \u001b[0mboost_optional_ext\u001b[0m \u001b[0;32mimport\u001b[0m \u001b[0;34m*\u001b[0m\u001b[0;34m\u001b[0m\u001b[0m\n",
      "\u001b[0;32m/home/user/Software/phenix/modules/cctbx_project/boost_adaptbx/boost/python.py\u001b[0m in \u001b[0;36m<module>\u001b[0;34m()\u001b[0m\n\u001b[1;32m     61\u001b[0m   \u001b[0;32mreturn\u001b[0m \u001b[0mmod\u001b[0m\u001b[0;34m\u001b[0m\u001b[0m\n\u001b[1;32m     62\u001b[0m \u001b[0;34m\u001b[0m\u001b[0m\n\u001b[0;32m---> 63\u001b[0;31m \u001b[0mext\u001b[0m \u001b[0;34m=\u001b[0m \u001b[0mimport_ext\u001b[0m\u001b[0;34m(\u001b[0m\u001b[0;34m\"boost_python_meta_ext\"\u001b[0m\u001b[0;34m)\u001b[0m\u001b[0;34m\u001b[0m\u001b[0m\n\u001b[0m\u001b[1;32m     64\u001b[0m \u001b[0;34m\u001b[0m\u001b[0m\n\u001b[1;32m     65\u001b[0m \u001b[0;32mtry\u001b[0m\u001b[0;34m:\u001b[0m \u001b[0mstreambuf\u001b[0m \u001b[0;34m=\u001b[0m \u001b[0mext\u001b[0m\u001b[0;34m.\u001b[0m\u001b[0mstreambuf\u001b[0m\u001b[0;34m\u001b[0m\u001b[0m\n",
      "\u001b[0;32m/home/user/Software/phenix/modules/cctbx_project/boost_adaptbx/boost/python.py\u001b[0m in \u001b[0;36mimport_ext\u001b[0;34m(name, optional)\u001b[0m\n\u001b[1;32m     40\u001b[0m     raise ImportError(\n\u001b[1;32m     41\u001b[0m       \"\\n  \".join(['__import__(\"%s\"): %s' % (name, error_msg), \"sys.path:\"]\n\u001b[0;32m---> 42\u001b[0;31m       + [\"  \"+p for p in sys.path]))\n\u001b[0m\u001b[1;32m     43\u001b[0m   \u001b[0;32mfor\u001b[0m \u001b[0mcomp\u001b[0m \u001b[0;32min\u001b[0m \u001b[0mcomponents\u001b[0m\u001b[0;34m[\u001b[0m\u001b[0;36m1\u001b[0m\u001b[0;34m:\u001b[0m\u001b[0;34m]\u001b[0m\u001b[0;34m:\u001b[0m\u001b[0;34m\u001b[0m\u001b[0m\n\u001b[1;32m     44\u001b[0m     \u001b[0mmod\u001b[0m \u001b[0;34m=\u001b[0m \u001b[0mgetattr\u001b[0m\u001b[0;34m(\u001b[0m\u001b[0mmod\u001b[0m\u001b[0;34m,\u001b[0m \u001b[0mcomp\u001b[0m\u001b[0;34m)\u001b[0m\u001b[0;34m\u001b[0m\u001b[0m\n",
      "\u001b[0;31mImportError\u001b[0m: __import__(\"boost_python_meta_ext\"): No module named boost_python_meta_ext\n  sys.path:\n    \n    /home/user/Software/phenix/modules\n    /home/user/Software/phenix/modules/cctbx_project\n    /home/user/Software/phenix/modules/phenix\n    /home/user/Software/phenix/modules/reel\n    /home/user/Software/phenix/modules/phaser\n    /home/user/Software/phenix/modules/tntbx\n    /home/user/Software/phenix/modules/elbow\n    /home/user/Software/phenix/modules/PyQuante\n    /home/user/Software/phenix/modules/cctbx_project/boost_adaptbx\n    /home/user/Software/phenix/build/lib\n    /home/user/Software/phenix/conda_base/lib/site-python\n    /home/user/Software/phenix/conda_base/lib/python2.7/site-packages\n    /home/user/Software/phenix/conda_base/lib/python27.zip\n    /home/user/Software/phenix/conda_base/lib/python2.7\n    /home/user/Software/phenix/conda_base/lib/python2.7/plat-linux2\n    /home/user/Software/phenix/conda_base/lib/python2.7/lib-tk\n    /home/user/Software/phenix/conda_base/lib/python2.7/lib-old\n    /home/user/Software/phenix/conda_base/lib/python2.7/lib-dynload\n    /home/user/Software/phenix/conda_base/lib/python2.7/site-packages/wx-3.0-gtk2\n    /home/user/Software/phenix/conda_base/lib/site-python\n    /home/user/Software/phenix/conda_base/lib/python2.7/site-packages/IPython/extensions\n    /home/user/.ipython"
     ]
    }
   ],
>>>>>>> 078f17b7b6500f58861f9318a1b821227556e595
   "source": [
    "from iotbx.map_manager import map_manager as MapManager\n",
    "from mmtbx.model import manager as ModelManager\n",
    "from iotbx.data_manager import DataManager\n",
    "from iotbx.map_model_manager import map_model_manager as MapModelManager\n",
    "from iotbx.pdb import common_residue_names_get_class\n",
    "from libtbx import group_args\n",
    "from mmtbx.maps.correlation import five_cc\n",
    "import os\n",
    "import pickle\n",
    "import inspect"
   ]
  },
  {
   "cell_type": "code",
   "execution_count": null,
   "metadata": {},
   "outputs": [],
   "source": [
    "import sys\n",
    "sys.path.append(\"../\")\n",
    "from ligands_cc import extract_ligand_models, ligands_cc_from_mmm"
   ]
  },
  {
   "cell_type": "markdown",
   "metadata": {},
   "source": [
    "## Instantiate a DataManager object from data on disk"
   ]
  },
  {
   "cell_type": "code",
   "execution_count": null,
   "metadata": {},
   "outputs": [],
   "source": [
<<<<<<< HEAD
    "model_path = \"/net/cci/share/cryoem/maps_and_models/6f1u_4169/6f1u_4169.cif\"\n",
    "map_path = \"/net/cci/share/cryoem/maps_and_models/6f1u_4169/6f1u_4169.map\"\n",
    "group_args_entry = \"/net/cci/share/cryoem/maps_and_models/6f1u_4169/6f1u_4169.pkl\" # for resolution value\n",
=======
    "model_path = \"../../data/6f1u_4169/6f1u_4169.cif\"\n",
    "map_path = \"../data/6f1u_4169/6f1u_4169.map\"\n",
    "group_args_entry = \"../data/6f1u_4169/6f1u_4169.pkl\"\n",
>>>>>>> 078f17b7b6500f58861f9318a1b821227556e595
    "with open(group_args_entry,\"rb\") as fh:\n",
    "    entry = pickle.load(fh)\n",
    "\n",
    "\n",
    "dm = DataManager()\n",
    "dm.process_model_file(model_path)\n",
    "dm.process_real_map_file(map_path)\n"
   ]
  },
  {
   "cell_type": "markdown",
   "metadata": {},
   "source": [
    "# Use the extract_ligand_models function on its own"
   ]
  },
  {
   "cell_type": "code",
   "execution_count": 4,
   "metadata": {},
   "outputs": [],
   "source": [
    "model = dm.get_model()\n",
    "ligand_dict = extract_ligand_models(model)"
   ]
  },
  {
   "cell_type": "code",
   "execution_count": 5,
   "metadata": {},
   "outputs": [
    {
     "name": "stdout",
     "output_type": "stream",
     "text": [
      "{('', 'D', ' 800', 'ADP'): Model manager \n",
      "None\n",
      "Chains: 1 Residues 1 \n",
      "Working coordinate shift (0, 0, 0)), ('', 'F', ' 800', 'ADP'): Model manager \n",
      "None\n",
      "Chains: 1 Residues 1 \n",
      "Working coordinate shift (0, 0, 0)), ('', 'B', ' 800', 'ADP'): Model manager \n",
      "None\n",
      "Chains: 1 Residues 1 \n",
      "Working coordinate shift (0, 0, 0))}\n"
     ]
    }
   ],
   "source": [
    "print(ligand_dict)"
   ]
  },
  {
   "cell_type": "markdown",
   "metadata": {},
   "source": [
    "# Use the ligands_cc_from_mmm function to get the ccmask values"
   ]
  },
  {
   "cell_type": "code",
   "execution_count": 6,
   "metadata": {},
   "outputs": [],
   "source": [
    "map_manager = dm.get_real_map()\n",
    "map_manager.set_resolution(entry.resolution)\n",
    "map_model_manager = MapModelManager(map_manager=map_manager,model=dm.get_model())"
   ]
  },
  {
   "cell_type": "code",
   "execution_count": 7,
   "metadata": {},
   "outputs": [
    {
     "name": "stdout",
     "output_type": "stream",
     "text": [
      "Found 3 ligands in the model \n"
     ]
    }
   ],
   "source": [
    "ligand_dict, ccmask_values = ligands_cc_from_mmm(map_model_manager)"
   ]
  },
  {
   "cell_type": "code",
   "execution_count": 8,
   "metadata": {},
   "outputs": [
    {
     "name": "stdout",
     "output_type": "stream",
     "text": [
      "[0.820752074164057, 0.8099958071989116, 0.8403064511105527]\n"
     ]
    }
   ],
   "source": [
    "print(ccmask_values)"
   ]
  },
  {
   "cell_type": "markdown",
   "metadata": {},
   "source": [
    "# Optionally write to disk"
   ]
  },
  {
   "cell_type": "code",
   "execution_count": 9,
   "metadata": {},
   "outputs": [
    {
     "name": "stdout",
     "output_type": "stream",
     "text": [
      "Found 3 ligands in the model \n",
      "Writing model file: /net/cci-filer3/home/cschlick/CryoEM-ReRefine-Ligands/Notebooks/data/ADP_D.map\n",
      "Writing map file: /net/cci-filer3/home/cschlick/CryoEM-ReRefine-Ligands/Notebooks/data/ADP_D.cif\n"
     ]
    },
    {
     "ename": "NameError",
     "evalue": "global name 'dm' is not defined",
     "output_type": "error",
     "traceback": [
      "\u001b[0;31m---------------------------------------------------------------------------\u001b[0m",
      "\u001b[0;31mNameError\u001b[0m                                 Traceback (most recent call last)",
      "\u001b[0;32m<ipython-input-9-577a14c8695a>\u001b[0m in \u001b[0;36m<module>\u001b[0;34m()\u001b[0m\n\u001b[0;32m----> 1\u001b[0;31m \u001b[0mligand_dict\u001b[0m\u001b[0;34m,\u001b[0m \u001b[0mccmask_values\u001b[0m \u001b[0;34m=\u001b[0m \u001b[0mligands_cc_from_mmm\u001b[0m\u001b[0;34m(\u001b[0m\u001b[0mmap_model_manager\u001b[0m\u001b[0;34m,\u001b[0m\u001b[0moutput_directory\u001b[0m\u001b[0;34m=\u001b[0m\u001b[0;34m\"data/\"\u001b[0m\u001b[0;34m)\u001b[0m\u001b[0;34m\u001b[0m\u001b[0m\n\u001b[0m",
      "\u001b[0;32m/net/cci-filer3/home/cschlick/CryoEM-ReRefine-Ligands/ligands_cc.py\u001b[0m in \u001b[0;36mligands_cc_from_mmm\u001b[0;34m(map_model_manager, resolution, output_directory, log)\u001b[0m\n\u001b[1;32m    155\u001b[0m       \u001b[0;32mprint\u001b[0m\u001b[0;34m(\u001b[0m\u001b[0;34m\"Writing model file: \"\u001b[0m \u001b[0;34m+\u001b[0m \u001b[0mligand_map_file\u001b[0m\u001b[0;34m,\u001b[0m \u001b[0mfile\u001b[0m\u001b[0;34m=\u001b[0m\u001b[0mlog\u001b[0m\u001b[0;34m)\u001b[0m\u001b[0;34m\u001b[0m\u001b[0m\n\u001b[1;32m    156\u001b[0m       \u001b[0;32mprint\u001b[0m\u001b[0;34m(\u001b[0m\u001b[0;34m\"Writing map file: \"\u001b[0m \u001b[0;34m+\u001b[0m \u001b[0mligand_model_file\u001b[0m\u001b[0;34m,\u001b[0m \u001b[0mfile\u001b[0m\u001b[0;34m=\u001b[0m\u001b[0mlog\u001b[0m\u001b[0;34m)\u001b[0m\u001b[0;34m\u001b[0m\u001b[0m\n\u001b[0;32m--> 157\u001b[0;31m       dm.write_model_file(mmmlig.model(),\n\u001b[0m\u001b[1;32m    158\u001b[0m                           \u001b[0mfilename\u001b[0m\u001b[0;34m=\u001b[0m\u001b[0mligand_model_file\u001b[0m\u001b[0;34m,\u001b[0m\u001b[0;34m\u001b[0m\u001b[0m\n\u001b[1;32m    159\u001b[0m                           \u001b[0mextension\u001b[0m\u001b[0;34m=\u001b[0m\u001b[0;34m\"cif\"\u001b[0m\u001b[0;34m,\u001b[0m\u001b[0;34m\u001b[0m\u001b[0m\n",
      "\u001b[0;31mNameError\u001b[0m: global name 'dm' is not defined"
     ]
    }
   ],
   "source": [
    "ligand_dict, ccmask_values = ligands_cc_from_mmm(map_model_manager,output_directory=\"data/\")"
   ]
  },
  {
   "cell_type": "code",
   "execution_count": null,
   "metadata": {},
   "outputs": [],
   "source": []
  }
 ],
 "metadata": {
  "kernelspec": {
   "display_name": "phenix",
   "language": "python",
   "name": "phenix"
  },
  "language_info": {
   "codemirror_mode": {
    "name": "ipython",
    "version": 2
   },
   "file_extension": ".py",
   "mimetype": "text/x-python",
   "name": "python",
   "nbconvert_exporter": "python",
   "pygments_lexer": "ipython2",
   "version": "2.7.15"
  }
 },
 "nbformat": 4,
 "nbformat_minor": 4
}
