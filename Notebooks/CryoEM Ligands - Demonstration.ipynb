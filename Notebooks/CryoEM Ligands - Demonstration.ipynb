{
 "cells": [
  {
   "cell_type": "code",
   "execution_count": 3,
   "metadata": {},
   "outputs": [],
   "source": [
    "from iotbx.map_manager import map_manager as MapManager\n",
    "from mmtbx.model import manager as ModelManager\n",
    "from iotbx.data_manager import DataManager\n",
    "from iotbx.map_model_manager import map_model_manager as MapModelManager\n",
    "\n",
    "import os\n",
    "import pickle\n",
    "import inspect"
   ]
  },
  {
   "cell_type": "code",
   "execution_count": 4,
   "metadata": {},
   "outputs": [],
   "source": [
    "import sys\n",
    "sys.path.append(\"../\")\n",
    "from ligands_cc import extract_ligand_models, ligands_cc_from_mmm"
   ]
  },
  {
   "cell_type": "markdown",
   "metadata": {},
   "source": [
    "## Get data from disk"
   ]
  },
  {
   "cell_type": "code",
   "execution_count": 6,
   "metadata": {},
   "outputs": [],
   "source": [
    "model_path = \"/net/cci/share/cryoem/maps_and_models/6f1u_4169/6f1u_4169.cif\"\n",
    "map_path = \"/net/cci/share/cryoem/maps_and_models/6f1u_4169/6f1u_4169.map\"\n",
    "group_args_entry = \"/net/cci/share/cryoem/maps_and_models/6f1u_4169/6f1u_4169.pkl\" # contains resolution\n",
    "with open(group_args_entry,\"rb\") as fh:\n",
    "    entry = pickle.load(fh)\n",
    "\n",
    "\n",
    "dm = DataManager()\n",
    "dm.process_model_file(model_path)\n",
    "dm.process_real_map_file(map_path)\n",
    "\n"
   ]
  },
  {
   "cell_type": "code",
   "execution_count": null,
   "metadata": {},
   "outputs": [],
   "source": [
    "map_manager = dm.get_real_map()\n",
    "map_manager.set_resolution(entry.resolution)\n",
    "map_model_manager = MapModelManager(map_manager=map_manager,model=dm.get_model())\n",
    "\n",
    "# this is necessary for cryo-em models without crystal symmetry\n",
    "if model.crystal_symmetry() is None:\n",
    "    from cctbx.maptbx.box import shift_and_box_model\n",
    "    model = shift_and_box_model(model)"
   ]
  }
 ],
 "metadata": {
  "kernelspec": {
   "display_name": "phenix",
   "language": "python",
   "name": "phenix"
  },
  "language_info": {
   "codemirror_mode": {
    "name": "ipython",
    "version": 2
   },
   "file_extension": ".py",
   "mimetype": "text/x-python",
   "name": "python",
   "nbconvert_exporter": "python",
   "pygments_lexer": "ipython2",
   "version": "2.7.15"
  }
 },
 "nbformat": 4,
 "nbformat_minor": 4
}
