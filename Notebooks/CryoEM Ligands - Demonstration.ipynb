{
 "cells": [
  {
   "cell_type": "code",
   "execution_count": 1,
   "metadata": {},
   "outputs": [],
   "source": [
    "from iotbx.map_manager import map_manager as MapManager\n",
    "from mmtbx.model import manager as ModelManager\n",
    "from iotbx.data_manager import DataManager\n",
    "from iotbx.map_model_manager import map_model_manager as MapModelManager\n",
    "\n",
    "import os\n",
    "import pickle\n",
    "import inspect"
   ]
  },
  {
   "cell_type": "code",
   "execution_count": 9,
   "metadata": {},
   "outputs": [],
   "source": [
    "from libtbx.test_utils import approx_equal"
   ]
  },
  {
   "cell_type": "code",
   "execution_count": 2,
   "metadata": {},
   "outputs": [],
   "source": [
    "from phenix.ligands_cc.ligands_cc import LigandsCC, LigandSelection"
   ]
  },
  {
   "cell_type": "code",
   "execution_count": 10,
   "metadata": {},
   "outputs": [],
   "source": [
    "model_file = \"../data/6qi8_4552/6qi8_4552.cif\"\n",
    "map_file = \"../data/6qi8_4552/6qi8_4552.map\"\n",
    "assert(os.path.exists(model_file))\n",
    "assert(os.path.exists(map_file))\n",
    "dm = DataManager()\n",
    "dm.process_model_file(model_file)\n",
    "dm.process_real_map_file(map_file)\n",
    "model = dm.get_model()\n",
    "\n",
    "# this is necessary for cryo-em models without crystal symmetry\n",
    "if model.crystal_symmetry() is None:\n",
    "    from cctbx.maptbx.box import shift_and_box_model\n",
    "    model = shift_and_box_model(model)\n",
    "\n",
    "mmm = MapModelManager(map_manager=dm.get_real_map(), model=dm.get_model())\n",
    "\n",
    "ligands_cc =  LigandsCC(mmm,resolution=3.5)\n",
    "ligands_cc.validate()\n",
    "assert(approx_equal(ligands_cc.ccmask_full_model,0.022970855944436454))\n",
    "\n"
   ]
  },
  {
   "cell_type": "code",
   "execution_count": 11,
   "metadata": {},
   "outputs": [],
   "source": [
    "ligands_cc.process_ligands()"
   ]
  },
  {
   "cell_type": "code",
   "execution_count": 16,
   "metadata": {},
   "outputs": [],
   "source": [
    "assert(len(ligands_cc.ligand_map_model_managers)==6)\n",
    "\n",
    "expected_ligand_ccmask = [\n",
    "    -0.080566400250404,\n",
    "     -0.05039665095274361,\n",
    "     0.02568153796222316,\n",
    "     -0.058698045705798986,\n",
    "     0.10242327846306232,\n",
    "     -0.07061912170822986]\n"
   ]
  },
  {
   "cell_type": "code",
   "execution_count": null,
   "metadata": {},
   "outputs": [],
   "source": [
    "for ccmask in expected_ligand_ccmask:\n",
    "    assert(approx_equal(ccmask,ligands_cc.cc))"
   ]
  },
  {
   "cell_type": "code",
   "execution_count": 12,
   "metadata": {},
   "outputs": [
    {
     "data": {
      "text/plain": [
       "[-0.080566400250404,\n",
       " -0.05039665095274361,\n",
       " 0.02568153796222316,\n",
       " -0.058698045705798986,\n",
       " 0.10242327846306232,\n",
       " -0.07061912170822986]"
      ]
     },
     "execution_count": 12,
     "metadata": {},
     "output_type": "execute_result"
    }
   ],
   "source": [
    "ligands_cc.ccmask_ligands"
   ]
  },
  {
   "cell_type": "markdown",
   "metadata": {},
   "source": [
    "## Get ligands out of a model"
   ]
  },
  {
   "cell_type": "code",
   "execution_count": 12,
   "metadata": {},
   "outputs": [],
   "source": [
    "mmm = dm.get_map_model_manager()"
   ]
  },
  {
   "cell_type": "code",
   "execution_count": 13,
   "metadata": {},
   "outputs": [],
   "source": [
    "ligands_cc = LigandsCC(mmm,resolution=3.4)"
   ]
  },
  {
   "cell_type": "code",
   "execution_count": 14,
   "metadata": {},
   "outputs": [],
   "source": [
    "ligands_cc.ccmask_full_model"
   ]
  },
  {
   "cell_type": "code",
   "execution_count": 15,
   "metadata": {},
   "outputs": [],
   "source": [
    "ligands_cc.process_ligands()"
   ]
  },
  {
   "cell_type": "code",
   "execution_count": 19,
   "metadata": {},
   "outputs": [
    {
     "data": {
      "text/plain": [
       "'/home/user/Dropbox/Phenix Start/CryoEM-ReRefine-Ligands/Notebooks'"
      ]
     },
     "execution_count": 19,
     "metadata": {},
     "output_type": "execute_result"
    }
   ],
   "source": [
    "os.getcwd()"
   ]
  },
  {
   "cell_type": "code",
   "execution_count": 24,
   "metadata": {},
   "outputs": [],
   "source": [
    "# write ouput\n",
    "output_dir = \"./\"\n",
    "\n",
    "for mmmlig in ligands_cc.ligand_map_model_managers:\n",
    "    ligand_name = LigandsCC.ligand_name(mmmlig.model())\n",
    "    ligand_model_file = os.path.join(output_dir,ligand_name)\n",
    "    ligand_map_file = os.path.join(output_dir,ligand_name+\".map\")\n",
    "    \n",
    "    dm.write_model_file(mmmlig.model(),\n",
    "                          filename=ligand_model_file,\n",
    "                          extension=\"cif\",\n",
    "                          overwrite=True)\n",
    "    \n",
    "    dm.write_real_map_file(mmmlig.map_manager(),\n",
    "                          filename=ligand_map_file,\n",
    "                          overwrite=True)"
   ]
  },
  {
   "cell_type": "code",
   "execution_count": 25,
   "metadata": {},
   "outputs": [],
   "source": [
    "ligands_cc.validate()   "
   ]
  },
  {
   "cell_type": "code",
   "execution_count": 21,
   "metadata": {},
   "outputs": [
    {
     "ename": "NameError",
     "evalue": "name 'mmmlig' is not defined",
     "output_type": "error",
     "traceback": [
      "\u001b[0;31m---------------------------------------------------------------------------\u001b[0m",
      "\u001b[0;31mNameError\u001b[0m                                 Traceback (most recent call last)",
      "\u001b[0;32m<ipython-input-21-7f7bd9b6eb65>\u001b[0m in \u001b[0;36m<module>\u001b[0;34m()\u001b[0m\n\u001b[0;32m----> 1\u001b[0;31m \u001b[0mligand_id_tuple\u001b[0m\u001b[0;34m(\u001b[0m\u001b[0mmmmlig\u001b[0m\u001b[0;34m.\u001b[0m\u001b[0mmodel\u001b[0m\u001b[0;34m(\u001b[0m\u001b[0;34m)\u001b[0m\u001b[0;34m)\u001b[0m\u001b[0;34m\u001b[0m\u001b[0m\n\u001b[0m",
      "\u001b[0;31mNameError\u001b[0m: name 'mmmlig' is not defined"
     ]
    }
   ],
   "source": []
  },
  {
   "cell_type": "code",
   "execution_count": null,
   "metadata": {},
   "outputs": [],
   "source": []
  },
  {
   "cell_type": "markdown",
   "metadata": {},
   "source": [
    "## Get ligand density maps and calculate CCmask"
   ]
  },
  {
   "cell_type": "code",
   "execution_count": 9,
   "metadata": {},
   "outputs": [
    {
     "name": "stdout",
     "output_type": "stream",
     "text": [
      "Found 3 ligands in the model \n"
     ]
    }
   ],
   "source": [
    "map_manager = dm.get_real_map()\n",
    "map_manager.set_resolution(entry.resolution)\n",
    "map_model_manager = MapModelManager(map_manager=map_manager,model=dm.get_model())\n",
    "\n",
    "ligand_dict, ccmask_values = ligands_cc_from_mmm(map_model_manager)"
   ]
  },
  {
   "cell_type": "code",
   "execution_count": 10,
   "metadata": {},
   "outputs": [
    {
     "name": "stdout",
     "output_type": "stream",
     "text": [
      "[0.820752074164057, 0.8099958071989116, 0.8403064511105527]\n"
     ]
    }
   ],
   "source": [
    "print(ccmask_values)"
   ]
  },
  {
   "cell_type": "markdown",
   "metadata": {},
   "source": [
    "## Optionally write to disk"
   ]
  },
  {
   "cell_type": "code",
   "execution_count": 12,
   "metadata": {},
   "outputs": [
    {
     "name": "stdout",
     "output_type": "stream",
     "text": [
      "Found 3 ligands in the model \n",
      "Writing model file: /net/cci-filer3/home/cschlick/CryoEM-ReRefine-Ligands/data/ADP_D.map\n",
      "Writing map file: /net/cci-filer3/home/cschlick/CryoEM-ReRefine-Ligands/data/ADP_D.cif\n",
      "Writing model file: /net/cci-filer3/home/cschlick/CryoEM-ReRefine-Ligands/data/ADP_F.map\n",
      "Writing map file: /net/cci-filer3/home/cschlick/CryoEM-ReRefine-Ligands/data/ADP_F.cif\n",
      "Writing model file: /net/cci-filer3/home/cschlick/CryoEM-ReRefine-Ligands/data/ADP_B.map\n",
      "Writing map file: /net/cci-filer3/home/cschlick/CryoEM-ReRefine-Ligands/data/ADP_B.cif\n"
     ]
    }
   ],
   "source": [
    "ligand_dict, ccmask_values = ligands_cc_from_mmm(map_model_manager,\n",
    "                                                 output_directory=\"../data/\")"
   ]
  },
  {
   "cell_type": "code",
   "execution_count": null,
   "metadata": {},
   "outputs": [],
   "source": []
  },
  {
   "cell_type": "code",
   "execution_count": null,
   "metadata": {},
   "outputs": [],
   "source": []
  }
 ],
 "metadata": {
  "kernelspec": {
   "display_name": "phenix",
   "language": "python",
   "name": "phenix"
  },
  "language_info": {
   "codemirror_mode": {
    "name": "ipython",
    "version": 2
   },
   "file_extension": ".py",
   "mimetype": "text/x-python",
   "name": "python",
   "nbconvert_exporter": "python",
   "pygments_lexer": "ipython2",
   "version": "2.7.15"
  }
 },
 "nbformat": 4,
 "nbformat_minor": 4
}
