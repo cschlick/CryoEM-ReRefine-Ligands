{
 "cells": [
  {
   "cell_type": "code",
   "execution_count": 1,
   "metadata": {},
   "outputs": [],
   "source": [
    "from iotbx.data_manager import DataManager\n",
    "from iotbx.map_model_manager import map_model_manager as MapModelManager\n",
    "from libtbx.test_utils import approx_equal"
   ]
  },
  {
   "cell_type": "code",
   "execution_count": 2,
   "metadata": {},
   "outputs": [],
   "source": [
    "from phenix.programs.ligands_cc import LigandsCC, LigandSelection"
   ]
  },
  {
   "cell_type": "markdown",
   "metadata": {},
   "source": [
    "# FileIO"
   ]
  },
  {
   "cell_type": "code",
   "execution_count": 10,
   "metadata": {},
   "outputs": [],
   "source": [
    "model_file = \"../data/6qi8_4552/6qi8_4552.cif\"\n",
    "map_file = \"../data/6qi8_4552/6qi8_4552.map\"\n",
    "assert(os.path.exists(model_file))\n",
    "assert(os.path.exists(map_file))\n",
    "dm = DataManager()\n",
    "dm.process_model_file(model_file)\n",
    "dm.process_real_map_file(map_file)\n",
    "model = dm.get_model()\n",
    "\n",
    "# this is necessary for cryo-em models without crystal symmetry\n",
    "if model.crystal_symmetry() is None:\n",
    "    from cctbx.maptbx.box import shift_and_box_model\n",
    "    model = shift_and_box_model(model)\n",
    "\n",
    "mmm = MapModelManager(map_manager=dm.get_real_map(), model=dm.get_model())\n"
   ]
  },
  {
   "cell_type": "markdown",
   "metadata": {},
   "source": [
    "# Ligand processing"
   ]
  },
  {
   "cell_type": "code",
   "execution_count": 22,
   "metadata": {},
   "outputs": [
    {
     "name": "stdout",
     "output_type": "stream",
     "text": [
      "0.0229708559444\n"
     ]
    }
   ],
   "source": [
    "# Instantiate the class\n",
    "ligands_cc = LigandsCC(mmm, resolution=3.5) \n",
    "\n",
    "# The validation function calculates whole map/model CCmask\n",
    "ligands_cc.validate()\n",
    "print(ligands_cc.ccmask_full_model)"
   ]
  },
  {
   "cell_type": "code",
   "execution_count": 23,
   "metadata": {},
   "outputs": [
    {
     "name": "stdout",
     "output_type": "stream",
     "text": [
      "[-0.080566400250404, -0.05039665095274361, 0.02568153796222316, -0.058698045705798986, 0.10242327846306232, -0.07061912170822986]\n"
     ]
    }
   ],
   "source": [
    "# extract ligands and calculate ligand ccmask\n",
    "ligands_cc.process_ligands()\n",
    "print(ligands_cc.ccmask_ligands)"
   ]
  },
  {
   "cell_type": "code",
   "execution_count": 40,
   "metadata": {},
   "outputs": [
    {
     "name": "stdout",
     "output_type": "stream",
     "text": [
      "ADP\n"
     ]
    }
   ],
   "source": [
    "# optionally manipulate ligands\n",
    "ligand_models = [mmmlig.model() for mmmlig in ligands_cc.ligand_map_model_managers]\n",
    "ligand0 = ligand_models[0]\n",
    "for rg in ligand0.get_hierarchy().residue_groups():\n",
    "    print(rg.unique_resnames()[0])"
   ]
  },
  {
   "cell_type": "markdown",
   "metadata": {},
   "source": [
    "## Write output"
   ]
  },
  {
   "cell_type": "code",
   "execution_count": 24,
   "metadata": {},
   "outputs": [],
   "source": [
    "# write ouput\n",
    "output_dir = \"../data/output\"\n",
    "\n",
    "for mmmlig in ligands_cc.ligand_map_model_managers:\n",
    "    ligand_name = LigandsCC.ligand_name(mmmlig.model())\n",
    "    ligand_model_file = os.path.join(output_dir,ligand_name)\n",
    "    ligand_map_file = os.path.join(output_dir,ligand_name+\".map\")\n",
    "    \n",
    "    dm.write_model_file(mmmlig.model(),\n",
    "                          filename=ligand_model_file,\n",
    "                          extension=\"cif\",\n",
    "                          overwrite=True)\n",
    "    \n",
    "    dm.write_real_map_file(mmmlig.map_manager(),\n",
    "                          filename=ligand_map_file,\n",
    "                          overwrite=True)"
   ]
  },
  {
   "cell_type": "code",
   "execution_count": null,
   "metadata": {},
   "outputs": [],
   "source": []
  },
  {
   "cell_type": "code",
   "execution_count": null,
   "metadata": {},
   "outputs": [],
   "source": []
  }
 ],
 "metadata": {
  "kernelspec": {
   "display_name": "phenix",
   "language": "python",
   "name": "phenix"
  },
  "language_info": {
   "codemirror_mode": {
    "name": "ipython",
    "version": 2
   },
   "file_extension": ".py",
   "mimetype": "text/x-python",
   "name": "python",
   "nbconvert_exporter": "python",
   "pygments_lexer": "ipython2",
   "version": "2.7.15"
  }
 },
 "nbformat": 4,
 "nbformat_minor": 4
}
